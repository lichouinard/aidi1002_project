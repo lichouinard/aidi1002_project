{
  "cells": [
    {
      "cell_type": "markdown",
      "metadata": {
        "id": "view-in-github",
        "colab_type": "text"
      },
      "source": [
        "<a href=\"https://colab.research.google.com/github/lichouinard/aidi1002_project/blob/main/intentRecognition.ipynb\" target=\"_parent\"><img src=\"https://colab.research.google.com/assets/colab-badge.svg\" alt=\"Open In Colab\"/></a>"
      ]
    },
    {
      "cell_type": "markdown",
      "metadata": {
        "id": "W5orBbC18gPQ"
      },
      "source": [
        "# Introduction:\n",
        "\n",
        "For intent recognition in NLP, we can use machine learning models to classify user inputs into predefined intents. Here we will use a neural network model to build and train a simple intent recognition model using TensorFlow and Keras.\n",
        "\n",
        "### Import all the necessary libraries and functions:"
      ]
    },
    {
      "cell_type": "code",
      "execution_count": null,
      "metadata": {
        "colab": {
          "base_uri": "https://localhost:8080/"
        },
        "id": "CLeXChqkNnXG",
        "outputId": "80d6c351-14f4-4253-e51a-7f4d93db4d6c"
      },
      "outputs": [
        {
          "output_type": "stream",
          "name": "stdout",
          "text": [
            "2.15.0\n"
          ]
        },
        {
          "output_type": "stream",
          "name": "stderr",
          "text": [
            "[nltk_data] Downloading package stopwords to /root/nltk_data...\n",
            "[nltk_data]   Unzipping corpora/stopwords.zip.\n",
            "[nltk_data] Downloading package punkt to /root/nltk_data...\n",
            "[nltk_data]   Unzipping tokenizers/punkt.zip.\n"
          ]
        }
      ],
      "source": [
        "import json\n",
        "import numpy as np\n",
        "import tensorflow as tf\n",
        "print(tf.__version__)\n",
        "from tensorflow import keras\n",
        "from keras.models import Sequential\n",
        "from keras.layers import Dense, Dropout, Embedding, SimpleRNN, GRU, LSTM\n",
        "from keras.preprocessing.sequence import pad_sequences\n",
        "from tensorflow.keras.preprocessing.text import Tokenizer\n",
        "\n",
        "from sklearn.preprocessing import LabelEncoder\n",
        "import nltk\n",
        "from nltk.corpus import stopwords\n",
        "\n",
        "nltk.download('stopwords')\n",
        "nltk.download('punkt')\n",
        "from transformers import BertConfig, AutoTokenizer, TFAutoModelForSequenceClassification\n",
        "import matplotlib.pyplot as plt"
      ]
    },
    {
      "cell_type": "markdown",
      "metadata": {
        "id": "-Ton1z6c81DN"
      },
      "source": [
        "# Prepare the Dataset\n",
        "This model uses intent classification dataset from Kaggle:\n",
        "https://www.kaggle.com/datasets/stefanlarson/outofscope-intent-classification-dataset/data\n",
        "\n",
        "Content\n",
        "\n",
        "  is_train.json,is_val.json, is_test.json: these files house the train/val/test sets for the in-scope data. There are 150 in-scope \"intents\" (aka classes), which include samples such as \"what is my balance\" (which belongs to the balance class).\n",
        "\n",
        "  oos_test.json:test sets for the out-of-scope data. There is one out-of-scope intent: oos"
      ]
    },
    {
      "cell_type": "code",
      "execution_count": null,
      "metadata": {
        "colab": {
          "base_uri": "https://localhost:8080/",
          "height": 177
        },
        "id": "eABN2NtGq6pu",
        "outputId": "8c3537b1-6497-4306-933d-3955365de8c1"
      },
      "outputs": [
        {
          "output_type": "display_data",
          "data": {
            "text/plain": [
              "<IPython.core.display.HTML object>"
            ],
            "text/html": [
              "\n",
              "     <input type=\"file\" id=\"files-ed1d44cf-7f77-450b-bd0e-32d433358e01\" name=\"files[]\" multiple disabled\n",
              "        style=\"border:none\" />\n",
              "     <output id=\"result-ed1d44cf-7f77-450b-bd0e-32d433358e01\">\n",
              "      Upload widget is only available when the cell has been executed in the\n",
              "      current browser session. Please rerun this cell to enable.\n",
              "      </output>\n",
              "      <script>// Copyright 2017 Google LLC\n",
              "//\n",
              "// Licensed under the Apache License, Version 2.0 (the \"License\");\n",
              "// you may not use this file except in compliance with the License.\n",
              "// You may obtain a copy of the License at\n",
              "//\n",
              "//      http://www.apache.org/licenses/LICENSE-2.0\n",
              "//\n",
              "// Unless required by applicable law or agreed to in writing, software\n",
              "// distributed under the License is distributed on an \"AS IS\" BASIS,\n",
              "// WITHOUT WARRANTIES OR CONDITIONS OF ANY KIND, either express or implied.\n",
              "// See the License for the specific language governing permissions and\n",
              "// limitations under the License.\n",
              "\n",
              "/**\n",
              " * @fileoverview Helpers for google.colab Python module.\n",
              " */\n",
              "(function(scope) {\n",
              "function span(text, styleAttributes = {}) {\n",
              "  const element = document.createElement('span');\n",
              "  element.textContent = text;\n",
              "  for (const key of Object.keys(styleAttributes)) {\n",
              "    element.style[key] = styleAttributes[key];\n",
              "  }\n",
              "  return element;\n",
              "}\n",
              "\n",
              "// Max number of bytes which will be uploaded at a time.\n",
              "const MAX_PAYLOAD_SIZE = 100 * 1024;\n",
              "\n",
              "function _uploadFiles(inputId, outputId) {\n",
              "  const steps = uploadFilesStep(inputId, outputId);\n",
              "  const outputElement = document.getElementById(outputId);\n",
              "  // Cache steps on the outputElement to make it available for the next call\n",
              "  // to uploadFilesContinue from Python.\n",
              "  outputElement.steps = steps;\n",
              "\n",
              "  return _uploadFilesContinue(outputId);\n",
              "}\n",
              "\n",
              "// This is roughly an async generator (not supported in the browser yet),\n",
              "// where there are multiple asynchronous steps and the Python side is going\n",
              "// to poll for completion of each step.\n",
              "// This uses a Promise to block the python side on completion of each step,\n",
              "// then passes the result of the previous step as the input to the next step.\n",
              "function _uploadFilesContinue(outputId) {\n",
              "  const outputElement = document.getElementById(outputId);\n",
              "  const steps = outputElement.steps;\n",
              "\n",
              "  const next = steps.next(outputElement.lastPromiseValue);\n",
              "  return Promise.resolve(next.value.promise).then((value) => {\n",
              "    // Cache the last promise value to make it available to the next\n",
              "    // step of the generator.\n",
              "    outputElement.lastPromiseValue = value;\n",
              "    return next.value.response;\n",
              "  });\n",
              "}\n",
              "\n",
              "/**\n",
              " * Generator function which is called between each async step of the upload\n",
              " * process.\n",
              " * @param {string} inputId Element ID of the input file picker element.\n",
              " * @param {string} outputId Element ID of the output display.\n",
              " * @return {!Iterable<!Object>} Iterable of next steps.\n",
              " */\n",
              "function* uploadFilesStep(inputId, outputId) {\n",
              "  const inputElement = document.getElementById(inputId);\n",
              "  inputElement.disabled = false;\n",
              "\n",
              "  const outputElement = document.getElementById(outputId);\n",
              "  outputElement.innerHTML = '';\n",
              "\n",
              "  const pickedPromise = new Promise((resolve) => {\n",
              "    inputElement.addEventListener('change', (e) => {\n",
              "      resolve(e.target.files);\n",
              "    });\n",
              "  });\n",
              "\n",
              "  const cancel = document.createElement('button');\n",
              "  inputElement.parentElement.appendChild(cancel);\n",
              "  cancel.textContent = 'Cancel upload';\n",
              "  const cancelPromise = new Promise((resolve) => {\n",
              "    cancel.onclick = () => {\n",
              "      resolve(null);\n",
              "    };\n",
              "  });\n",
              "\n",
              "  // Wait for the user to pick the files.\n",
              "  const files = yield {\n",
              "    promise: Promise.race([pickedPromise, cancelPromise]),\n",
              "    response: {\n",
              "      action: 'starting',\n",
              "    }\n",
              "  };\n",
              "\n",
              "  cancel.remove();\n",
              "\n",
              "  // Disable the input element since further picks are not allowed.\n",
              "  inputElement.disabled = true;\n",
              "\n",
              "  if (!files) {\n",
              "    return {\n",
              "      response: {\n",
              "        action: 'complete',\n",
              "      }\n",
              "    };\n",
              "  }\n",
              "\n",
              "  for (const file of files) {\n",
              "    const li = document.createElement('li');\n",
              "    li.append(span(file.name, {fontWeight: 'bold'}));\n",
              "    li.append(span(\n",
              "        `(${file.type || 'n/a'}) - ${file.size} bytes, ` +\n",
              "        `last modified: ${\n",
              "            file.lastModifiedDate ? file.lastModifiedDate.toLocaleDateString() :\n",
              "                                    'n/a'} - `));\n",
              "    const percent = span('0% done');\n",
              "    li.appendChild(percent);\n",
              "\n",
              "    outputElement.appendChild(li);\n",
              "\n",
              "    const fileDataPromise = new Promise((resolve) => {\n",
              "      const reader = new FileReader();\n",
              "      reader.onload = (e) => {\n",
              "        resolve(e.target.result);\n",
              "      };\n",
              "      reader.readAsArrayBuffer(file);\n",
              "    });\n",
              "    // Wait for the data to be ready.\n",
              "    let fileData = yield {\n",
              "      promise: fileDataPromise,\n",
              "      response: {\n",
              "        action: 'continue',\n",
              "      }\n",
              "    };\n",
              "\n",
              "    // Use a chunked sending to avoid message size limits. See b/62115660.\n",
              "    let position = 0;\n",
              "    do {\n",
              "      const length = Math.min(fileData.byteLength - position, MAX_PAYLOAD_SIZE);\n",
              "      const chunk = new Uint8Array(fileData, position, length);\n",
              "      position += length;\n",
              "\n",
              "      const base64 = btoa(String.fromCharCode.apply(null, chunk));\n",
              "      yield {\n",
              "        response: {\n",
              "          action: 'append',\n",
              "          file: file.name,\n",
              "          data: base64,\n",
              "        },\n",
              "      };\n",
              "\n",
              "      let percentDone = fileData.byteLength === 0 ?\n",
              "          100 :\n",
              "          Math.round((position / fileData.byteLength) * 100);\n",
              "      percent.textContent = `${percentDone}% done`;\n",
              "\n",
              "    } while (position < fileData.byteLength);\n",
              "  }\n",
              "\n",
              "  // All done.\n",
              "  yield {\n",
              "    response: {\n",
              "      action: 'complete',\n",
              "    }\n",
              "  };\n",
              "}\n",
              "\n",
              "scope.google = scope.google || {};\n",
              "scope.google.colab = scope.google.colab || {};\n",
              "scope.google.colab._files = {\n",
              "  _uploadFiles,\n",
              "  _uploadFilesContinue,\n",
              "};\n",
              "})(self);\n",
              "</script> "
            ]
          },
          "metadata": {}
        },
        {
          "output_type": "stream",
          "name": "stdout",
          "text": [
            "Saving is_test.json to is_test.json\n",
            "Saving is_train.json to is_train.json\n",
            "Saving is_val.json to is_val.json\n",
            "Saving oos_test.json to oos_test.json\n"
          ]
        }
      ],
      "source": [
        "import io\n",
        "import pandas as pd\n",
        "from google.colab import files\n",
        "uploaded = files.upload()"
      ]
    },
    {
      "cell_type": "code",
      "execution_count": null,
      "metadata": {
        "id": "4dd7RMMBtsXP"
      },
      "outputs": [],
      "source": [
        "PATH_TO_TRAIN_DS = \"/content/is_train.json\"\n",
        "PATH_TO_VALID_DS = \"/content/is_val.json\"\n",
        "PATH_TO_TEST_DS = \"/content/is_test.json\"\n",
        "PATH_TO_OOS_DATA = \"/content/oos_test.json\"\n",
        "\n",
        "tf.random.set_seed(42)"
      ]
    },
    {
      "cell_type": "code",
      "execution_count": null,
      "metadata": {
        "id": "A_HaK_HtzbeD"
      },
      "outputs": [],
      "source": [
        "train = np.array(json.load(open(PATH_TO_TRAIN_DS, 'r')))\n",
        "val = np.array(json.load(open(PATH_TO_VALID_DS, 'r')))\n",
        "test = np.array(json.load(open(PATH_TO_TEST_DS, 'r')))\n",
        "oos = np.array(json.load(open(PATH_TO_OOS_DATA, 'r')))"
      ]
    },
    {
      "cell_type": "code",
      "execution_count": null,
      "metadata": {
        "colab": {
          "base_uri": "https://localhost:8080/"
        },
        "id": "poVno7Zqr1i5",
        "outputId": "2ff76b98-4573-4904-aad7-369148584699"
      },
      "outputs": [
        {
          "data": {
            "text/plain": [
              "array(['translate', 'translate', 'translate', ..., 'card_declined',\n",
              "       'card_declined', 'card_declined'], dtype='<U136')"
            ]
          },
          "execution_count": 6,
          "metadata": {},
          "output_type": "execute_result"
        }
      ],
      "source": [
        "train[:,1]"
      ]
    },
    {
      "cell_type": "code",
      "execution_count": null,
      "metadata": {
        "id": "xwFj_19Hr8J-"
      },
      "outputs": [],
      "source": [
        "data_train = pd.DataFrame({\n",
        "    'text' : train[:,0],\n",
        "    'label': train[:,1]\n",
        "})\n",
        "data_val = pd.DataFrame({\n",
        "    'text' : val[:,0],\n",
        "    'label': val[:,1]\n",
        "})\n",
        "data_test = pd.DataFrame({\n",
        "    'text' : test[:,0],\n",
        "    'label': test[:,1]\n",
        "})\n",
        "data_oos = pd.DataFrame({\n",
        "    'text' : oos[:,0],\n",
        "    'label': oos[:,1]\n",
        "})"
      ]
    },
    {
      "cell_type": "code",
      "execution_count": null,
      "metadata": {
        "colab": {
          "base_uri": "https://localhost:8080/"
        },
        "id": "0ZDgB9kjsA9e",
        "outputId": "5dce3318-9d8c-40af-ea75-fd95e3105a88"
      },
      "outputs": [
        {
          "data": {
            "text/plain": [
              "0                in spanish, meet me tomorrow is said how\n",
              "1                  in french, how do i say, see you later\n",
              "2                        how do you say hello in japanese\n",
              "3               how do i ask about the weather in chinese\n",
              "4               how can i say \"cancel my order\" in french\n",
              "                              ...                        \n",
              "2995    i was at walmart trying to buy toilet paper an...\n",
              "2996         target declined my card and i don't know why\n",
              "2997    do you know why my card was declined at target...\n",
              "2998    i can't figure out why my card was declined at...\n",
              "2999    i was just at target and they declined my card...\n",
              "Name: text, Length: 3000, dtype: object"
            ]
          },
          "execution_count": 8,
          "metadata": {},
          "output_type": "execute_result"
        }
      ],
      "source": [
        "data_val[\"text\"]"
      ]
    },
    {
      "cell_type": "code",
      "execution_count": null,
      "metadata": {
        "colab": {
          "base_uri": "https://localhost:8080/"
        },
        "id": "1L0Le_4MsJ5N",
        "outputId": "f77946c8-d7d2-4b77-a726-9b31dda21494"
      },
      "outputs": [
        {
          "output_type": "stream",
          "name": "stdout",
          "text": [
            "Number of classes: 150\n"
          ]
        }
      ],
      "source": [
        "labels = np.sort(np.unique(train[:,1]))\n",
        "label_to_id = {label:i for i,label in enumerate(labels)}\n",
        "id_to_label = {i:label for i,label in enumerate(labels)}\n",
        "num_classes = len(labels)\n",
        "print(f\"Number of classes: {num_classes}\")"
      ]
    },
    {
      "cell_type": "code",
      "execution_count": null,
      "metadata": {
        "colab": {
          "base_uri": "https://localhost:8080/",
          "height": 35
        },
        "id": "kOXpDZ2KsNkV",
        "outputId": "90ef576b-3d81-44d1-a599-a9dfe7c3b243"
      },
      "outputs": [
        {
          "data": {
            "application/vnd.google.colaboratory.intrinsic+json": {
              "type": "string"
            },
            "text/plain": [
              "'taxes'"
            ]
          },
          "execution_count": 10,
          "metadata": {},
          "output_type": "execute_result"
        }
      ],
      "source": [
        "id_to_label[np.random.randint(150)]"
      ]
    },
    {
      "cell_type": "markdown",
      "metadata": {
        "id": "rDH5PxxM9mKT"
      },
      "source": [
        "Tokenize the text patterns and pad the sequences to ensure uniform input shape.\n",
        "\n",
        "Encode the intent labels and convert them to categorical one-hot encoding."
      ]
    },
    {
      "cell_type": "code",
      "execution_count": null,
      "metadata": {
        "id": "QV0DomS-tBlX"
      },
      "outputs": [],
      "source": [
        "# text processing\n",
        "from keras.utils import to_categorical\n",
        "tokenizer = Tokenizer(num_words=100, oov_token=\"<OOV>\")\n",
        "tokenizer.fit_on_texts(data_train['text'])\n",
        "sequences = tokenizer.texts_to_sequences(data_train['text'])\n",
        "max_length = 28\n",
        "train_sequences = pad_sequences(sequences, padding='post', maxlen=max_length)\n",
        "\n",
        "\n",
        "# Encode labels into integer numeric values\n",
        "label_encoder = LabelEncoder()\n",
        "train_labels_encoded = label_encoder.fit_transform(data_train['label'])\n",
        "\n",
        "# Convert encoded labels to one-hot encoding\n",
        "train_labels = to_categorical(train_labels_encoded, num_classes)"
      ]
    },
    {
      "cell_type": "code",
      "execution_count": null,
      "metadata": {
        "colab": {
          "base_uri": "https://localhost:8080/",
          "height": 206
        },
        "id": "vtLZ-Euwgngs",
        "outputId": "d3a16308-d905-496d-d6fa-bcce67ac08ea"
      },
      "outputs": [
        {
          "data": {
            "application/vnd.google.colaboratory.intrinsic+json": {
              "summary": "{\n  \"name\": \"data_oos\",\n  \"rows\": 1000,\n  \"fields\": [\n    {\n      \"column\": \"text\",\n      \"properties\": {\n        \"dtype\": \"string\",\n        \"num_unique_values\": 1000,\n        \"samples\": [\n          \"can you colorize a black and white photo\",\n          \"accept incoming phone call\",\n          \"what do i put on my feet\"\n        ],\n        \"semantic_type\": \"\",\n        \"description\": \"\"\n      }\n    },\n    {\n      \"column\": \"label\",\n      \"properties\": {\n        \"dtype\": \"category\",\n        \"num_unique_values\": 1,\n        \"samples\": [\n          \"oos\"\n        ],\n        \"semantic_type\": \"\",\n        \"description\": \"\"\n      }\n    }\n  ]\n}",
              "type": "dataframe",
              "variable_name": "data_oos"
            },
            "text/html": [
              "\n",
              "  <div id=\"df-697952e5-435b-45c0-9368-a80a5fdb64c7\" class=\"colab-df-container\">\n",
              "    <div>\n",
              "<style scoped>\n",
              "    .dataframe tbody tr th:only-of-type {\n",
              "        vertical-align: middle;\n",
              "    }\n",
              "\n",
              "    .dataframe tbody tr th {\n",
              "        vertical-align: top;\n",
              "    }\n",
              "\n",
              "    .dataframe thead th {\n",
              "        text-align: right;\n",
              "    }\n",
              "</style>\n",
              "<table border=\"1\" class=\"dataframe\">\n",
              "  <thead>\n",
              "    <tr style=\"text-align: right;\">\n",
              "      <th></th>\n",
              "      <th>text</th>\n",
              "      <th>label</th>\n",
              "    </tr>\n",
              "  </thead>\n",
              "  <tbody>\n",
              "    <tr>\n",
              "      <th>0</th>\n",
              "      <td>how much has the dow changed today</td>\n",
              "      <td>oos</td>\n",
              "    </tr>\n",
              "    <tr>\n",
              "      <th>1</th>\n",
              "      <td>how many prime numbers are there between 0 and...</td>\n",
              "      <td>oos</td>\n",
              "    </tr>\n",
              "    <tr>\n",
              "      <th>2</th>\n",
              "      <td>can you tell me how to solve simple algebraic ...</td>\n",
              "      <td>oos</td>\n",
              "    </tr>\n",
              "    <tr>\n",
              "      <th>3</th>\n",
              "      <td>can you dim the brightness of my screen</td>\n",
              "      <td>oos</td>\n",
              "    </tr>\n",
              "    <tr>\n",
              "      <th>4</th>\n",
              "      <td>what is the account number to the internet ser...</td>\n",
              "      <td>oos</td>\n",
              "    </tr>\n",
              "  </tbody>\n",
              "</table>\n",
              "</div>\n",
              "    <div class=\"colab-df-buttons\">\n",
              "\n",
              "  <div class=\"colab-df-container\">\n",
              "    <button class=\"colab-df-convert\" onclick=\"convertToInteractive('df-697952e5-435b-45c0-9368-a80a5fdb64c7')\"\n",
              "            title=\"Convert this dataframe to an interactive table.\"\n",
              "            style=\"display:none;\">\n",
              "\n",
              "  <svg xmlns=\"http://www.w3.org/2000/svg\" height=\"24px\" viewBox=\"0 -960 960 960\">\n",
              "    <path d=\"M120-120v-720h720v720H120Zm60-500h600v-160H180v160Zm220 220h160v-160H400v160Zm0 220h160v-160H400v160ZM180-400h160v-160H180v160Zm440 0h160v-160H620v160ZM180-180h160v-160H180v160Zm440 0h160v-160H620v160Z\"/>\n",
              "  </svg>\n",
              "    </button>\n",
              "\n",
              "  <style>\n",
              "    .colab-df-container {\n",
              "      display:flex;\n",
              "      gap: 12px;\n",
              "    }\n",
              "\n",
              "    .colab-df-convert {\n",
              "      background-color: #E8F0FE;\n",
              "      border: none;\n",
              "      border-radius: 50%;\n",
              "      cursor: pointer;\n",
              "      display: none;\n",
              "      fill: #1967D2;\n",
              "      height: 32px;\n",
              "      padding: 0 0 0 0;\n",
              "      width: 32px;\n",
              "    }\n",
              "\n",
              "    .colab-df-convert:hover {\n",
              "      background-color: #E2EBFA;\n",
              "      box-shadow: 0px 1px 2px rgba(60, 64, 67, 0.3), 0px 1px 3px 1px rgba(60, 64, 67, 0.15);\n",
              "      fill: #174EA6;\n",
              "    }\n",
              "\n",
              "    .colab-df-buttons div {\n",
              "      margin-bottom: 4px;\n",
              "    }\n",
              "\n",
              "    [theme=dark] .colab-df-convert {\n",
              "      background-color: #3B4455;\n",
              "      fill: #D2E3FC;\n",
              "    }\n",
              "\n",
              "    [theme=dark] .colab-df-convert:hover {\n",
              "      background-color: #434B5C;\n",
              "      box-shadow: 0px 1px 3px 1px rgba(0, 0, 0, 0.15);\n",
              "      filter: drop-shadow(0px 1px 2px rgba(0, 0, 0, 0.3));\n",
              "      fill: #FFFFFF;\n",
              "    }\n",
              "  </style>\n",
              "\n",
              "    <script>\n",
              "      const buttonEl =\n",
              "        document.querySelector('#df-697952e5-435b-45c0-9368-a80a5fdb64c7 button.colab-df-convert');\n",
              "      buttonEl.style.display =\n",
              "        google.colab.kernel.accessAllowed ? 'block' : 'none';\n",
              "\n",
              "      async function convertToInteractive(key) {\n",
              "        const element = document.querySelector('#df-697952e5-435b-45c0-9368-a80a5fdb64c7');\n",
              "        const dataTable =\n",
              "          await google.colab.kernel.invokeFunction('convertToInteractive',\n",
              "                                                    [key], {});\n",
              "        if (!dataTable) return;\n",
              "\n",
              "        const docLinkHtml = 'Like what you see? Visit the ' +\n",
              "          '<a target=\"_blank\" href=https://colab.research.google.com/notebooks/data_table.ipynb>data table notebook</a>'\n",
              "          + ' to learn more about interactive tables.';\n",
              "        element.innerHTML = '';\n",
              "        dataTable['output_type'] = 'display_data';\n",
              "        await google.colab.output.renderOutput(dataTable, element);\n",
              "        const docLink = document.createElement('div');\n",
              "        docLink.innerHTML = docLinkHtml;\n",
              "        element.appendChild(docLink);\n",
              "      }\n",
              "    </script>\n",
              "  </div>\n",
              "\n",
              "\n",
              "<div id=\"df-eea9098c-69ac-4f42-aa6b-c49afe17e777\">\n",
              "  <button class=\"colab-df-quickchart\" onclick=\"quickchart('df-eea9098c-69ac-4f42-aa6b-c49afe17e777')\"\n",
              "            title=\"Suggest charts\"\n",
              "            style=\"display:none;\">\n",
              "\n",
              "<svg xmlns=\"http://www.w3.org/2000/svg\" height=\"24px\"viewBox=\"0 0 24 24\"\n",
              "     width=\"24px\">\n",
              "    <g>\n",
              "        <path d=\"M19 3H5c-1.1 0-2 .9-2 2v14c0 1.1.9 2 2 2h14c1.1 0 2-.9 2-2V5c0-1.1-.9-2-2-2zM9 17H7v-7h2v7zm4 0h-2V7h2v10zm4 0h-2v-4h2v4z\"/>\n",
              "    </g>\n",
              "</svg>\n",
              "  </button>\n",
              "\n",
              "<style>\n",
              "  .colab-df-quickchart {\n",
              "      --bg-color: #E8F0FE;\n",
              "      --fill-color: #1967D2;\n",
              "      --hover-bg-color: #E2EBFA;\n",
              "      --hover-fill-color: #174EA6;\n",
              "      --disabled-fill-color: #AAA;\n",
              "      --disabled-bg-color: #DDD;\n",
              "  }\n",
              "\n",
              "  [theme=dark] .colab-df-quickchart {\n",
              "      --bg-color: #3B4455;\n",
              "      --fill-color: #D2E3FC;\n",
              "      --hover-bg-color: #434B5C;\n",
              "      --hover-fill-color: #FFFFFF;\n",
              "      --disabled-bg-color: #3B4455;\n",
              "      --disabled-fill-color: #666;\n",
              "  }\n",
              "\n",
              "  .colab-df-quickchart {\n",
              "    background-color: var(--bg-color);\n",
              "    border: none;\n",
              "    border-radius: 50%;\n",
              "    cursor: pointer;\n",
              "    display: none;\n",
              "    fill: var(--fill-color);\n",
              "    height: 32px;\n",
              "    padding: 0;\n",
              "    width: 32px;\n",
              "  }\n",
              "\n",
              "  .colab-df-quickchart:hover {\n",
              "    background-color: var(--hover-bg-color);\n",
              "    box-shadow: 0 1px 2px rgba(60, 64, 67, 0.3), 0 1px 3px 1px rgba(60, 64, 67, 0.15);\n",
              "    fill: var(--button-hover-fill-color);\n",
              "  }\n",
              "\n",
              "  .colab-df-quickchart-complete:disabled,\n",
              "  .colab-df-quickchart-complete:disabled:hover {\n",
              "    background-color: var(--disabled-bg-color);\n",
              "    fill: var(--disabled-fill-color);\n",
              "    box-shadow: none;\n",
              "  }\n",
              "\n",
              "  .colab-df-spinner {\n",
              "    border: 2px solid var(--fill-color);\n",
              "    border-color: transparent;\n",
              "    border-bottom-color: var(--fill-color);\n",
              "    animation:\n",
              "      spin 1s steps(1) infinite;\n",
              "  }\n",
              "\n",
              "  @keyframes spin {\n",
              "    0% {\n",
              "      border-color: transparent;\n",
              "      border-bottom-color: var(--fill-color);\n",
              "      border-left-color: var(--fill-color);\n",
              "    }\n",
              "    20% {\n",
              "      border-color: transparent;\n",
              "      border-left-color: var(--fill-color);\n",
              "      border-top-color: var(--fill-color);\n",
              "    }\n",
              "    30% {\n",
              "      border-color: transparent;\n",
              "      border-left-color: var(--fill-color);\n",
              "      border-top-color: var(--fill-color);\n",
              "      border-right-color: var(--fill-color);\n",
              "    }\n",
              "    40% {\n",
              "      border-color: transparent;\n",
              "      border-right-color: var(--fill-color);\n",
              "      border-top-color: var(--fill-color);\n",
              "    }\n",
              "    60% {\n",
              "      border-color: transparent;\n",
              "      border-right-color: var(--fill-color);\n",
              "    }\n",
              "    80% {\n",
              "      border-color: transparent;\n",
              "      border-right-color: var(--fill-color);\n",
              "      border-bottom-color: var(--fill-color);\n",
              "    }\n",
              "    90% {\n",
              "      border-color: transparent;\n",
              "      border-bottom-color: var(--fill-color);\n",
              "    }\n",
              "  }\n",
              "</style>\n",
              "\n",
              "  <script>\n",
              "    async function quickchart(key) {\n",
              "      const quickchartButtonEl =\n",
              "        document.querySelector('#' + key + ' button');\n",
              "      quickchartButtonEl.disabled = true;  // To prevent multiple clicks.\n",
              "      quickchartButtonEl.classList.add('colab-df-spinner');\n",
              "      try {\n",
              "        const charts = await google.colab.kernel.invokeFunction(\n",
              "            'suggestCharts', [key], {});\n",
              "      } catch (error) {\n",
              "        console.error('Error during call to suggestCharts:', error);\n",
              "      }\n",
              "      quickchartButtonEl.classList.remove('colab-df-spinner');\n",
              "      quickchartButtonEl.classList.add('colab-df-quickchart-complete');\n",
              "    }\n",
              "    (() => {\n",
              "      let quickchartButtonEl =\n",
              "        document.querySelector('#df-eea9098c-69ac-4f42-aa6b-c49afe17e777 button');\n",
              "      quickchartButtonEl.style.display =\n",
              "        google.colab.kernel.accessAllowed ? 'block' : 'none';\n",
              "    })();\n",
              "  </script>\n",
              "</div>\n",
              "\n",
              "    </div>\n",
              "  </div>\n"
            ],
            "text/plain": [
              "                                                text label\n",
              "0                 how much has the dow changed today   oos\n",
              "1  how many prime numbers are there between 0 and...   oos\n",
              "2  can you tell me how to solve simple algebraic ...   oos\n",
              "3            can you dim the brightness of my screen   oos\n",
              "4  what is the account number to the internet ser...   oos"
            ]
          },
          "execution_count": 34,
          "metadata": {},
          "output_type": "execute_result"
        }
      ],
      "source": [
        "data_oos.head()"
      ]
    },
    {
      "cell_type": "code",
      "execution_count": null,
      "metadata": {
        "id": "eAGYrJewtmsp"
      },
      "outputs": [],
      "source": [
        "sequences_val = tokenizer.texts_to_sequences(data_val['text'])\n",
        "val_sequences = pad_sequences(sequences_val, padding='post', maxlen=max_length)\n",
        "\n",
        "val_labels_encoded = label_encoder.transform(data_val['label'])\n",
        "val_labels = to_categorical(val_labels_encoded, num_classes)\n",
        "\n",
        "sequences_test = tokenizer.texts_to_sequences(data_test['text'])\n",
        "test_sequences = pad_sequences(sequences_test, padding='post',maxlen=max_length)\n",
        "\n",
        "test_labels_encoded = label_encoder.transform(data_test['label'])\n",
        "test_labels = to_categorical(test_labels_encoded, num_classes)\n",
        "\n",
        "sequences_oos = tokenizer.texts_to_sequences(data_oos['text'])\n",
        "oos_sequences = pad_sequences(sequences_oos, padding='post', maxlen=max_length)"
      ]
    },
    {
      "cell_type": "code",
      "execution_count": null,
      "metadata": {
        "colab": {
          "background_save": true
        },
        "id": "c6Z7FFI_uq64"
      },
      "outputs": [],
      "source": [
        "len(sequences_val)"
      ]
    },
    {
      "cell_type": "code",
      "execution_count": null,
      "metadata": {
        "colab": {
          "base_uri": "https://localhost:8080/"
        },
        "id": "wux8AY9puyS3",
        "outputId": "bee8e26f-bd71-4387-dc01-724ed71d2419"
      },
      "outputs": [
        {
          "data": {
            "text/plain": [
              "(15000, (15000, 150))"
            ]
          },
          "execution_count": 39,
          "metadata": {},
          "output_type": "execute_result"
        }
      ],
      "source": [
        "len(train_labels), train_labels.shape"
      ]
    },
    {
      "cell_type": "code",
      "execution_count": null,
      "metadata": {
        "id": "_kfYrZMgu2FA"
      },
      "outputs": [],
      "source": [
        "#Adjust the shape of training and validation labels\n",
        "train_labels = np.reshape(train_labels, (len(train_labels), 150))\n",
        "val_labels = np.reshape(val_labels, (len(val_labels), 150))\n",
        "test_labels = np.reshape(test_labels, (len(test_labels), 150))"
      ]
    },
    {
      "cell_type": "code",
      "execution_count": null,
      "metadata": {
        "colab": {
          "base_uri": "https://localhost:8080/"
        },
        "id": "31Kq51slvAe3",
        "outputId": "8a3c25d7-fa6e-48cd-b05e-3ffff68c22fd"
      },
      "outputs": [
        {
          "data": {
            "text/plain": [
              "((3000, 28), (3000, 150), (4500, 28), (4500, 150))"
            ]
          },
          "execution_count": 56,
          "metadata": {},
          "output_type": "execute_result"
        }
      ],
      "source": [
        "val_sequences.shape, val_labels.shape,test_sequences.shape, test_labels.shape,"
      ]
    },
    {
      "cell_type": "code",
      "execution_count": null,
      "metadata": {
        "id": "feqHzxqfvF6H"
      },
      "outputs": [],
      "source": [
        "word_index = tokenizer.word_index\n",
        "vocab_size = len(word_index) +1\n",
        "max_sequence_length = max(len(sequence) for sequence in train_sequences)\n",
        "embedding_dim = min(100, vocab_size // 2)"
      ]
    },
    {
      "cell_type": "code",
      "execution_count": null,
      "metadata": {
        "colab": {
          "base_uri": "https://localhost:8080/"
        },
        "id": "WP0I0pECvLH2",
        "outputId": "e55f5e62-354b-4dca-f7ad-32a7c055b2b0"
      },
      "outputs": [
        {
          "data": {
            "text/plain": [
              "28"
            ]
          },
          "execution_count": 13,
          "metadata": {},
          "output_type": "execute_result"
        }
      ],
      "source": [
        "max(len(sequence) for sequence in val_sequences)"
      ]
    },
    {
      "cell_type": "code",
      "execution_count": null,
      "metadata": {
        "colab": {
          "base_uri": "https://localhost:8080/"
        },
        "id": "EJvaozekvNwX",
        "outputId": "7bc79661-ff8c-4b2d-882b-d956ee8411cd"
      },
      "outputs": [
        {
          "data": {
            "text/plain": [
              "((3000, 28), (3000, 150))"
            ]
          },
          "execution_count": 59,
          "metadata": {},
          "output_type": "execute_result"
        }
      ],
      "source": [
        "val_sequences.shape, val_labels.shape,"
      ]
    },
    {
      "cell_type": "markdown",
      "metadata": {
        "id": "XmkJKPHp-TQf"
      },
      "source": [
        "# Evaluation Metrics"
      ]
    },
    {
      "cell_type": "code",
      "execution_count": null,
      "metadata": {
        "id": "3M2dYDRjvioF"
      },
      "outputs": [],
      "source": [
        "def graph_history(history):\n",
        "\n",
        "    # Get training and validation metrics from history\n",
        "    training_loss = history.history['loss']\n",
        "    validation_loss =history.history['val_loss']\n",
        "    training_accuracy = history.history['accuracy']\n",
        "    validation_accuracy = history.history['val_accuracy']\n",
        "\n",
        "    # Create a Pandas DataFrame with training and validation metrics\n",
        "    history_df = pd.DataFrame({\n",
        "        'Training Loss': training_loss,\n",
        "        'Validation Loss': validation_loss,\n",
        "        'Training Accuracy': training_accuracy,\n",
        "        'Validation Accuracy': validation_accuracy\n",
        "    })\n",
        "\n",
        "    # Plot loss curves\n",
        "    plt.figure(figsize=(10, 6))\n",
        "    plt.plot(history_df['Training Loss'], label='Training Loss')\n",
        "    plt.plot(history_df['Validation Loss'], label='Validation Loss')\n",
        "    plt.xlabel('Epoch')\n",
        "    plt.ylabel('Loss')\n",
        "    plt.title('Training and Validation Loss')\n",
        "    plt.legend()\n",
        "    plt.show()\n",
        "\n",
        "    # Plot precision curves (accuracy)\n",
        "    plt.figure(figsize=(10, 6))\n",
        "    plt.plot(history_df['Training Accuracy'], label='Training Accuracy')\n",
        "    plt.plot(history_df['Validation Accuracy'], label='Validation Accuracy')\n",
        "    plt.xlabel('Epoch')\n",
        "    plt.ylabel('Accuracy')\n",
        "    plt.title('Training and Validation Accuracy')\n",
        "    plt.legend()\n",
        "    plt.show()"
      ]
    },
    {
      "cell_type": "markdown",
      "metadata": {
        "id": "Wv09mEKs2XVw"
      },
      "source": [
        "# Build Deep Learning models\n",
        "\n",
        "**Pros:**\n",
        "\n",
        "* Captures semantic meaning of words.\n",
        "* More effective for complex and large datasets.\n",
        "\n",
        "**Cons:**\n",
        "\n",
        "* Requires more computational resources and data.\n",
        "* More complex to implement.\n",
        "\n",
        "\n",
        "##RNN"
      ]
    },
    {
      "cell_type": "code",
      "execution_count": null,
      "metadata": {
        "colab": {
          "base_uri": "https://localhost:8080/",
          "height": 1000
        },
        "id": "sQdOfPN62e5s",
        "outputId": "1a64ff17-67c4-4703-cea5-a23edc07c3a3"
      },
      "outputs": [
        {
          "name": "stdout",
          "output_type": "stream",
          "text": [
            "Epoch 1/15\n",
            "469/469 [==============================] - 13s 23ms/step - loss: 4.4176 - accuracy: 0.0621 - val_loss: 3.9155 - val_accuracy: 0.1243\n",
            "Epoch 2/15\n",
            "469/469 [==============================] - 11s 24ms/step - loss: 3.6277 - accuracy: 0.1641 - val_loss: 3.5835 - val_accuracy: 0.1547\n",
            "Epoch 3/15\n",
            "469/469 [==============================] - 15s 32ms/step - loss: 3.2900 - accuracy: 0.2194 - val_loss: 3.3588 - val_accuracy: 0.2153\n",
            "Epoch 4/15\n",
            "469/469 [==============================] - 21s 44ms/step - loss: 3.0667 - accuracy: 0.2608 - val_loss: 3.2279 - val_accuracy: 0.2460\n",
            "Epoch 5/15\n",
            "469/469 [==============================] - 18s 39ms/step - loss: 2.9367 - accuracy: 0.2867 - val_loss: 3.3124 - val_accuracy: 0.2290\n",
            "Epoch 6/15\n",
            "469/469 [==============================] - 18s 38ms/step - loss: 2.7938 - accuracy: 0.3140 - val_loss: 3.0544 - val_accuracy: 0.2633\n",
            "Epoch 7/15\n",
            "469/469 [==============================] - 9s 20ms/step - loss: 2.6800 - accuracy: 0.3378 - val_loss: 2.9553 - val_accuracy: 0.2957\n",
            "Epoch 8/15\n",
            "469/469 [==============================] - 11s 24ms/step - loss: 2.6085 - accuracy: 0.3501 - val_loss: 2.9641 - val_accuracy: 0.2943\n",
            "Epoch 9/15\n",
            "469/469 [==============================] - 16s 34ms/step - loss: 2.5352 - accuracy: 0.3645 - val_loss: 2.9282 - val_accuracy: 0.2953\n",
            "Epoch 10/15\n",
            "469/469 [==============================] - 18s 38ms/step - loss: 2.4769 - accuracy: 0.3731 - val_loss: 2.9315 - val_accuracy: 0.2967\n",
            "Epoch 11/15\n",
            "469/469 [==============================] - 21s 45ms/step - loss: 2.4127 - accuracy: 0.3909 - val_loss: 2.8008 - val_accuracy: 0.3200\n",
            "Epoch 12/15\n",
            "469/469 [==============================] - 15s 33ms/step - loss: 2.3356 - accuracy: 0.4063 - val_loss: 2.8250 - val_accuracy: 0.3220\n",
            "Epoch 13/15\n",
            "469/469 [==============================] - 10s 21ms/step - loss: 2.3007 - accuracy: 0.4108 - val_loss: 2.8772 - val_accuracy: 0.3113\n",
            "Epoch 14/15\n",
            "469/469 [==============================] - 10s 21ms/step - loss: 2.2506 - accuracy: 0.4234 - val_loss: 2.7316 - val_accuracy: 0.3470\n",
            "Epoch 15/15\n",
            "469/469 [==============================] - 11s 23ms/step - loss: 2.2091 - accuracy: 0.4277 - val_loss: 2.8532 - val_accuracy: 0.3203\n",
            "141/141 [==============================] - 1s 5ms/step - loss: 2.8696 - accuracy: 0.3202\n",
            "Loss: 2.869576930999756, Accuracy: 0.32022222876548767\n"
          ]
        },
        {
          "data": {
            "image/png": "[encoded data removed]",
            "text/plain": [
              "<Figure size 1000x600 with 1 Axes>"
            ]
          },
          "metadata": {},
          "output_type": "display_data"
        },
        {
          "data": {
            "image/png": "[encoded data removed]",
            "text/plain": [
              "<Figure size 1000x600 with 1 Axes>"
            ]
          },
          "metadata": {},
          "output_type": "display_data"
        },
        {
          "name": "stdout",
          "output_type": "stream",
          "text": [
            "32/32 [==============================] - 0s 5ms/step\n",
            "RNN Prediction: [[4.0964896e-06 3.2656841e-04 3.3892659e-06 ... 8.4160793e-06\n",
            "  5.3163971e-05 1.4129365e-05]\n",
            " [2.8663391e-04 4.5715595e-04 2.1919559e-04 ... 3.3074430e-05\n",
            "  7.4045347e-06 2.4421908e-05]\n",
            " [2.8225472e-02 7.3102776e-05 3.4223378e-04 ... 1.6913767e-04\n",
            "  3.7662682e-04 1.2778673e-06]\n",
            " ...\n",
            " [3.7664379e-06 5.1883519e-02 1.2458874e-03 ... 1.5418424e-04\n",
            "  5.0254556e-04 5.0301356e-03]\n",
            " [9.4175752e-04 1.8895780e-05 4.2689135e-03 ... 1.9803410e-04\n",
            "  7.3907687e-04 3.5127567e-04]\n",
            " [1.9725726e-03 2.3981002e-05 4.1744708e-05 ... 4.5302674e-02\n",
            "  1.7952362e-01 1.5858767e-04]]\n"
          ]
        }
      ],
      "source": [
        "# Define the recurrent neural network model\n",
        "model_RNN = Sequential([\n",
        "    Embedding(input_dim=vocab_size, output_dim=embedding_dim, input_length=max_sequence_length),\n",
        "    SimpleRNN(128, input_shape=(train_sequences.shape[1], 1)),\n",
        "    Dense(num_classes, activation='softmax')\n",
        "])\n",
        "\n",
        "# Compile the model\n",
        "model_RNN.compile(optimizer='adam', loss='categorical_crossentropy', metrics=['accuracy'])\n",
        "\n",
        "\n",
        "# Train the model\n",
        "history_RNN = model_RNN.fit(train_sequences, train_labels, epochs=15, validation_data=(val_sequences, val_labels))\n",
        "\n",
        "# Evaluate model performance on the test set\n",
        "loss, accuracy = model_RNN.evaluate(test_sequences, test_labels)\n",
        "print(f'Loss: {loss}, Accuracy: {accuracy}')\n",
        "graph_history(history_RNN)\n",
        "\n",
        "# Predict with RNN model\n",
        "rnn_prediction = model_RNN.predict(oos_sequences)\n",
        "for i in range(10):\n",
        "  print(oos[i,0], \":\", id_to_label[np.argmax(rnn_prediction[i])])"
      ]
    },
    {
      "cell_type": "markdown",
      "metadata": {
        "id": "yBG5bT7y3ypK"
      },
      "source": [
        "##GRU"
      ]
    },
    {
      "cell_type": "code",
      "execution_count": null,
      "metadata": {
        "colab": {
          "base_uri": "https://localhost:8080/",
          "height": 1000
        },
        "id": "LNDsYGZW32MZ",
        "outputId": "e6817427-5bf3-4068-8012-4c4185bc6082"
      },
      "outputs": [
        {
          "name": "stdout",
          "output_type": "stream",
          "text": [
            "Epoch 1/15\n",
            "469/469 [==============================] - 27s 52ms/step - loss: 5.0134 - accuracy: 0.0059 - val_loss: 5.0114 - val_accuracy: 0.0067\n",
            "Epoch 2/15\n",
            "469/469 [==============================] - 27s 59ms/step - loss: 4.8074 - accuracy: 0.0155 - val_loss: 4.5162 - val_accuracy: 0.0330\n",
            "Epoch 3/15\n",
            "469/469 [==============================] - 21s 45ms/step - loss: 3.8693 - accuracy: 0.0839 - val_loss: 3.5876 - val_accuracy: 0.1243\n",
            "Epoch 4/15\n",
            "469/469 [==============================] - 20s 43ms/step - loss: 3.0744 - accuracy: 0.2202 - val_loss: 2.9527 - val_accuracy: 0.2613\n",
            "Epoch 5/15\n",
            "469/469 [==============================] - 38s 82ms/step - loss: 2.5451 - accuracy: 0.3441 - val_loss: 2.6191 - val_accuracy: 0.3407\n",
            "Epoch 6/15\n",
            "469/469 [==============================] - 35s 75ms/step - loss: 2.1988 - accuracy: 0.4305 - val_loss: 2.4025 - val_accuracy: 0.4077\n",
            "Epoch 7/15\n",
            "469/469 [==============================] - 20s 44ms/step - loss: 1.9576 - accuracy: 0.4927 - val_loss: 2.2725 - val_accuracy: 0.4283\n",
            "Epoch 8/15\n",
            "469/469 [==============================] - 21s 44ms/step - loss: 1.7718 - accuracy: 0.5364 - val_loss: 2.1605 - val_accuracy: 0.4590\n",
            "Epoch 9/15\n",
            "469/469 [==============================] - 20s 43ms/step - loss: 1.6190 - accuracy: 0.5709 - val_loss: 2.0815 - val_accuracy: 0.4693\n",
            "Epoch 10/15\n",
            "469/469 [==============================] - 22s 47ms/step - loss: 1.4974 - accuracy: 0.6037 - val_loss: 2.0256 - val_accuracy: 0.4837\n",
            "Epoch 11/15\n",
            "469/469 [==============================] - 23s 49ms/step - loss: 1.3911 - accuracy: 0.6300 - val_loss: 2.0063 - val_accuracy: 0.4900\n",
            "Epoch 12/15\n",
            "469/469 [==============================] - 23s 50ms/step - loss: 1.2958 - accuracy: 0.6511 - val_loss: 1.9750 - val_accuracy: 0.5153\n",
            "Epoch 13/15\n",
            "469/469 [==============================] - 40s 86ms/step - loss: 1.2109 - accuracy: 0.6717 - val_loss: 1.9851 - val_accuracy: 0.5203\n",
            "Epoch 14/15\n",
            "469/469 [==============================] - 38s 82ms/step - loss: 1.1390 - accuracy: 0.6891 - val_loss: 1.9822 - val_accuracy: 0.5173\n",
            "Epoch 15/15\n",
            "469/469 [==============================] - 39s 82ms/step - loss: 1.0695 - accuracy: 0.7083 - val_loss: 1.9986 - val_accuracy: 0.5230\n",
            "141/141 [==============================] - 2s 16ms/step - loss: 2.0135 - accuracy: 0.5229\n",
            "Loss: 2.013533353805542, Accuracy: 0.5228888988494873\n"
          ]
        },
        {
          "data": {
            "image/png": "[encoded data removed]",
            "text/plain": [
              "<Figure size 1000x600 with 1 Axes>"
            ]
          },
          "metadata": {},
          "output_type": "display_data"
        },
        {
          "data": {
            "image/png": "[encoded data removed]",
            "text/plain": [
              "<Figure size 1000x600 with 1 Axes>"
            ]
          },
          "metadata": {},
          "output_type": "display_data"
        },
        {
          "name": "stdout",
          "output_type": "stream",
          "text": [
            "32/32 [==============================] - 2s 19ms/step\n",
            "GRU Prediction: [[4.1106770e-05 2.7510381e-04 5.6988974e-05 ... 5.7735022e-05\n",
            "  1.9391131e-03 5.8570632e-04]\n",
            " [6.7249546e-04 9.5667374e-06 9.0633675e-06 ... 1.6489918e-06\n",
            "  7.4074710e-06 2.7057780e-05]\n",
            " [2.0640022e-04 7.2083880e-05 3.4861241e-05 ... 5.8520254e-06\n",
            "  1.5021486e-05 1.2245877e-05]\n",
            " ...\n",
            " [7.3097550e-07 5.2762136e-04 8.5471565e-04 ... 8.4086441e-06\n",
            "  5.2049611e-04 9.0361579e-04]\n",
            " [1.7236151e-02 4.9654340e-05 6.5927334e-02 ... 9.6214365e-04\n",
            "  1.7135151e-04 6.9920946e-04]\n",
            " [6.1067141e-05 6.0716879e-06 9.6338760e-04 ... 1.2083328e-06\n",
            "  1.2222581e-04 3.2841414e-03]]\n"
          ]
        }
      ],
      "source": [
        "# Define the recurrent neural network model\n",
        "model_GRU = Sequential([\n",
        "    Embedding(input_dim=vocab_size, output_dim=embedding_dim, input_length=max_sequence_length),\n",
        "    GRU(128, input_shape=(train_sequences.shape[1], 1)),\n",
        "    Dense(num_classes, activation='softmax')\n",
        "])\n",
        "\n",
        "# Compile the model\n",
        "model_GRU.compile(optimizer='adam', loss='categorical_crossentropy', metrics=['accuracy'])\n",
        "\n",
        "\n",
        "# Train the model\n",
        "history_GRU = model_GRU.fit(train_sequences, train_labels, epochs=15, validation_data=(val_sequences, val_labels))\n",
        "\n",
        "#Evaluate model performance on the test set\n",
        "loss, accuracy = model_GRU.evaluate(test_sequences, test_labels)\n",
        "print(f'Loss: {loss}, Accuracy: {accuracy}')\n",
        "graph_history(history_GRU)\n",
        "\n",
        "# Predict with GRU model\n",
        "gru_prediction = model_GRU.predict(oos_sequences)\n",
        "print(\"GRU Prediction:\", gru_prediction)\n"
      ]
    },
    {
      "cell_type": "markdown",
      "metadata": {
        "id": "9-ChOyEy4Zew"
      },
      "source": [
        "##LSTM"
      ]
    },
    {
      "cell_type": "code",
      "execution_count": null,
      "metadata": {
        "id": "dKxMNn-44clE"
      },
      "outputs": [],
      "source": [
        "# Define the recurrent neural network model\n",
        "model_LSTM = Sequential([\n",
        "    Embedding(input_dim=vocab_size, output_dim=embedding_dim, input_length=max_sequence_length),\n",
        "    LSTM(128, input_shape=(train_sequences.shape[1], 1)),\n",
        "    Dense(num_classes, activation='softmax')\n",
        "])\n",
        "\n",
        "# Compile the model\n",
        "model_LSTM.compile(optimizer='adam', loss='categorical_crossentropy', metrics=['accuracy'])\n",
        "\n",
        "\n",
        "# Train the model\n",
        "history_LSTM = model_LSTM.fit(train_sequences, train_labels, epochs=30, validation_data=(val_sequences, val_labels))\n",
        "\n",
        "# Evaluate model performance on the test set\n",
        "loss, accuracy = model_LSTM.evaluate(test_sequences, test_labels)\n",
        "print(f'Loss: {loss}, Accuracy: {accuracy}')\n",
        "graph_history(history_LSTM)\n",
        "\n",
        "# Predict with LSTM model\n",
        "lstm_prediction = model_LSTM.predict(oos_sequences)\n",
        "print(\"LSTM Prediction:\", lstm_prediction)"
      ]
    },
    {
      "cell_type": "code",
      "execution_count": null,
      "metadata": {
        "colab": {
          "base_uri": "https://localhost:8080/"
        },
        "id": "Pg0Mcr-fqIf0",
        "outputId": "dd3ef33a-bf34-4eea-bc75-34924b273670"
      },
      "outputs": [
        {
          "name": "stdout",
          "output_type": "stream",
          "text": [
            "text                      : rnn           : gru        : lstm\n",
            "how much has the dow changed today : taxes : pto_used : interest_rate\n",
            "text                      : rnn           : gru        : lstm\n",
            "how many prime numbers are there between 0 and 100 : exchange_rate : exchange_rate : calories\n",
            "text                      : rnn           : gru        : lstm\n",
            "can you tell me how to solve simple algebraic equations with one variable : exchange_rate : order_checks : nutrition_info\n",
            "text                      : rnn           : gru        : lstm\n",
            "can you dim the brightness of my screen : current_location : order_status : order_status\n",
            "text                      : rnn           : gru        : lstm\n",
            "what is the account number to the internet service i have : routing : calendar : routing\n",
            "text                      : rnn           : gru        : lstm\n",
            "can you see a hdmi cord : roll_dice : roll_dice : roll_dice\n",
            "text                      : rnn           : gru        : lstm\n",
            "what veggies can i pair with mushrooms : direct_deposit : measurement_conversion : meal_suggestion\n",
            "text                      : rnn           : gru        : lstm\n",
            "can you put the car in fuel efficient mode : car_rental : schedule_maintenance : schedule_maintenance\n",
            "text                      : rnn           : gru        : lstm\n",
            "at what age can someone get a card : new_card : new_card : new_card\n",
            "text                      : rnn           : gru        : lstm\n",
            "please find today's most read stories from the new york times todayi : order : insurance_change : order_checks\n"
          ]
        }
      ],
      "source": [
        "for i in range(10):\n",
        "  print(\"text                      : rnn           : gru        : lstm\")\n",
        "  print(oos[i,0], \":\", id_to_label[np.argmax(rnn_prediction[i])], \":\", id_to_label[np.argmax(gru_prediction[i])], \":\", id_to_label[np.argmax(lstm_prediction[i])])"
      ]
    },
    {
      "cell_type": "markdown",
      "metadata": {
        "id": "WyWZN1kQ_n4r"
      },
      "source": [
        "## Analyze parameters impacts"
      ]
    },
    {
      "cell_type": "markdown",
      "metadata": {
        "id": "5z5sLV6CAd_-"
      },
      "source": [
        "1. **Vocabulary Size (num_words in Tokenizer):**\n",
        "\n",
        " * **Impact**: This parameter determines the maximum number of unique words the model will consider, based on word frequency in the training data.\n",
        "    - **Larger Vocabulary**: Captures more nuanced language and potentially improves accuracy, but may introduce noise and increase computational complexity.\n",
        "    - **Smaller Vocabulary**: Reduces complexity and might be faster to train, but risks missing important words and potentially lowering accuracy.\n",
        "\n",
        "2. **Out-of-Vocabulary Token (oov_token in Tokenizer):**\n",
        " * **Impact**: Handles words not present in the training vocabulary, crucial for real-world applications where users might use unexpected terms.\n",
        "    - **Proper Handling:** Ensures the model doesn't break when encountering new words and can still provide a reasonable prediction.\n",
        "    - **Lack of Handling**: Can lead to errors or inaccurate predictions when encountering unseen words.\n",
        "3.** Sequence Length (maxlen in pad_sequences):**\n",
        "\n",
        " * **Impact**: Determines the length to which all input sequences are padded or truncated.\n",
        "    - **Longer Sequences**: Capture more context, potentially improving accuracy, but increase computational cost.\n",
        "    - **Shorter Sequences**: Reduce complexity and training time, but might lose important contextual information.\n",
        "4. **RNN Model Parameters:**\n",
        "\n",
        " * **Embedding Layer:**\n",
        "    - **input_dim**: Vocabulary size, impacting the embedding layer's input dimension.\n",
        "    - **output_dim**: Dimensionality of word embeddings, affecting the richness of word representations.\n",
        "    - **input_length**: Length of input sequences, influencing the shape of input tensors.\n",
        " * **RNN Layers (SimpleRNN, GRU, LSTM):**\n",
        "\n",
        "    - **units:** Number of hidden units in the RNN layer, impacting the model's capacity to learn complex patterns.\n",
        " * **Dense Layer:**\n",
        "\n",
        "    - **units:** Number of output units, should match the number of intent classes.\n",
        "    - **activation:** Typically 'softmax' for multi-class classification, converting model outputs to probabilities for each class.\n",
        " * **Optimizer:**\n",
        "\n",
        "    - **Choice of Optimizer:** Affects how the model learns from data (e.g., 'adam' is commonly used).\n",
        "      * **Adam (Adaptive Moment Estimation)**\n",
        "        - **Pros:** Adaptive learning rates, momentum, efficient, less parameter tuning.\n",
        "        - **Cons:** May not be optimal for all types of problems; tuning learning rate might still be necessary in some cases.\n",
        "      * **RMSProp (Root Mean Square Propagation)**\n",
        "        - **Pros:** Works well for RNNs, particularly on problems with lots of noisy data.\n",
        "        - **Cons:** Requires tuning of the learning rate.\n",
        "    - **Learning Rate:** Influences the step size during training, impacting convergence speed and potential overfitting.\n",
        " * **Key Considerations:**\n",
        "\n",
        "    - **Trade-offs:** Adjusting these parameters involves trade-offs between accuracy, complexity, and computational cost.\n",
        "    - **Experimentation:** Finding the optimal parameter values often requires experimentation and validation on your specific dataset."
      ]
    },
    {
      "cell_type": "markdown",
      "metadata": {
        "id": "h9WW0PB0BGnV"
      },
      "source": [
        "## **SimpleRNN vs GRU vs LSTM**\n",
        "\n",
        "1. **SimpleRNN**\n",
        "* **Architecture**:\n",
        " * The basic form of an RNN.\n",
        " * Each unit has a hidden state that is updated at each time step.\n",
        " * Uses the hidden state from the previous time step to influence the current state.\n",
        "* **Pros**:\n",
        " * Simpler and computationally less expensive compared to GRU and LSTM.\n",
        " * Easier to implement and understand.\n",
        " * Suitable for problems with short-term dependencies.\n",
        "* **Cons**:\n",
        " * Struggles with learning long-term dependencies due to the vanishing gradient problem.\n",
        " * Limited memory capacity.\n",
        "2. **GRU (Gated Recurrent Unit)**\n",
        "* **Architecture**:\n",
        " * Introduced to address the limitations of SimpleRNN.\n",
        "Combines the hidden state and cell state into a single state.\n",
        " * Uses gating mechanisms (reset gate and update gate) to control the flow of information.\n",
        "* **Pros**:\n",
        " * Addresses the vanishing gradient problem better than SimpleRNN.\n",
        " * More efficient than LSTM due to fewer parameters.\n",
        " * Often performs well on a variety of tasks.\n",
        "* **Cons**:\n",
        " * More complex and computationally expensive than SimpleRNN.\n",
        " * Slightly less expressive than LSTM due to fewer gates.\n",
        "3. **LSTM (Long Short-Term Memory)**\n",
        "* **Architecture:**\n",
        " * Designed to address both the vanishing and exploding gradient problems.\n",
        " * Maintains a separate cell state in addition to the hidden state.\n",
        " * Uses three gates: input gate, forget gate, and output gate to regulate information flow.\n",
        "* **Pros:**\n",
        " * Excellent at learning long-term dependencies.\n",
        " * More expressive and powerful due to its gating mechanisms.\n",
        " * Widely used and proven effective in many sequential tasks like text generation, machine translation, etc.\n",
        "* **Cons:**\n",
        " * More complex and computationally expensive due to a larger number of parameters.\n",
        " * Slower to train compared to SimpleRNN and GRU."
      ]
    },
    {
      "cell_type": "markdown",
      "metadata": {
        "id": "zwp9C1bLq35s"
      },
      "source": [
        "#TF-IDF + Machine Learning Classifiers\n",
        "**Characteristics:**\n",
        "\n",
        "* Uses Term Frequency-Inverse Document Frequency (TF-IDF) to convert text into vector representation.\n",
        "* Applies traditional machine learning classifiers on these vectors.\n",
        "\n",
        "**Pros:**\n",
        "\n",
        "* Considers the importance of words.\n",
        "* Works well for various NLP tasks.\n",
        "\n",
        "**Cons:**\n",
        "\n",
        "* Ignores word order and context.\n",
        "* Requires feature engineering."
      ]
    },
    {
      "cell_type": "code",
      "execution_count": null,
      "metadata": {
        "id": "R05T3vNyYT3x"
      },
      "outputs": [],
      "source": [
        "from sklearn.feature_extraction.text import TfidfVectorizer\n",
        "from sklearn.svm import SVC"
      ]
    },
    {
      "cell_type": "code",
      "execution_count": null,
      "metadata": {
        "id": "ujEz-75_aUy4"
      },
      "outputs": [],
      "source": [
        "vectorizer = TfidfVectorizer()\n",
        "X_train = vectorizer.fit_transform(data_train['text'])\n",
        "y_train = data_train['label']"
      ]
    },
    {
      "cell_type": "code",
      "execution_count": null,
      "metadata": {
        "colab": {
          "base_uri": "https://localhost:8080/",
          "height": 75
        },
        "id": "jp3kWSZwalhX",
        "outputId": "9de028ff-768d-432e-9770-303d92f3a5fd"
      },
      "outputs": [
        {
          "output_type": "execute_result",
          "data": {
            "text/plain": [
              "SVC()"
            ],
            "text/html": [
              "<style>#sk-container-id-1 {color: black;}#sk-container-id-1 pre{padding: 0;}#sk-container-id-1 div.sk-toggleable {background-color: white;}#sk-container-id-1 label.sk-toggleable__label {cursor: pointer;display: block;width: 100%;margin-bottom: 0;padding: 0.3em;box-sizing: border-box;text-align: center;}#sk-container-id-1 label.sk-toggleable__label-arrow:before {content: \"▸\";float: left;margin-right: 0.25em;color: #696969;}#sk-container-id-1 label.sk-toggleable__label-arrow:hover:before {color: black;}#sk-container-id-1 div.sk-estimator:hover label.sk-toggleable__label-arrow:before {color: black;}#sk-container-id-1 div.sk-toggleable__content {max-height: 0;max-width: 0;overflow: hidden;text-align: left;background-color: #f0f8ff;}#sk-container-id-1 div.sk-toggleable__content pre {margin: 0.2em;color: black;border-radius: 0.25em;background-color: #f0f8ff;}#sk-container-id-1 input.sk-toggleable__control:checked~div.sk-toggleable__content {max-height: 200px;max-width: 100%;overflow: auto;}#sk-container-id-1 input.sk-toggleable__control:checked~label.sk-toggleable__label-arrow:before {content: \"▾\";}#sk-container-id-1 div.sk-estimator input.sk-toggleable__control:checked~label.sk-toggleable__label {background-color: #d4ebff;}#sk-container-id-1 div.sk-label input.sk-toggleable__control:checked~label.sk-toggleable__label {background-color: #d4ebff;}#sk-container-id-1 input.sk-hidden--visually {border: 0;clip: rect(1px 1px 1px 1px);clip: rect(1px, 1px, 1px, 1px);height: 1px;margin: -1px;overflow: hidden;padding: 0;position: absolute;width: 1px;}#sk-container-id-1 div.sk-estimator {font-family: monospace;background-color: #f0f8ff;border: 1px dotted black;border-radius: 0.25em;box-sizing: border-box;margin-bottom: 0.5em;}#sk-container-id-1 div.sk-estimator:hover {background-color: #d4ebff;}#sk-container-id-1 div.sk-parallel-item::after {content: \"\";width: 100%;border-bottom: 1px solid gray;flex-grow: 1;}#sk-container-id-1 div.sk-label:hover label.sk-toggleable__label {background-color: #d4ebff;}#sk-container-id-1 div.sk-serial::before {content: \"\";position: absolute;border-left: 1px solid gray;box-sizing: border-box;top: 0;bottom: 0;left: 50%;z-index: 0;}#sk-container-id-1 div.sk-serial {display: flex;flex-direction: column;align-items: center;background-color: white;padding-right: 0.2em;padding-left: 0.2em;position: relative;}#sk-container-id-1 div.sk-item {position: relative;z-index: 1;}#sk-container-id-1 div.sk-parallel {display: flex;align-items: stretch;justify-content: center;background-color: white;position: relative;}#sk-container-id-1 div.sk-item::before, #sk-container-id-1 div.sk-parallel-item::before {content: \"\";position: absolute;border-left: 1px solid gray;box-sizing: border-box;top: 0;bottom: 0;left: 50%;z-index: -1;}#sk-container-id-1 div.sk-parallel-item {display: flex;flex-direction: column;z-index: 1;position: relative;background-color: white;}#sk-container-id-1 div.sk-parallel-item:first-child::after {align-self: flex-end;width: 50%;}#sk-container-id-1 div.sk-parallel-item:last-child::after {align-self: flex-start;width: 50%;}#sk-container-id-1 div.sk-parallel-item:only-child::after {width: 0;}#sk-container-id-1 div.sk-dashed-wrapped {border: 1px dashed gray;margin: 0 0.4em 0.5em 0.4em;box-sizing: border-box;padding-bottom: 0.4em;background-color: white;}#sk-container-id-1 div.sk-label label {font-family: monospace;font-weight: bold;display: inline-block;line-height: 1.2em;}#sk-container-id-1 div.sk-label-container {text-align: center;}#sk-container-id-1 div.sk-container {/* jupyter's `normalize.less` sets `[hidden] { display: none; }` but bootstrap.min.css set `[hidden] { display: none !important; }` so we also need the `!important` here to be able to override the default hidden behavior on the sphinx rendered scikit-learn.org. See: https://github.com/scikit-learn/scikit-learn/issues/21755 */display: inline-block !important;position: relative;}#sk-container-id-1 div.sk-text-repr-fallback {display: none;}</style><div id=\"sk-container-id-1\" class=\"sk-top-container\"><div class=\"sk-text-repr-fallback\"><pre>SVC()</pre><b>In a Jupyter environment, please rerun this cell to show the HTML representation or trust the notebook. <br />On GitHub, the HTML representation is unable to render, please try loading this page with nbviewer.org.</b></div><div class=\"sk-container\" hidden><div class=\"sk-item\"><div class=\"sk-estimator sk-toggleable\"><input class=\"sk-toggleable__control sk-hidden--visually\" id=\"sk-estimator-id-1\" type=\"checkbox\" checked><label for=\"sk-estimator-id-1\" class=\"sk-toggleable__label sk-toggleable__label-arrow\">SVC</label><div class=\"sk-toggleable__content\"><pre>SVC()</pre></div></div></div></div></div>"
            ]
          },
          "metadata": {},
          "execution_count": 14
        }
      ],
      "source": [
        "classifier = SVC()\n",
        "classifier.fit(X_train, y_train)"
      ]
    },
    {
      "cell_type": "code",
      "execution_count": null,
      "metadata": {
        "colab": {
          "base_uri": "https://localhost:8080/"
        },
        "id": "CSO7dvzQb5O3",
        "outputId": "04c7df28-885d-4fd1-e0cc-adefbe275262"
      },
      "outputs": [
        {
          "output_type": "execute_result",
          "data": {
            "text/plain": [
              "(15000, 5026)"
            ]
          },
          "metadata": {},
          "execution_count": 15
        }
      ],
      "source": [
        "X_train.shape"
      ]
    },
    {
      "cell_type": "code",
      "execution_count": null,
      "metadata": {
        "id": "LGWnXfdgcmGT"
      },
      "outputs": [],
      "source": [
        "X_val = vectorizer.transform(data_val['text'])\n",
        "X_test = vectorizer.transform(data_test['text'])\n",
        "y_val = data_val['label']\n",
        "y_test = data_test['label']"
      ]
    },
    {
      "cell_type": "code",
      "execution_count": null,
      "metadata": {
        "colab": {
          "base_uri": "https://localhost:8080/"
        },
        "id": "ZV08VLxTcrxB",
        "outputId": "346d74ae-b105-419b-ca77-a07cfae21fce"
      },
      "outputs": [
        {
          "data": {
            "text/plain": [
              "((3000, 5026), (4500, 5026))"
            ]
          },
          "execution_count": 21,
          "metadata": {},
          "output_type": "execute_result"
        }
      ],
      "source": [
        "X_val.shape, X_test.shape"
      ]
    },
    {
      "cell_type": "code",
      "execution_count": null,
      "metadata": {
        "id": "Gff20y1abgK4"
      },
      "outputs": [],
      "source": [
        "y_val_pred = classifier.predict(X_val)\n",
        "y_test_pred = classifier.predict(X_test)"
      ]
    },
    {
      "cell_type": "code",
      "execution_count": null,
      "metadata": {
        "colab": {
          "base_uri": "https://localhost:8080/"
        },
        "id": "tIZ5feX8dsDt",
        "outputId": "1add25b1-177d-4e70-e121-8852681de97e"
      },
      "outputs": [
        {
          "output_type": "stream",
          "name": "stdout",
          "text": [
            "Accuracy val : 0.9036666666666666\n",
            "Accuracy test : 0.9082222222222223\n",
            "                           precision    recall  f1-score   support\n",
            "\n",
            "      accept_reservations       0.96      0.87      0.91        30\n",
            "          account_blocked       0.97      0.93      0.95        30\n",
            "                    alarm       0.97      0.97      0.97        30\n",
            "       application_status       0.97      1.00      0.98        30\n",
            "                      apr       0.97      1.00      0.98        30\n",
            "            are_you_a_bot       0.97      1.00      0.98        30\n",
            "                  balance       1.00      0.93      0.97        30\n",
            "             bill_balance       0.93      0.93      0.93        30\n",
            "                 bill_due       0.93      0.83      0.88        30\n",
            "              book_flight       0.94      0.97      0.95        30\n",
            "               book_hotel       0.97      1.00      0.98        30\n",
            "               calculator       0.62      0.93      0.75        30\n",
            "                 calendar       0.87      0.67      0.75        30\n",
            "          calendar_update       0.76      0.93      0.84        30\n",
            "                 calories       1.00      0.97      0.98        30\n",
            "                   cancel       0.72      0.93      0.81        30\n",
            "       cancel_reservation       0.97      1.00      0.98        30\n",
            "               car_rental       0.97      0.97      0.97        30\n",
            "            card_declined       1.00      0.90      0.95        30\n",
            "                 carry_on       1.00      0.87      0.93        30\n",
            "            change_accent       1.00      0.93      0.97        30\n",
            "           change_ai_name       0.71      0.73      0.72        30\n",
            "          change_language       0.91      0.97      0.94        30\n",
            "             change_speed       0.91      1.00      0.95        30\n",
            "         change_user_name       0.83      0.80      0.81        30\n",
            "            change_volume       1.00      0.83      0.91        30\n",
            "      confirm_reservation       0.93      0.93      0.93        30\n",
            "                cook_time       0.90      0.87      0.88        30\n",
            "             credit_limit       0.97      0.93      0.95        30\n",
            "      credit_limit_change       1.00      0.97      0.98        30\n",
            "             credit_score       0.88      0.97      0.92        30\n",
            "         current_location       0.88      0.93      0.90        30\n",
            "             damaged_card       0.76      0.97      0.85        30\n",
            "                     date       1.00      0.93      0.97        30\n",
            "               definition       0.91      0.97      0.94        30\n",
            "           direct_deposit       1.00      1.00      1.00        30\n",
            "               directions       0.76      0.97      0.85        30\n",
            "                 distance       0.91      0.70      0.79        30\n",
            "         do_you_have_pets       0.97      1.00      0.98        30\n",
            "            exchange_rate       1.00      1.00      1.00        30\n",
            "          expiration_date       0.87      0.90      0.89        30\n",
            "               find_phone       1.00      0.97      0.98        30\n",
            "            flight_status       1.00      1.00      1.00        30\n",
            "                flip_coin       1.00      1.00      1.00        30\n",
            "                food_last       0.96      0.80      0.87        30\n",
            "           freeze_account       0.88      1.00      0.94        30\n",
            "                 fun_fact       0.97      1.00      0.98        30\n",
            "                      gas       0.94      0.97      0.95        30\n",
            "                 gas_type       1.00      0.93      0.97        30\n",
            "                  goodbye       0.66      0.83      0.74        30\n",
            "                 greeting       0.71      1.00      0.83        30\n",
            "                 how_busy       0.82      0.77      0.79        30\n",
            "          how_old_are_you       1.00      0.93      0.97        30\n",
            "     improve_credit_score       0.93      0.83      0.88        30\n",
            "                   income       0.87      0.90      0.89        30\n",
            "  ingredient_substitution       0.93      0.93      0.93        30\n",
            "         ingredients_list       0.88      0.73      0.80        30\n",
            "                insurance       1.00      1.00      1.00        30\n",
            "         insurance_change       0.96      0.90      0.93        30\n",
            "            interest_rate       1.00      0.97      0.98        30\n",
            "       international_fees       1.00      0.97      0.98        30\n",
            "       international_visa       0.90      0.87      0.88        30\n",
            "               jump_start       1.00      1.00      1.00        30\n",
            "         last_maintenance       0.91      0.97      0.94        30\n",
            "             lost_luggage       1.00      0.97      0.98        30\n",
            "                make_call       0.75      0.90      0.82        30\n",
            "                    maybe       0.61      0.90      0.73        30\n",
            "          meal_suggestion       0.92      0.77      0.84        30\n",
            "          meaning_of_life       1.00      0.90      0.95        30\n",
            "   measurement_conversion       0.97      0.97      0.97        30\n",
            "         meeting_schedule       1.00      1.00      1.00        30\n",
            "              min_payment       1.00      0.97      0.98        30\n",
            "                      mpg       0.97      1.00      0.98        30\n",
            "                 new_card       0.89      0.80      0.84        30\n",
            "             next_holiday       0.91      0.97      0.94        30\n",
            "                next_song       1.00      0.97      0.98        30\n",
            "                       no       0.97      0.93      0.95        30\n",
            "           nutrition_info       1.00      1.00      1.00        30\n",
            "           oil_change_how       0.88      1.00      0.94        30\n",
            "          oil_change_when       0.90      0.93      0.92        30\n",
            "                    order       0.71      0.83      0.77        30\n",
            "             order_checks       0.97      1.00      0.98        30\n",
            "             order_status       0.93      0.83      0.88        30\n",
            "                 pay_bill       0.84      0.90      0.87        30\n",
            "                   payday       0.96      0.73      0.83        30\n",
            "               pin_change       1.00      0.83      0.91        30\n",
            "               play_music       0.88      0.70      0.78        30\n",
            "                plug_type       1.00      0.93      0.97        30\n",
            "              pto_balance       0.81      0.97      0.88        30\n",
            "              pto_request       1.00      0.77      0.87        30\n",
            "       pto_request_status       0.90      0.90      0.90        30\n",
            "                 pto_used       0.97      0.97      0.97        30\n",
            "                   recipe       0.74      0.77      0.75        30\n",
            "           redeem_rewards       0.96      0.77      0.85        30\n",
            "                 reminder       0.96      0.77      0.85        30\n",
            "          reminder_update       0.88      0.77      0.82        30\n",
            "                   repeat       1.00      0.87      0.93        30\n",
            "replacement_card_duration       0.93      0.87      0.90        30\n",
            "             report_fraud       0.93      0.87      0.90        30\n",
            "         report_lost_card       1.00      0.87      0.93        30\n",
            "           reset_settings       0.93      0.90      0.92        30\n",
            "   restaurant_reservation       0.84      0.90      0.87        30\n",
            "       restaurant_reviews       0.88      0.70      0.78        30\n",
            "    restaurant_suggestion       0.71      0.97      0.82        30\n",
            "          rewards_balance       0.81      1.00      0.90        30\n",
            "                roll_dice       1.00      0.93      0.97        30\n",
            "            rollover_401k       1.00      0.93      0.97        30\n",
            "                  routing       1.00      1.00      1.00        30\n",
            "     schedule_maintenance       0.96      0.87      0.91        30\n",
            "         schedule_meeting       0.94      1.00      0.97        30\n",
            "           share_location       0.90      0.87      0.88        30\n",
            "            shopping_list       0.78      0.60      0.68        30\n",
            "     shopping_list_update       0.82      0.77      0.79        30\n",
            "               smart_home       0.85      0.93      0.89        30\n",
            "                 spelling       1.00      0.97      0.98        30\n",
            "         spending_history       0.81      0.83      0.82        30\n",
            "              sync_device       0.90      0.90      0.90        30\n",
            "                    taxes       1.00      1.00      1.00        30\n",
            "                tell_joke       1.00      1.00      1.00        30\n",
            "                     text       1.00      0.90      0.95        30\n",
            "                thank_you       0.88      0.93      0.90        30\n",
            "                     time       0.90      0.90      0.90        30\n",
            "                    timer       0.94      0.97      0.95        30\n",
            "                 timezone       1.00      0.93      0.97        30\n",
            "              tire_change       1.00      0.93      0.97        30\n",
            "            tire_pressure       1.00      1.00      1.00        30\n",
            "                todo_list       0.79      0.90      0.84        30\n",
            "         todo_list_update       0.77      0.77      0.77        30\n",
            "                  traffic       1.00      0.93      0.97        30\n",
            "             transactions       0.96      0.80      0.87        30\n",
            "                 transfer       1.00      0.97      0.98        30\n",
            "                translate       0.83      0.83      0.83        30\n",
            "             travel_alert       0.97      0.93      0.95        30\n",
            "      travel_notification       0.93      0.90      0.92        30\n",
            "        travel_suggestion       0.73      0.90      0.81        30\n",
            "                     uber       1.00      1.00      1.00        30\n",
            "          update_playlist       0.97      0.93      0.95        30\n",
            "                user_name       0.81      0.83      0.82        30\n",
            "                 vaccines       0.97      0.97      0.97        30\n",
            "                       w2       0.91      1.00      0.95        30\n",
            "                  weather       0.86      1.00      0.92        30\n",
            "    what_are_your_hobbies       1.00      0.87      0.93        30\n",
            "       what_can_i_ask_you       0.88      0.93      0.90        30\n",
            "        what_is_your_name       0.82      0.90      0.86        30\n",
            "                what_song       0.97      0.93      0.95        30\n",
            "       where_are_you_from       0.88      0.97      0.92        30\n",
            "             whisper_mode       0.97      0.97      0.97        30\n",
            "      who_do_you_work_for       0.92      0.77      0.84        30\n",
            "             who_made_you       0.80      0.93      0.86        30\n",
            "                      yes       0.83      0.63      0.72        30\n",
            "\n",
            "                 accuracy                           0.91      4500\n",
            "                macro avg       0.92      0.91      0.91      4500\n",
            "             weighted avg       0.92      0.91      0.91      4500\n",
            "\n"
          ]
        }
      ],
      "source": [
        "from sklearn.metrics import accuracy_score, classification_report\n",
        "accuracy_val = accuracy_score(y_val, y_val_pred)\n",
        "print(\"Accuracy val :\", accuracy_val)\n",
        "accuracy_test = accuracy_score(y_test, y_test_pred)\n",
        "print(\"Accuracy test :\", accuracy_test)\n",
        "print(classification_report(y_test, y_test_pred))"
      ]
    },
    {
      "cell_type": "code",
      "execution_count": null,
      "metadata": {
        "id": "EXtoe38ffGwE"
      },
      "outputs": [],
      "source": [
        "X_oos = vectorizer.transform(oos[:,0])\n",
        "y_oos_pred = classifier.predict(X_oos)"
      ]
    },
    {
      "cell_type": "code",
      "execution_count": null,
      "metadata": {
        "colab": {
          "base_uri": "https://localhost:8080/"
        },
        "id": "WhQlfX0yfUN2",
        "outputId": "c4d7e72a-4740-4372-9bed-8f233e1951b0"
      },
      "outputs": [
        {
          "output_type": "stream",
          "name": "stdout",
          "text": [
            "how much has the dow changed today : income\n",
            "how many prime numbers are there between 0 and 100 : measurement_conversion\n",
            "can you tell me how to solve simple algebraic equations with one variable : greeting\n",
            "can you dim the brightness of my screen : smart_home\n",
            "what is the account number to the internet service i have : account_blocked\n",
            "can you see a hdmi cord : goodbye\n",
            "what veggies can i pair with mushrooms : what_can_i_ask_you\n",
            "can you put the car in fuel efficient mode : gas_type\n",
            "at what age can someone get a card : how_old_are_you\n",
            "please find today's most read stories from the new york times todayi : calculator\n"
          ]
        }
      ],
      "source": [
        "for i in range(10):\n",
        "  print(oos[i,0], \":\", y_oos_pred[i])"
      ]
    }
  ],
  "metadata": {
    "colab": {
      "provenance": [],
      "toc_visible": true,
      "authorship_tag": "ABX9TyMjzcW6/0OKZkrqZIRo9B6t",
      "include_colab_link": true
    },
    "kernelspec": {
      "display_name": "Python 3",
      "name": "python3"
    },
    "language_info": {
      "name": "python"
    }
  },
  "nbformat": 4,
  "nbformat_minor": 0
}