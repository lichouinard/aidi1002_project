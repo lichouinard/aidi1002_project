{
  "cells": [
    {
      "cell_type": "markdown",
      "metadata": {
        "id": "view-in-github",
        "colab_type": "text"
      },
      "source": [
        "<a href=\"https://colab.research.google.com/github/lichouinard/aidi1002_project/blob/main/intentRecognition.ipynb\" target=\"_parent\"><img src=\"https://colab.research.google.com/assets/colab-badge.svg\" alt=\"Open In Colab\"/></a>"
      ]
    },
    {
      "cell_type": "markdown",
      "metadata": {
        "id": "W5orBbC18gPQ"
      },
      "source": [
        "# Introduction:\n",
        "\n",
        "For intent recognition in NLP, we can use machine learning models to classify user inputs into predefined intents. Here we will use a neural network model to build and train a simple intent recognition model using TensorFlow and Keras.\n",
        "\n",
        "### Import all the necessary libraries and functions:"
      ]
    },
    {
      "cell_type": "code",
      "execution_count": 1,
      "metadata": {
        "colab": {
          "base_uri": "https://localhost:8080/"
        },
        "id": "CLeXChqkNnXG",
        "outputId": "6bc0a096-f594-499b-d612-ba88d1cd8e98"
      },
      "outputs": [
        {
          "output_type": "stream",
          "name": "stdout",
          "text": [
            "2.17.0\n"
          ]
        },
        {
          "output_type": "stream",
          "name": "stderr",
          "text": [
            "[nltk_data] Downloading package stopwords to /root/nltk_data...\n",
            "[nltk_data]   Unzipping corpora/stopwords.zip.\n",
            "[nltk_data] Downloading package punkt to /root/nltk_data...\n",
            "[nltk_data]   Unzipping tokenizers/punkt.zip.\n"
          ]
        }
      ],
      "source": [
        "import json\n",
        "import numpy as np\n",
        "import tensorflow as tf\n",
        "print(tf.__version__)\n",
        "from tensorflow import keras\n",
        "from keras.models import Sequential\n",
        "from keras.layers import Dense, Dropout, Embedding, SimpleRNN, GRU, LSTM\n",
        "from keras.preprocessing.sequence import pad_sequences\n",
        "from tensorflow.keras.preprocessing.text import Tokenizer\n",
        "\n",
        "from sklearn.preprocessing import LabelEncoder\n",
        "import nltk\n",
        "from nltk.corpus import stopwords\n",
        "\n",
        "nltk.download('stopwords')\n",
        "nltk.download('punkt')\n",
        "from transformers import BertConfig, AutoTokenizer, TFAutoModelForSequenceClassification\n",
        "import matplotlib.pyplot as plt"
      ]
    },
    {
      "cell_type": "markdown",
      "metadata": {
        "id": "-Ton1z6c81DN"
      },
      "source": [
        "# Prepare the Dataset\n",
        "This model uses intent classification dataset from Kaggle:\n",
        "https://www.kaggle.com/datasets/stefanlarson/outofscope-intent-classification-dataset/data\n",
        "\n",
        "Content\n",
        "\n",
        "  is_train.json,is_val.json, is_test.json: these files house the train/val/test sets for the in-scope data. There are 150 in-scope \"intents\" (aka classes), which include samples such as \"what is my balance\" (which belongs to the balance class).\n",
        "\n",
        "  oos_test.json:test sets for the out-of-scope data. There is one out-of-scope intent: oos"
      ]
    },
    {
      "cell_type": "code",
      "execution_count": 2,
      "metadata": {
        "colab": {
          "base_uri": "https://localhost:8080/",
          "height": 177
        },
        "id": "eABN2NtGq6pu",
        "outputId": "a94e5f35-fc1d-4077-8f80-1cd41ef0100b"
      },
      "outputs": [
        {
          "output_type": "display_data",
          "data": {
            "text/plain": [
              "<IPython.core.display.HTML object>"
            ],
            "text/html": [
              "\n",
              "     <input type=\"file\" id=\"files-b596f8b8-df5b-4da5-90a8-554e67ba2f52\" name=\"files[]\" multiple disabled\n",
              "        style=\"border:none\" />\n",
              "     <output id=\"result-b596f8b8-df5b-4da5-90a8-554e67ba2f52\">\n",
              "      Upload widget is only available when the cell has been executed in the\n",
              "      current browser session. Please rerun this cell to enable.\n",
              "      </output>\n",
              "      <script>// Copyright 2017 Google LLC\n",
              "//\n",
              "// Licensed under the Apache License, Version 2.0 (the \"License\");\n",
              "// you may not use this file except in compliance with the License.\n",
              "// You may obtain a copy of the License at\n",
              "//\n",
              "//      http://www.apache.org/licenses/LICENSE-2.0\n",
              "//\n",
              "// Unless required by applicable law or agreed to in writing, software\n",
              "// distributed under the License is distributed on an \"AS IS\" BASIS,\n",
              "// WITHOUT WARRANTIES OR CONDITIONS OF ANY KIND, either express or implied.\n",
              "// See the License for the specific language governing permissions and\n",
              "// limitations under the License.\n",
              "\n",
              "/**\n",
              " * @fileoverview Helpers for google.colab Python module.\n",
              " */\n",
              "(function(scope) {\n",
              "function span(text, styleAttributes = {}) {\n",
              "  const element = document.createElement('span');\n",
              "  element.textContent = text;\n",
              "  for (const key of Object.keys(styleAttributes)) {\n",
              "    element.style[key] = styleAttributes[key];\n",
              "  }\n",
              "  return element;\n",
              "}\n",
              "\n",
              "// Max number of bytes which will be uploaded at a time.\n",
              "const MAX_PAYLOAD_SIZE = 100 * 1024;\n",
              "\n",
              "function _uploadFiles(inputId, outputId) {\n",
              "  const steps = uploadFilesStep(inputId, outputId);\n",
              "  const outputElement = document.getElementById(outputId);\n",
              "  // Cache steps on the outputElement to make it available for the next call\n",
              "  // to uploadFilesContinue from Python.\n",
              "  outputElement.steps = steps;\n",
              "\n",
              "  return _uploadFilesContinue(outputId);\n",
              "}\n",
              "\n",
              "// This is roughly an async generator (not supported in the browser yet),\n",
              "// where there are multiple asynchronous steps and the Python side is going\n",
              "// to poll for completion of each step.\n",
              "// This uses a Promise to block the python side on completion of each step,\n",
              "// then passes the result of the previous step as the input to the next step.\n",
              "function _uploadFilesContinue(outputId) {\n",
              "  const outputElement = document.getElementById(outputId);\n",
              "  const steps = outputElement.steps;\n",
              "\n",
              "  const next = steps.next(outputElement.lastPromiseValue);\n",
              "  return Promise.resolve(next.value.promise).then((value) => {\n",
              "    // Cache the last promise value to make it available to the next\n",
              "    // step of the generator.\n",
              "    outputElement.lastPromiseValue = value;\n",
              "    return next.value.response;\n",
              "  });\n",
              "}\n",
              "\n",
              "/**\n",
              " * Generator function which is called between each async step of the upload\n",
              " * process.\n",
              " * @param {string} inputId Element ID of the input file picker element.\n",
              " * @param {string} outputId Element ID of the output display.\n",
              " * @return {!Iterable<!Object>} Iterable of next steps.\n",
              " */\n",
              "function* uploadFilesStep(inputId, outputId) {\n",
              "  const inputElement = document.getElementById(inputId);\n",
              "  inputElement.disabled = false;\n",
              "\n",
              "  const outputElement = document.getElementById(outputId);\n",
              "  outputElement.innerHTML = '';\n",
              "\n",
              "  const pickedPromise = new Promise((resolve) => {\n",
              "    inputElement.addEventListener('change', (e) => {\n",
              "      resolve(e.target.files);\n",
              "    });\n",
              "  });\n",
              "\n",
              "  const cancel = document.createElement('button');\n",
              "  inputElement.parentElement.appendChild(cancel);\n",
              "  cancel.textContent = 'Cancel upload';\n",
              "  const cancelPromise = new Promise((resolve) => {\n",
              "    cancel.onclick = () => {\n",
              "      resolve(null);\n",
              "    };\n",
              "  });\n",
              "\n",
              "  // Wait for the user to pick the files.\n",
              "  const files = yield {\n",
              "    promise: Promise.race([pickedPromise, cancelPromise]),\n",
              "    response: {\n",
              "      action: 'starting',\n",
              "    }\n",
              "  };\n",
              "\n",
              "  cancel.remove();\n",
              "\n",
              "  // Disable the input element since further picks are not allowed.\n",
              "  inputElement.disabled = true;\n",
              "\n",
              "  if (!files) {\n",
              "    return {\n",
              "      response: {\n",
              "        action: 'complete',\n",
              "      }\n",
              "    };\n",
              "  }\n",
              "\n",
              "  for (const file of files) {\n",
              "    const li = document.createElement('li');\n",
              "    li.append(span(file.name, {fontWeight: 'bold'}));\n",
              "    li.append(span(\n",
              "        `(${file.type || 'n/a'}) - ${file.size} bytes, ` +\n",
              "        `last modified: ${\n",
              "            file.lastModifiedDate ? file.lastModifiedDate.toLocaleDateString() :\n",
              "                                    'n/a'} - `));\n",
              "    const percent = span('0% done');\n",
              "    li.appendChild(percent);\n",
              "\n",
              "    outputElement.appendChild(li);\n",
              "\n",
              "    const fileDataPromise = new Promise((resolve) => {\n",
              "      const reader = new FileReader();\n",
              "      reader.onload = (e) => {\n",
              "        resolve(e.target.result);\n",
              "      };\n",
              "      reader.readAsArrayBuffer(file);\n",
              "    });\n",
              "    // Wait for the data to be ready.\n",
              "    let fileData = yield {\n",
              "      promise: fileDataPromise,\n",
              "      response: {\n",
              "        action: 'continue',\n",
              "      }\n",
              "    };\n",
              "\n",
              "    // Use a chunked sending to avoid message size limits. See b/62115660.\n",
              "    let position = 0;\n",
              "    do {\n",
              "      const length = Math.min(fileData.byteLength - position, MAX_PAYLOAD_SIZE);\n",
              "      const chunk = new Uint8Array(fileData, position, length);\n",
              "      position += length;\n",
              "\n",
              "      const base64 = btoa(String.fromCharCode.apply(null, chunk));\n",
              "      yield {\n",
              "        response: {\n",
              "          action: 'append',\n",
              "          file: file.name,\n",
              "          data: base64,\n",
              "        },\n",
              "      };\n",
              "\n",
              "      let percentDone = fileData.byteLength === 0 ?\n",
              "          100 :\n",
              "          Math.round((position / fileData.byteLength) * 100);\n",
              "      percent.textContent = `${percentDone}% done`;\n",
              "\n",
              "    } while (position < fileData.byteLength);\n",
              "  }\n",
              "\n",
              "  // All done.\n",
              "  yield {\n",
              "    response: {\n",
              "      action: 'complete',\n",
              "    }\n",
              "  };\n",
              "}\n",
              "\n",
              "scope.google = scope.google || {};\n",
              "scope.google.colab = scope.google.colab || {};\n",
              "scope.google.colab._files = {\n",
              "  _uploadFiles,\n",
              "  _uploadFilesContinue,\n",
              "};\n",
              "})(self);\n",
              "</script> "
            ]
          },
          "metadata": {}
        },
        {
          "output_type": "stream",
          "name": "stdout",
          "text": [
            "Saving is_test.json to is_test.json\n",
            "Saving is_train.json to is_train.json\n",
            "Saving is_val.json to is_val.json\n",
            "Saving oos_test.json to oos_test.json\n"
          ]
        }
      ],
      "source": [
        "import io\n",
        "import pandas as pd\n",
        "from google.colab import files\n",
        "uploaded = files.upload()"
      ]
    },
    {
      "cell_type": "code",
      "execution_count": 3,
      "metadata": {
        "id": "4dd7RMMBtsXP"
      },
      "outputs": [],
      "source": [
        "PATH_TO_TRAIN_DS = \"/content/is_train.json\"\n",
        "PATH_TO_VALID_DS = \"/content/is_val.json\"\n",
        "PATH_TO_TEST_DS = \"/content/is_test.json\"\n",
        "PATH_TO_OOS_DATA = \"/content/oos_test.json\"\n",
        "\n",
        "tf.random.set_seed(42)"
      ]
    },
    {
      "cell_type": "code",
      "execution_count": 4,
      "metadata": {
        "id": "A_HaK_HtzbeD"
      },
      "outputs": [],
      "source": [
        "train = np.array(json.load(open(PATH_TO_TRAIN_DS, 'r')))\n",
        "val = np.array(json.load(open(PATH_TO_VALID_DS, 'r')))\n",
        "test = np.array(json.load(open(PATH_TO_TEST_DS, 'r')))\n",
        "oos = np.array(json.load(open(PATH_TO_OOS_DATA, 'r')))"
      ]
    },
    {
      "cell_type": "code",
      "execution_count": null,
      "metadata": {
        "colab": {
          "base_uri": "https://localhost:8080/"
        },
        "id": "poVno7Zqr1i5",
        "outputId": "85615159-9042-4bed-831b-f1b74e401a06"
      },
      "outputs": [
        {
          "data": {
            "text/plain": [
              "array(['translate', 'translate', 'translate', ..., 'card_declined',\n",
              "       'card_declined', 'card_declined'], dtype='<U136')"
            ]
          },
          "execution_count": 9,
          "metadata": {},
          "output_type": "execute_result"
        }
      ],
      "source": [
        "train[:,1]"
      ]
    },
    {
      "cell_type": "code",
      "execution_count": 5,
      "metadata": {
        "id": "xwFj_19Hr8J-"
      },
      "outputs": [],
      "source": [
        "data_train = pd.DataFrame({\n",
        "    'text' : train[:,0],\n",
        "    'label': train[:,1]\n",
        "})\n",
        "data_val = pd.DataFrame({\n",
        "    'text' : val[:,0],\n",
        "    'label': val[:,1]\n",
        "})\n",
        "data_test = pd.DataFrame({\n",
        "    'text' : test[:,0],\n",
        "    'label': test[:,1]\n",
        "})\n",
        "data_oos = pd.DataFrame({\n",
        "    'text' : oos[:,0],\n",
        "    'label': oos[:,1]\n",
        "})"
      ]
    },
    {
      "cell_type": "code",
      "execution_count": null,
      "metadata": {
        "colab": {
          "base_uri": "https://localhost:8080/"
        },
        "id": "0ZDgB9kjsA9e",
        "outputId": "fd1c273e-30b0-48df-a024-5c3b9450253b"
      },
      "outputs": [
        {
          "name": "stdout",
          "output_type": "stream",
          "text": [
            "<class 'pandas.core.series.Series'>\n",
            "RangeIndex: 3000 entries, 0 to 2999\n",
            "Series name: text\n",
            "Non-Null Count  Dtype \n",
            "--------------  ----- \n",
            "3000 non-null   object\n",
            "dtypes: object(1)\n",
            "memory usage: 23.6+ KB\n"
          ]
        }
      ],
      "source": [
        "data_val[\"text\"].info()"
      ]
    },
    {
      "cell_type": "code",
      "execution_count": null,
      "metadata": {
        "colab": {
          "base_uri": "https://localhost:8080/"
        },
        "id": "1L0Le_4MsJ5N",
        "outputId": "855e010e-839d-4056-aa23-a638224bf2e2"
      },
      "outputs": [
        {
          "name": "stdout",
          "output_type": "stream",
          "text": [
            "Number of classes: 150\n"
          ]
        }
      ],
      "source": [
        "labels = np.sort(np.unique(train[:,1]))\n",
        "label_to_id = {label:i for i,label in enumerate(labels)}\n",
        "id_to_label = {i:label for i,label in enumerate(labels)}\n",
        "num_classes = len(labels)\n",
        "print(f\"Number of classes: {num_classes}\")"
      ]
    },
    {
      "cell_type": "code",
      "execution_count": null,
      "metadata": {
        "colab": {
          "base_uri": "https://localhost:8080/",
          "height": 36
        },
        "id": "kOXpDZ2KsNkV",
        "outputId": "337d8eb5-4e2f-4d44-c0b1-fb6c2d4ae1e7"
      },
      "outputs": [
        {
          "data": {
            "application/vnd.google.colaboratory.intrinsic+json": {
              "type": "string"
            },
            "text/plain": [
              "'direct_deposit'"
            ]
          },
          "execution_count": 10,
          "metadata": {},
          "output_type": "execute_result"
        }
      ],
      "source": [
        "id_to_label[np.random.randint(150)]"
      ]
    },
    {
      "cell_type": "markdown",
      "metadata": {
        "id": "rDH5PxxM9mKT"
      },
      "source": [
        "Tokenize the text patterns and pad the sequences to ensure uniform input shape.\n",
        "\n",
        "Encode the intent labels and convert them to categorical one-hot encoding."
      ]
    },
    {
      "cell_type": "code",
      "execution_count": null,
      "metadata": {
        "id": "QV0DomS-tBlX"
      },
      "outputs": [],
      "source": [
        "# text processing\n",
        "from keras.utils import to_categorical\n",
        "tokenizer = Tokenizer(num_words=100, oov_token=\"<OOV>\")\n",
        "tokenizer.fit_on_texts(data_train['text'])\n",
        "sequences = tokenizer.texts_to_sequences(data_train['text'])\n",
        "max_length = 128\n",
        "train_sequences = pad_sequences(sequences, padding='post', maxlen=max_length)\n",
        "\n",
        "\n",
        "# Encode labels into integer numeric values\n",
        "label_encoder = LabelEncoder()\n",
        "train_labels_encoded = label_encoder.fit_transform(data_train['label'])\n",
        "\n",
        "# Convert encoded labels to one-hot encoding\n",
        "train_labels = to_categorical(train_labels_encoded, num_classes)"
      ]
    },
    {
      "cell_type": "code",
      "execution_count": null,
      "metadata": {
        "colab": {
          "base_uri": "https://localhost:8080/",
          "height": 206
        },
        "id": "vtLZ-Euwgngs",
        "outputId": "d3a16308-d905-496d-d6fa-bcce67ac08ea"
      },
      "outputs": [
        {
          "data": {
            "application/vnd.google.colaboratory.intrinsic+json": {
              "summary": "{\n  \"name\": \"data_oos\",\n  \"rows\": 1000,\n  \"fields\": [\n    {\n      \"column\": \"text\",\n      \"properties\": {\n        \"dtype\": \"string\",\n        \"num_unique_values\": 1000,\n        \"samples\": [\n          \"can you colorize a black and white photo\",\n          \"accept incoming phone call\",\n          \"what do i put on my feet\"\n        ],\n        \"semantic_type\": \"\",\n        \"description\": \"\"\n      }\n    },\n    {\n      \"column\": \"label\",\n      \"properties\": {\n        \"dtype\": \"category\",\n        \"num_unique_values\": 1,\n        \"samples\": [\n          \"oos\"\n        ],\n        \"semantic_type\": \"\",\n        \"description\": \"\"\n      }\n    }\n  ]\n}",
              "type": "dataframe",
              "variable_name": "data_oos"
            },
            "text/html": [
              "\n",
              "  <div id=\"df-697952e5-435b-45c0-9368-a80a5fdb64c7\" class=\"colab-df-container\">\n",
              "    <div>\n",
              "<style scoped>\n",
              "    .dataframe tbody tr th:only-of-type {\n",
              "        vertical-align: middle;\n",
              "    }\n",
              "\n",
              "    .dataframe tbody tr th {\n",
              "        vertical-align: top;\n",
              "    }\n",
              "\n",
              "    .dataframe thead th {\n",
              "        text-align: right;\n",
              "    }\n",
              "</style>\n",
              "<table border=\"1\" class=\"dataframe\">\n",
              "  <thead>\n",
              "    <tr style=\"text-align: right;\">\n",
              "      <th></th>\n",
              "      <th>text</th>\n",
              "      <th>label</th>\n",
              "    </tr>\n",
              "  </thead>\n",
              "  <tbody>\n",
              "    <tr>\n",
              "      <th>0</th>\n",
              "      <td>how much has the dow changed today</td>\n",
              "      <td>oos</td>\n",
              "    </tr>\n",
              "    <tr>\n",
              "      <th>1</th>\n",
              "      <td>how many prime numbers are there between 0 and...</td>\n",
              "      <td>oos</td>\n",
              "    </tr>\n",
              "    <tr>\n",
              "      <th>2</th>\n",
              "      <td>can you tell me how to solve simple algebraic ...</td>\n",
              "      <td>oos</td>\n",
              "    </tr>\n",
              "    <tr>\n",
              "      <th>3</th>\n",
              "      <td>can you dim the brightness of my screen</td>\n",
              "      <td>oos</td>\n",
              "    </tr>\n",
              "    <tr>\n",
              "      <th>4</th>\n",
              "      <td>what is the account number to the internet ser...</td>\n",
              "      <td>oos</td>\n",
              "    </tr>\n",
              "  </tbody>\n",
              "</table>\n",
              "</div>\n",
              "    <div class=\"colab-df-buttons\">\n",
              "\n",
              "  <div class=\"colab-df-container\">\n",
              "    <button class=\"colab-df-convert\" onclick=\"convertToInteractive('df-697952e5-435b-45c0-9368-a80a5fdb64c7')\"\n",
              "            title=\"Convert this dataframe to an interactive table.\"\n",
              "            style=\"display:none;\">\n",
              "\n",
              "  <svg xmlns=\"http://www.w3.org/2000/svg\" height=\"24px\" viewBox=\"0 -960 960 960\">\n",
              "    <path d=\"M120-120v-720h720v720H120Zm60-500h600v-160H180v160Zm220 220h160v-160H400v160Zm0 220h160v-160H400v160ZM180-400h160v-160H180v160Zm440 0h160v-160H620v160ZM180-180h160v-160H180v160Zm440 0h160v-160H620v160Z\"/>\n",
              "  </svg>\n",
              "    </button>\n",
              "\n",
              "  <style>\n",
              "    .colab-df-container {\n",
              "      display:flex;\n",
              "      gap: 12px;\n",
              "    }\n",
              "\n",
              "    .colab-df-convert {\n",
              "      background-color: #E8F0FE;\n",
              "      border: none;\n",
              "      border-radius: 50%;\n",
              "      cursor: pointer;\n",
              "      display: none;\n",
              "      fill: #1967D2;\n",
              "      height: 32px;\n",
              "      padding: 0 0 0 0;\n",
              "      width: 32px;\n",
              "    }\n",
              "\n",
              "    .colab-df-convert:hover {\n",
              "      background-color: #E2EBFA;\n",
              "      box-shadow: 0px 1px 2px rgba(60, 64, 67, 0.3), 0px 1px 3px 1px rgba(60, 64, 67, 0.15);\n",
              "      fill: #174EA6;\n",
              "    }\n",
              "\n",
              "    .colab-df-buttons div {\n",
              "      margin-bottom: 4px;\n",
              "    }\n",
              "\n",
              "    [theme=dark] .colab-df-convert {\n",
              "      background-color: #3B4455;\n",
              "      fill: #D2E3FC;\n",
              "    }\n",
              "\n",
              "    [theme=dark] .colab-df-convert:hover {\n",
              "      background-color: #434B5C;\n",
              "      box-shadow: 0px 1px 3px 1px rgba(0, 0, 0, 0.15);\n",
              "      filter: drop-shadow(0px 1px 2px rgba(0, 0, 0, 0.3));\n",
              "      fill: #FFFFFF;\n",
              "    }\n",
              "  </style>\n",
              "\n",
              "    <script>\n",
              "      const buttonEl =\n",
              "        document.querySelector('#df-697952e5-435b-45c0-9368-a80a5fdb64c7 button.colab-df-convert');\n",
              "      buttonEl.style.display =\n",
              "        google.colab.kernel.accessAllowed ? 'block' : 'none';\n",
              "\n",
              "      async function convertToInteractive(key) {\n",
              "        const element = document.querySelector('#df-697952e5-435b-45c0-9368-a80a5fdb64c7');\n",
              "        const dataTable =\n",
              "          await google.colab.kernel.invokeFunction('convertToInteractive',\n",
              "                                                    [key], {});\n",
              "        if (!dataTable) return;\n",
              "\n",
              "        const docLinkHtml = 'Like what you see? Visit the ' +\n",
              "          '<a target=\"_blank\" href=https://colab.research.google.com/notebooks/data_table.ipynb>data table notebook</a>'\n",
              "          + ' to learn more about interactive tables.';\n",
              "        element.innerHTML = '';\n",
              "        dataTable['output_type'] = 'display_data';\n",
              "        await google.colab.output.renderOutput(dataTable, element);\n",
              "        const docLink = document.createElement('div');\n",
              "        docLink.innerHTML = docLinkHtml;\n",
              "        element.appendChild(docLink);\n",
              "      }\n",
              "    </script>\n",
              "  </div>\n",
              "\n",
              "\n",
              "<div id=\"df-eea9098c-69ac-4f42-aa6b-c49afe17e777\">\n",
              "  <button class=\"colab-df-quickchart\" onclick=\"quickchart('df-eea9098c-69ac-4f42-aa6b-c49afe17e777')\"\n",
              "            title=\"Suggest charts\"\n",
              "            style=\"display:none;\">\n",
              "\n",
              "<svg xmlns=\"http://www.w3.org/2000/svg\" height=\"24px\"viewBox=\"0 0 24 24\"\n",
              "     width=\"24px\">\n",
              "    <g>\n",
              "        <path d=\"M19 3H5c-1.1 0-2 .9-2 2v14c0 1.1.9 2 2 2h14c1.1 0 2-.9 2-2V5c0-1.1-.9-2-2-2zM9 17H7v-7h2v7zm4 0h-2V7h2v10zm4 0h-2v-4h2v4z\"/>\n",
              "    </g>\n",
              "</svg>\n",
              "  </button>\n",
              "\n",
              "<style>\n",
              "  .colab-df-quickchart {\n",
              "      --bg-color: #E8F0FE;\n",
              "      --fill-color: #1967D2;\n",
              "      --hover-bg-color: #E2EBFA;\n",
              "      --hover-fill-color: #174EA6;\n",
              "      --disabled-fill-color: #AAA;\n",
              "      --disabled-bg-color: #DDD;\n",
              "  }\n",
              "\n",
              "  [theme=dark] .colab-df-quickchart {\n",
              "      --bg-color: #3B4455;\n",
              "      --fill-color: #D2E3FC;\n",
              "      --hover-bg-color: #434B5C;\n",
              "      --hover-fill-color: #FFFFFF;\n",
              "      --disabled-bg-color: #3B4455;\n",
              "      --disabled-fill-color: #666;\n",
              "  }\n",
              "\n",
              "  .colab-df-quickchart {\n",
              "    background-color: var(--bg-color);\n",
              "    border: none;\n",
              "    border-radius: 50%;\n",
              "    cursor: pointer;\n",
              "    display: none;\n",
              "    fill: var(--fill-color);\n",
              "    height: 32px;\n",
              "    padding: 0;\n",
              "    width: 32px;\n",
              "  }\n",
              "\n",
              "  .colab-df-quickchart:hover {\n",
              "    background-color: var(--hover-bg-color);\n",
              "    box-shadow: 0 1px 2px rgba(60, 64, 67, 0.3), 0 1px 3px 1px rgba(60, 64, 67, 0.15);\n",
              "    fill: var(--button-hover-fill-color);\n",
              "  }\n",
              "\n",
              "  .colab-df-quickchart-complete:disabled,\n",
              "  .colab-df-quickchart-complete:disabled:hover {\n",
              "    background-color: var(--disabled-bg-color);\n",
              "    fill: var(--disabled-fill-color);\n",
              "    box-shadow: none;\n",
              "  }\n",
              "\n",
              "  .colab-df-spinner {\n",
              "    border: 2px solid var(--fill-color);\n",
              "    border-color: transparent;\n",
              "    border-bottom-color: var(--fill-color);\n",
              "    animation:\n",
              "      spin 1s steps(1) infinite;\n",
              "  }\n",
              "\n",
              "  @keyframes spin {\n",
              "    0% {\n",
              "      border-color: transparent;\n",
              "      border-bottom-color: var(--fill-color);\n",
              "      border-left-color: var(--fill-color);\n",
              "    }\n",
              "    20% {\n",
              "      border-color: transparent;\n",
              "      border-left-color: var(--fill-color);\n",
              "      border-top-color: var(--fill-color);\n",
              "    }\n",
              "    30% {\n",
              "      border-color: transparent;\n",
              "      border-left-color: var(--fill-color);\n",
              "      border-top-color: var(--fill-color);\n",
              "      border-right-color: var(--fill-color);\n",
              "    }\n",
              "    40% {\n",
              "      border-color: transparent;\n",
              "      border-right-color: var(--fill-color);\n",
              "      border-top-color: var(--fill-color);\n",
              "    }\n",
              "    60% {\n",
              "      border-color: transparent;\n",
              "      border-right-color: var(--fill-color);\n",
              "    }\n",
              "    80% {\n",
              "      border-color: transparent;\n",
              "      border-right-color: var(--fill-color);\n",
              "      border-bottom-color: var(--fill-color);\n",
              "    }\n",
              "    90% {\n",
              "      border-color: transparent;\n",
              "      border-bottom-color: var(--fill-color);\n",
              "    }\n",
              "  }\n",
              "</style>\n",
              "\n",
              "  <script>\n",
              "    async function quickchart(key) {\n",
              "      const quickchartButtonEl =\n",
              "        document.querySelector('#' + key + ' button');\n",
              "      quickchartButtonEl.disabled = true;  // To prevent multiple clicks.\n",
              "      quickchartButtonEl.classList.add('colab-df-spinner');\n",
              "      try {\n",
              "        const charts = await google.colab.kernel.invokeFunction(\n",
              "            'suggestCharts', [key], {});\n",
              "      } catch (error) {\n",
              "        console.error('Error during call to suggestCharts:', error);\n",
              "      }\n",
              "      quickchartButtonEl.classList.remove('colab-df-spinner');\n",
              "      quickchartButtonEl.classList.add('colab-df-quickchart-complete');\n",
              "    }\n",
              "    (() => {\n",
              "      let quickchartButtonEl =\n",
              "        document.querySelector('#df-eea9098c-69ac-4f42-aa6b-c49afe17e777 button');\n",
              "      quickchartButtonEl.style.display =\n",
              "        google.colab.kernel.accessAllowed ? 'block' : 'none';\n",
              "    })();\n",
              "  </script>\n",
              "</div>\n",
              "\n",
              "    </div>\n",
              "  </div>\n"
            ],
            "text/plain": [
              "                                                text label\n",
              "0                 how much has the dow changed today   oos\n",
              "1  how many prime numbers are there between 0 and...   oos\n",
              "2  can you tell me how to solve simple algebraic ...   oos\n",
              "3            can you dim the brightness of my screen   oos\n",
              "4  what is the account number to the internet ser...   oos"
            ]
          },
          "execution_count": 34,
          "metadata": {},
          "output_type": "execute_result"
        }
      ],
      "source": [
        "data_oos.head()"
      ]
    },
    {
      "cell_type": "code",
      "execution_count": null,
      "metadata": {
        "id": "eAGYrJewtmsp"
      },
      "outputs": [],
      "source": [
        "sequences_val = tokenizer.texts_to_sequences(data_val['text'])\n",
        "val_sequences = pad_sequences(sequences_val, padding='post', maxlen=max_length)\n",
        "\n",
        "val_labels_encoded = label_encoder.transform(data_val['label'])\n",
        "val_labels = to_categorical(val_labels_encoded, num_classes)\n",
        "\n",
        "sequences_test = tokenizer.texts_to_sequences(data_test['text'])\n",
        "test_sequences = pad_sequences(sequences_test, padding='post',maxlen=max_length)\n",
        "\n",
        "test_labels_encoded = label_encoder.transform(data_test['label'])\n",
        "test_labels = to_categorical(test_labels_encoded, num_classes)\n",
        "\n",
        "sequences_oos = tokenizer.texts_to_sequences(data_oos['text'])\n",
        "oos_sequences = pad_sequences(sequences_oos, padding='post', maxlen=max_length)"
      ]
    },
    {
      "cell_type": "code",
      "execution_count": null,
      "metadata": {
        "colab": {
          "background_save": true
        },
        "id": "c6Z7FFI_uq64"
      },
      "outputs": [],
      "source": [
        "len(sequences_val)"
      ]
    },
    {
      "cell_type": "code",
      "execution_count": null,
      "metadata": {
        "colab": {
          "base_uri": "https://localhost:8080/"
        },
        "id": "wux8AY9puyS3",
        "outputId": "bee8e26f-bd71-4387-dc01-724ed71d2419"
      },
      "outputs": [
        {
          "data": {
            "text/plain": [
              "(15000, (15000, 150))"
            ]
          },
          "execution_count": 39,
          "metadata": {},
          "output_type": "execute_result"
        }
      ],
      "source": [
        "len(train_labels), train_labels.shape"
      ]
    },
    {
      "cell_type": "code",
      "execution_count": null,
      "metadata": {
        "id": "_kfYrZMgu2FA"
      },
      "outputs": [],
      "source": [
        "#Adjust the shape of training and validation labels\n",
        "train_labels = np.reshape(train_labels, (len(train_labels), 150))\n",
        "val_labels = np.reshape(val_labels, (len(val_labels), 150))\n",
        "test_labels = np.reshape(test_labels, (len(test_labels), 150))"
      ]
    },
    {
      "cell_type": "code",
      "execution_count": null,
      "metadata": {
        "colab": {
          "base_uri": "https://localhost:8080/"
        },
        "id": "31Kq51slvAe3",
        "outputId": "8a3c25d7-fa6e-48cd-b05e-3ffff68c22fd"
      },
      "outputs": [
        {
          "data": {
            "text/plain": [
              "((3000, 28), (3000, 150), (4500, 28), (4500, 150))"
            ]
          },
          "execution_count": 56,
          "metadata": {},
          "output_type": "execute_result"
        }
      ],
      "source": [
        "val_sequences.shape, val_labels.shape,test_sequences.shape, test_labels.shape,"
      ]
    },
    {
      "cell_type": "code",
      "execution_count": null,
      "metadata": {
        "id": "feqHzxqfvF6H"
      },
      "outputs": [],
      "source": [
        "word_index = tokenizer.word_index\n",
        "vocab_size = len(word_index) +1\n",
        "max_sequence_length = max(len(sequence) for sequence in train_sequences)\n",
        "embedding_dim = min(100, vocab_size // 2)"
      ]
    },
    {
      "cell_type": "code",
      "execution_count": null,
      "metadata": {
        "colab": {
          "base_uri": "https://localhost:8080/"
        },
        "id": "WP0I0pECvLH2",
        "outputId": "e55f5e62-354b-4dca-f7ad-32a7c055b2b0"
      },
      "outputs": [
        {
          "data": {
            "text/plain": [
              "28"
            ]
          },
          "execution_count": 13,
          "metadata": {},
          "output_type": "execute_result"
        }
      ],
      "source": [
        "max(len(sequence) for sequence in val_sequences)"
      ]
    },
    {
      "cell_type": "code",
      "execution_count": null,
      "metadata": {
        "colab": {
          "base_uri": "https://localhost:8080/"
        },
        "id": "EJvaozekvNwX",
        "outputId": "7bc79661-ff8c-4b2d-882b-d956ee8411cd"
      },
      "outputs": [
        {
          "data": {
            "text/plain": [
              "((3000, 28), (3000, 150))"
            ]
          },
          "execution_count": 59,
          "metadata": {},
          "output_type": "execute_result"
        }
      ],
      "source": [
        "val_sequences.shape, val_labels.shape,"
      ]
    },
    {
      "cell_type": "markdown",
      "metadata": {
        "id": "XmkJKPHp-TQf"
      },
      "source": [
        "# Evaluation Metrics"
      ]
    },
    {
      "cell_type": "code",
      "execution_count": null,
      "metadata": {
        "id": "3M2dYDRjvioF"
      },
      "outputs": [],
      "source": [
        "def graph_history(history):\n",
        "\n",
        "    # Get training and validation metrics from history\n",
        "    training_loss = history.history['loss']\n",
        "    validation_loss =history.history['val_loss']\n",
        "    training_accuracy = history.history['accuracy']\n",
        "    validation_accuracy = history.history['val_accuracy']\n",
        "\n",
        "    # Create a Pandas DataFrame with training and validation metrics\n",
        "    history_df = pd.DataFrame({\n",
        "        'Training Loss': training_loss,\n",
        "        'Validation Loss': validation_loss,\n",
        "        'Training Accuracy': training_accuracy,\n",
        "        'Validation Accuracy': validation_accuracy\n",
        "    })\n",
        "\n",
        "    # Plot loss curves\n",
        "    plt.figure(figsize=(10, 6))\n",
        "    plt.plot(history_df['Training Loss'], label='Training Loss')\n",
        "    plt.plot(history_df['Validation Loss'], label='Validation Loss')\n",
        "    plt.xlabel('Epoch')\n",
        "    plt.ylabel('Loss')\n",
        "    plt.title('Training and Validation Loss')\n",
        "    plt.legend()\n",
        "    plt.show()\n",
        "\n",
        "    # Plot precision curves (accuracy)\n",
        "    plt.figure(figsize=(10, 6))\n",
        "    plt.plot(history_df['Training Accuracy'], label='Training Accuracy')\n",
        "    plt.plot(history_df['Validation Accuracy'], label='Validation Accuracy')\n",
        "    plt.xlabel('Epoch')\n",
        "    plt.ylabel('Accuracy')\n",
        "    plt.title('Training and Validation Accuracy')\n",
        "    plt.legend()\n",
        "    plt.show()"
      ]
    },
    {
      "cell_type": "markdown",
      "metadata": {
        "id": "Wv09mEKs2XVw"
      },
      "source": [
        "# Build Deep Learning models\n",
        "\n",
        "**Pros:**\n",
        "\n",
        "* Captures semantic meaning of words.\n",
        "* More effective for complex and large datasets.\n",
        "\n",
        "**Cons:**\n",
        "\n",
        "* Requires more computational resources and data.\n",
        "* More complex to implement.\n",
        "\n",
        "\n",
        "##RNN"
      ]
    },
    {
      "cell_type": "code",
      "execution_count": null,
      "metadata": {
        "colab": {
          "base_uri": "https://localhost:8080/",
          "height": 1000
        },
        "id": "sQdOfPN62e5s",
        "outputId": "1a64ff17-67c4-4703-cea5-a23edc07c3a3"
      },
      "outputs": [
        {
          "name": "stdout",
          "output_type": "stream",
          "text": [
            "Epoch 1/15\n",
            "469/469 [==============================] - 13s 23ms/step - loss: 4.4176 - accuracy: 0.0621 - val_loss: 3.9155 - val_accuracy: 0.1243\n",
            "Epoch 2/15\n",
            "469/469 [==============================] - 11s 24ms/step - loss: 3.6277 - accuracy: 0.1641 - val_loss: 3.5835 - val_accuracy: 0.1547\n",
            "Epoch 3/15\n",
            "469/469 [==============================] - 15s 32ms/step - loss: 3.2900 - accuracy: 0.2194 - val_loss: 3.3588 - val_accuracy: 0.2153\n",
            "Epoch 4/15\n",
            "469/469 [==============================] - 21s 44ms/step - loss: 3.0667 - accuracy: 0.2608 - val_loss: 3.2279 - val_accuracy: 0.2460\n",
            "Epoch 5/15\n",
            "469/469 [==============================] - 18s 39ms/step - loss: 2.9367 - accuracy: 0.2867 - val_loss: 3.3124 - val_accuracy: 0.2290\n",
            "Epoch 6/15\n",
            "469/469 [==============================] - 18s 38ms/step - loss: 2.7938 - accuracy: 0.3140 - val_loss: 3.0544 - val_accuracy: 0.2633\n",
            "Epoch 7/15\n",
            "469/469 [==============================] - 9s 20ms/step - loss: 2.6800 - accuracy: 0.3378 - val_loss: 2.9553 - val_accuracy: 0.2957\n",
            "Epoch 8/15\n",
            "469/469 [==============================] - 11s 24ms/step - loss: 2.6085 - accuracy: 0.3501 - val_loss: 2.9641 - val_accuracy: 0.2943\n",
            "Epoch 9/15\n",
            "469/469 [==============================] - 16s 34ms/step - loss: 2.5352 - accuracy: 0.3645 - val_loss: 2.9282 - val_accuracy: 0.2953\n",
            "Epoch 10/15\n",
            "469/469 [==============================] - 18s 38ms/step - loss: 2.4769 - accuracy: 0.3731 - val_loss: 2.9315 - val_accuracy: 0.2967\n",
            "Epoch 11/15\n",
            "469/469 [==============================] - 21s 45ms/step - loss: 2.4127 - accuracy: 0.3909 - val_loss: 2.8008 - val_accuracy: 0.3200\n",
            "Epoch 12/15\n",
            "469/469 [==============================] - 15s 33ms/step - loss: 2.3356 - accuracy: 0.4063 - val_loss: 2.8250 - val_accuracy: 0.3220\n",
            "Epoch 13/15\n",
            "469/469 [==============================] - 10s 21ms/step - loss: 2.3007 - accuracy: 0.4108 - val_loss: 2.8772 - val_accuracy: 0.3113\n",
            "Epoch 14/15\n",
            "469/469 [==============================] - 10s 21ms/step - loss: 2.2506 - accuracy: 0.4234 - val_loss: 2.7316 - val_accuracy: 0.3470\n",
            "Epoch 15/15\n",
            "469/469 [==============================] - 11s 23ms/step - loss: 2.2091 - accuracy: 0.4277 - val_loss: 2.8532 - val_accuracy: 0.3203\n",
            "141/141 [==============================] - 1s 5ms/step - loss: 2.8696 - accuracy: 0.3202\n",
            "Loss: 2.869576930999756, Accuracy: 0.32022222876548767\n"
          ]
        },
        {
          "data": {
            "image/png": "[encoded data removed]",
            "text/plain": [
              "<Figure size 1000x600 with 1 Axes>"
            ]
          },
          "metadata": {},
          "output_type": "display_data"
        },
        {
          "data": {
            "image/png": "[encoded data removed]",
            "text/plain": [
              "<Figure size 1000x600 with 1 Axes>"
            ]
          },
          "metadata": {},
          "output_type": "display_data"
        },
        {
          "name": "stdout",
          "output_type": "stream",
          "text": [
            "32/32 [==============================] - 0s 5ms/step\n",
            "RNN Prediction: [[4.0964896e-06 3.2656841e-04 3.3892659e-06 ... 8.4160793e-06\n",
            "  5.3163971e-05 1.4129365e-05]\n",
            " [2.8663391e-04 4.5715595e-04 2.1919559e-04 ... 3.3074430e-05\n",
            "  7.4045347e-06 2.4421908e-05]\n",
            " [2.8225472e-02 7.3102776e-05 3.4223378e-04 ... 1.6913767e-04\n",
            "  3.7662682e-04 1.2778673e-06]\n",
            " ...\n",
            " [3.7664379e-06 5.1883519e-02 1.2458874e-03 ... 1.5418424e-04\n",
            "  5.0254556e-04 5.0301356e-03]\n",
            " [9.4175752e-04 1.8895780e-05 4.2689135e-03 ... 1.9803410e-04\n",
            "  7.3907687e-04 3.5127567e-04]\n",
            " [1.9725726e-03 2.3981002e-05 4.1744708e-05 ... 4.5302674e-02\n",
            "  1.7952362e-01 1.5858767e-04]]\n"
          ]
        }
      ],
      "source": [
        "# Define the recurrent neural network model\n",
        "model_RNN = Sequential([\n",
        "    Embedding(input_dim=vocab_size, output_dim=embedding_dim, input_length=max_sequence_length),\n",
        "    SimpleRNN(128, input_shape=(train_sequences.shape[1], 1)),\n",
        "    Dense(num_classes, activation='softmax')\n",
        "])\n",
        "\n",
        "# Compile the model\n",
        "model_RNN.compile(optimizer='adam', loss='categorical_crossentropy', metrics=['accuracy'])\n",
        "\n",
        "\n",
        "# Train the model\n",
        "history_RNN = model_RNN.fit(train_sequences, train_labels, epochs=15, validation_data=(val_sequences, val_labels))\n",
        "\n",
        "# Evaluate model performance on the test set\n",
        "loss, accuracy = model_RNN.evaluate(test_sequences, test_labels)\n",
        "print(f'Loss: {loss}, Accuracy: {accuracy}')\n",
        "graph_history(history_RNN)\n",
        "\n",
        "# Predict with RNN model\n",
        "rnn_prediction = model_RNN.predict(oos_sequences)\n",
        "for i in range(10):\n",
        "  print(oos[i,0], \":\", id_to_label[np.argmax(rnn_prediction[i])])"
      ]
    },
    {
      "cell_type": "markdown",
      "metadata": {
        "id": "yBG5bT7y3ypK"
      },
      "source": [
        "##GRU"
      ]
    },
    {
      "cell_type": "code",
      "execution_count": null,
      "metadata": {
        "colab": {
          "base_uri": "https://localhost:8080/",
          "height": 1000
        },
        "id": "LNDsYGZW32MZ",
        "outputId": "e6817427-5bf3-4068-8012-4c4185bc6082"
      },
      "outputs": [
        {
          "name": "stdout",
          "output_type": "stream",
          "text": [
            "Epoch 1/15\n",
            "469/469 [==============================] - 27s 52ms/step - loss: 5.0134 - accuracy: 0.0059 - val_loss: 5.0114 - val_accuracy: 0.0067\n",
            "Epoch 2/15\n",
            "469/469 [==============================] - 27s 59ms/step - loss: 4.8074 - accuracy: 0.0155 - val_loss: 4.5162 - val_accuracy: 0.0330\n",
            "Epoch 3/15\n",
            "469/469 [==============================] - 21s 45ms/step - loss: 3.8693 - accuracy: 0.0839 - val_loss: 3.5876 - val_accuracy: 0.1243\n",
            "Epoch 4/15\n",
            "469/469 [==============================] - 20s 43ms/step - loss: 3.0744 - accuracy: 0.2202 - val_loss: 2.9527 - val_accuracy: 0.2613\n",
            "Epoch 5/15\n",
            "469/469 [==============================] - 38s 82ms/step - loss: 2.5451 - accuracy: 0.3441 - val_loss: 2.6191 - val_accuracy: 0.3407\n",
            "Epoch 6/15\n",
            "469/469 [==============================] - 35s 75ms/step - loss: 2.1988 - accuracy: 0.4305 - val_loss: 2.4025 - val_accuracy: 0.4077\n",
            "Epoch 7/15\n",
            "469/469 [==============================] - 20s 44ms/step - loss: 1.9576 - accuracy: 0.4927 - val_loss: 2.2725 - val_accuracy: 0.4283\n",
            "Epoch 8/15\n",
            "469/469 [==============================] - 21s 44ms/step - loss: 1.7718 - accuracy: 0.5364 - val_loss: 2.1605 - val_accuracy: 0.4590\n",
            "Epoch 9/15\n",
            "469/469 [==============================] - 20s 43ms/step - loss: 1.6190 - accuracy: 0.5709 - val_loss: 2.0815 - val_accuracy: 0.4693\n",
            "Epoch 10/15\n",
            "469/469 [==============================] - 22s 47ms/step - loss: 1.4974 - accuracy: 0.6037 - val_loss: 2.0256 - val_accuracy: 0.4837\n",
            "Epoch 11/15\n",
            "469/469 [==============================] - 23s 49ms/step - loss: 1.3911 - accuracy: 0.6300 - val_loss: 2.0063 - val_accuracy: 0.4900\n",
            "Epoch 12/15\n",
            "469/469 [==============================] - 23s 50ms/step - loss: 1.2958 - accuracy: 0.6511 - val_loss: 1.9750 - val_accuracy: 0.5153\n",
            "Epoch 13/15\n",
            "469/469 [==============================] - 40s 86ms/step - loss: 1.2109 - accuracy: 0.6717 - val_loss: 1.9851 - val_accuracy: 0.5203\n",
            "Epoch 14/15\n",
            "469/469 [==============================] - 38s 82ms/step - loss: 1.1390 - accuracy: 0.6891 - val_loss: 1.9822 - val_accuracy: 0.5173\n",
            "Epoch 15/15\n",
            "469/469 [==============================] - 39s 82ms/step - loss: 1.0695 - accuracy: 0.7083 - val_loss: 1.9986 - val_accuracy: 0.5230\n",
            "141/141 [==============================] - 2s 16ms/step - loss: 2.0135 - accuracy: 0.5229\n",
            "Loss: 2.013533353805542, Accuracy: 0.5228888988494873\n"
          ]
        },
        {
          "data": {
            "image/png": "[encoded data removed]",
            "text/plain": [
              "<Figure size 1000x600 with 1 Axes>"
            ]
          },
          "metadata": {},
          "output_type": "display_data"
        },
        {
          "data": {
            "image/png": "[encoded data removed]",
            "text/plain": [
              "<Figure size 1000x600 with 1 Axes>"
            ]
          },
          "metadata": {},
          "output_type": "display_data"
        },
        {
          "name": "stdout",
          "output_type": "stream",
          "text": [
            "32/32 [==============================] - 2s 19ms/step\n",
            "GRU Prediction: [[4.1106770e-05 2.7510381e-04 5.6988974e-05 ... 5.7735022e-05\n",
            "  1.9391131e-03 5.8570632e-04]\n",
            " [6.7249546e-04 9.5667374e-06 9.0633675e-06 ... 1.6489918e-06\n",
            "  7.4074710e-06 2.7057780e-05]\n",
            " [2.0640022e-04 7.2083880e-05 3.4861241e-05 ... 5.8520254e-06\n",
            "  1.5021486e-05 1.2245877e-05]\n",
            " ...\n",
            " [7.3097550e-07 5.2762136e-04 8.5471565e-04 ... 8.4086441e-06\n",
            "  5.2049611e-04 9.0361579e-04]\n",
            " [1.7236151e-02 4.9654340e-05 6.5927334e-02 ... 9.6214365e-04\n",
            "  1.7135151e-04 6.9920946e-04]\n",
            " [6.1067141e-05 6.0716879e-06 9.6338760e-04 ... 1.2083328e-06\n",
            "  1.2222581e-04 3.2841414e-03]]\n"
          ]
        }
      ],
      "source": [
        "# Define the recurrent neural network model\n",
        "model_GRU = Sequential([\n",
        "    Embedding(input_dim=vocab_size, output_dim=embedding_dim, input_length=max_sequence_length),\n",
        "    GRU(128, input_shape=(train_sequences.shape[1], 1)),\n",
        "    Dense(num_classes, activation='softmax')\n",
        "])\n",
        "\n",
        "# Compile the model\n",
        "model_GRU.compile(optimizer='adam', loss='categorical_crossentropy', metrics=['accuracy'])\n",
        "\n",
        "\n",
        "# Train the model\n",
        "history_GRU = model_GRU.fit(train_sequences, train_labels, epochs=15, validation_data=(val_sequences, val_labels))\n",
        "\n",
        "#Evaluate model performance on the test set\n",
        "loss, accuracy = model_GRU.evaluate(test_sequences, test_labels)\n",
        "print(f'Loss: {loss}, Accuracy: {accuracy}')\n",
        "graph_history(history_GRU)\n",
        "\n",
        "# Predict with GRU model\n",
        "gru_prediction = model_GRU.predict(oos_sequences)\n",
        "print(\"GRU Prediction:\", gru_prediction)\n"
      ]
    },
    {
      "cell_type": "markdown",
      "metadata": {
        "id": "9-ChOyEy4Zew"
      },
      "source": [
        "##LSTM"
      ]
    },
    {
      "cell_type": "code",
      "execution_count": null,
      "metadata": {
        "id": "dKxMNn-44clE"
      },
      "outputs": [],
      "source": [
        "# Define the recurrent neural network model\n",
        "model_LSTM = Sequential([\n",
        "    Embedding(input_dim=vocab_size, output_dim=embedding_dim, input_length=max_sequence_length),\n",
        "    LSTM(128, input_shape=(train_sequences.shape[1], 1)),\n",
        "    Dense(num_classes, activation='softmax')\n",
        "])\n",
        "\n",
        "# Compile the model\n",
        "model_LSTM.compile(optimizer='adam', loss='categorical_crossentropy', metrics=['accuracy'])\n",
        "\n",
        "\n",
        "# Train the model\n",
        "history_LSTM = model_LSTM.fit(train_sequences, train_labels, epochs=30, validation_data=(val_sequences, val_labels))\n",
        "\n",
        "# Evaluate model performance on the test set\n",
        "loss, accuracy = model_LSTM.evaluate(test_sequences, test_labels)\n",
        "print(f'Loss: {loss}, Accuracy: {accuracy}')\n",
        "graph_history(history_LSTM)\n",
        "\n",
        "# Predict with LSTM model\n",
        "lstm_prediction = model_LSTM.predict(oos_sequences)\n",
        "print(\"LSTM Prediction:\", lstm_prediction)"
      ]
    },
    {
      "cell_type": "code",
      "execution_count": null,
      "metadata": {
        "colab": {
          "base_uri": "https://localhost:8080/"
        },
        "id": "Pg0Mcr-fqIf0",
        "outputId": "dd3ef33a-bf34-4eea-bc75-34924b273670"
      },
      "outputs": [
        {
          "name": "stdout",
          "output_type": "stream",
          "text": [
            "text                      : rnn           : gru        : lstm\n",
            "how much has the dow changed today : taxes : pto_used : interest_rate\n",
            "text                      : rnn           : gru        : lstm\n",
            "how many prime numbers are there between 0 and 100 : exchange_rate : exchange_rate : calories\n",
            "text                      : rnn           : gru        : lstm\n",
            "can you tell me how to solve simple algebraic equations with one variable : exchange_rate : order_checks : nutrition_info\n",
            "text                      : rnn           : gru        : lstm\n",
            "can you dim the brightness of my screen : current_location : order_status : order_status\n",
            "text                      : rnn           : gru        : lstm\n",
            "what is the account number to the internet service i have : routing : calendar : routing\n",
            "text                      : rnn           : gru        : lstm\n",
            "can you see a hdmi cord : roll_dice : roll_dice : roll_dice\n",
            "text                      : rnn           : gru        : lstm\n",
            "what veggies can i pair with mushrooms : direct_deposit : measurement_conversion : meal_suggestion\n",
            "text                      : rnn           : gru        : lstm\n",
            "can you put the car in fuel efficient mode : car_rental : schedule_maintenance : schedule_maintenance\n",
            "text                      : rnn           : gru        : lstm\n",
            "at what age can someone get a card : new_card : new_card : new_card\n",
            "text                      : rnn           : gru        : lstm\n",
            "please find today's most read stories from the new york times todayi : order : insurance_change : order_checks\n"
          ]
        }
      ],
      "source": [
        "for i in range(10):\n",
        "  print(\"text                      : rnn           : gru        : lstm\")\n",
        "  print(oos[i,0], \":\", id_to_label[np.argmax(rnn_prediction[i])], \":\", id_to_label[np.argmax(gru_prediction[i])], \":\", id_to_label[np.argmax(lstm_prediction[i])])"
      ]
    },
    {
      "cell_type": "markdown",
      "metadata": {
        "id": "WyWZN1kQ_n4r"
      },
      "source": [
        "## Analyze parameters impacts"
      ]
    },
    {
      "cell_type": "markdown",
      "metadata": {
        "id": "5z5sLV6CAd_-"
      },
      "source": [
        "1. **Vocabulary Size (num_words in Tokenizer):**\n",
        "\n",
        " * **Impact**: This parameter determines the maximum number of unique words the model will consider, based on word frequency in the training data.\n",
        "    - **Larger Vocabulary**: Captures more nuanced language and potentially improves accuracy, but may introduce noise and increase computational complexity.\n",
        "    - **Smaller Vocabulary**: Reduces complexity and might be faster to train, but risks missing important words and potentially lowering accuracy.\n",
        "\n",
        "2. **Out-of-Vocabulary Token (oov_token in Tokenizer):**\n",
        " * **Impact**: Handles words not present in the training vocabulary, crucial for real-world applications where users might use unexpected terms.\n",
        "    - **Proper Handling:** Ensures the model doesn't break when encountering new words and can still provide a reasonable prediction.\n",
        "    - **Lack of Handling**: Can lead to errors or inaccurate predictions when encountering unseen words.\n",
        "3.** Sequence Length (maxlen in pad_sequences):**\n",
        "\n",
        " * **Impact**: Determines the length to which all input sequences are padded or truncated.\n",
        "    - **Longer Sequences**: Capture more context, potentially improving accuracy, but increase computational cost.\n",
        "    - **Shorter Sequences**: Reduce complexity and training time, but might lose important contextual information.\n",
        "4. **RNN Model Parameters:**\n",
        "\n",
        " * **Embedding Layer:**\n",
        "    - **input_dim**: Vocabulary size, impacting the embedding layer's input dimension.\n",
        "    - **output_dim**: Dimensionality of word embeddings, affecting the richness of word representations.\n",
        "    - **input_length**: Length of input sequences, influencing the shape of input tensors.\n",
        " * **RNN Layers (SimpleRNN, GRU, LSTM):**\n",
        "\n",
        "    - **units:** Number of hidden units in the RNN layer, impacting the model's capacity to learn complex patterns.\n",
        " * **Dense Layer:**\n",
        "\n",
        "    - **units:** Number of output units, should match the number of intent classes.\n",
        "    - **activation:** Typically 'softmax' for multi-class classification, converting model outputs to probabilities for each class.\n",
        " * **Optimizer:**\n",
        "\n",
        "    - **Choice of Optimizer:** Affects how the model learns from data (e.g., 'adam' is commonly used).\n",
        "      * **Adam (Adaptive Moment Estimation)**\n",
        "        - **Pros:** Adaptive learning rates, momentum, efficient, less parameter tuning.\n",
        "        - **Cons:** May not be optimal for all types of problems; tuning learning rate might still be necessary in some cases.\n",
        "      * **RMSProp (Root Mean Square Propagation)**\n",
        "        - **Pros:** Works well for RNNs, particularly on problems with lots of noisy data.\n",
        "        - **Cons:** Requires tuning of the learning rate.\n",
        "    - **Learning Rate:** Influences the step size during training, impacting convergence speed and potential overfitting.\n",
        " * **Key Considerations:**\n",
        "\n",
        "    - **Trade-offs:** Adjusting these parameters involves trade-offs between accuracy, complexity, and computational cost.\n",
        "    - **Experimentation:** Finding the optimal parameter values often requires experimentation and validation on your specific dataset."
      ]
    },
    {
      "cell_type": "markdown",
      "metadata": {
        "id": "h9WW0PB0BGnV"
      },
      "source": [
        "## **SimpleRNN vs GRU vs LSTM**\n",
        "\n",
        "1. **SimpleRNN**\n",
        "* **Architecture**:\n",
        " * The basic form of an RNN.\n",
        " * Each unit has a hidden state that is updated at each time step.\n",
        " * Uses the hidden state from the previous time step to influence the current state.\n",
        "* **Pros**:\n",
        " * Simpler and computationally less expensive compared to GRU and LSTM.\n",
        " * Easier to implement and understand.\n",
        " * Suitable for problems with short-term dependencies.\n",
        "* **Cons**:\n",
        " * Struggles with learning long-term dependencies due to the vanishing gradient problem.\n",
        " * Limited memory capacity.\n",
        "2. **GRU (Gated Recurrent Unit)**\n",
        "* **Architecture**:\n",
        " * Introduced to address the limitations of SimpleRNN.\n",
        "Combines the hidden state and cell state into a single state.\n",
        " * Uses gating mechanisms (reset gate and update gate) to control the flow of information.\n",
        "* **Pros**:\n",
        " * Addresses the vanishing gradient problem better than SimpleRNN.\n",
        " * More efficient than LSTM due to fewer parameters.\n",
        " * Often performs well on a variety of tasks.\n",
        "* **Cons**:\n",
        " * More complex and computationally expensive than SimpleRNN.\n",
        " * Slightly less expressive than LSTM due to fewer gates.\n",
        "3. **LSTM (Long Short-Term Memory)**\n",
        "* **Architecture:**\n",
        " * Designed to address both the vanishing and exploding gradient problems.\n",
        " * Maintains a separate cell state in addition to the hidden state.\n",
        " * Uses three gates: input gate, forget gate, and output gate to regulate information flow.\n",
        "* **Pros:**\n",
        " * Excellent at learning long-term dependencies.\n",
        " * More expressive and powerful due to its gating mechanisms.\n",
        " * Widely used and proven effective in many sequential tasks like text generation, machine translation, etc.\n",
        "* **Cons:**\n",
        " * More complex and computationally expensive due to a larger number of parameters.\n",
        " * Slower to train compared to SimpleRNN and GRU."
      ]
    },
    {
      "cell_type": "markdown",
      "metadata": {
        "id": "zwp9C1bLq35s"
      },
      "source": [
        "#TF-IDF + Machine Learning Classifiers\n",
        "**Characteristics:**\n",
        "\n",
        "* Uses Term Frequency-Inverse Document Frequency (TF-IDF) to convert text into vector representation.\n",
        "* Applies traditional machine learning classifiers on these vectors.\n",
        "\n",
        "**Pros:**\n",
        "\n",
        "* Considers the importance of words.\n",
        "* Works well for various NLP tasks.\n",
        "\n",
        "**Cons:**\n",
        "\n",
        "* Ignores word order and context.\n",
        "* Requires feature engineering."
      ]
    },
    {
      "cell_type": "code",
      "execution_count": null,
      "metadata": {
        "id": "R05T3vNyYT3x"
      },
      "outputs": [],
      "source": [
        "from sklearn.feature_extraction.text import TfidfVectorizer\n",
        "from sklearn.svm import SVC"
      ]
    },
    {
      "cell_type": "code",
      "execution_count": null,
      "metadata": {
        "id": "ujEz-75_aUy4"
      },
      "outputs": [],
      "source": [
        "vectorizer = TfidfVectorizer()\n",
        "X_train = vectorizer.fit_transform(data_train['text'])\n",
        "y_train = data_train['label']"
      ]
    },
    {
      "cell_type": "code",
      "execution_count": null,
      "metadata": {
        "colab": {
          "base_uri": "https://localhost:8080/",
          "height": 75
        },
        "id": "jp3kWSZwalhX",
        "outputId": "9de028ff-768d-432e-9770-303d92f3a5fd"
      },
      "outputs": [
        {
          "data": {
            "text/html": [
              "<style>#sk-container-id-1 {color: black;}#sk-container-id-1 pre{padding: 0;}#sk-container-id-1 div.sk-toggleable {background-color: white;}#sk-container-id-1 label.sk-toggleable__label {cursor: pointer;display: block;width: 100%;margin-bottom: 0;padding: 0.3em;box-sizing: border-box;text-align: center;}#sk-container-id-1 label.sk-toggleable__label-arrow:before {content: \"▸\";float: left;margin-right: 0.25em;color: #696969;}#sk-container-id-1 label.sk-toggleable__label-arrow:hover:before {color: black;}#sk-container-id-1 div.sk-estimator:hover label.sk-toggleable__label-arrow:before {color: black;}#sk-container-id-1 div.sk-toggleable__content {max-height: 0;max-width: 0;overflow: hidden;text-align: left;background-color: #f0f8ff;}#sk-container-id-1 div.sk-toggleable__content pre {margin: 0.2em;color: black;border-radius: 0.25em;background-color: #f0f8ff;}#sk-container-id-1 input.sk-toggleable__control:checked~div.sk-toggleable__content {max-height: 200px;max-width: 100%;overflow: auto;}#sk-container-id-1 input.sk-toggleable__control:checked~label.sk-toggleable__label-arrow:before {content: \"▾\";}#sk-container-id-1 div.sk-estimator input.sk-toggleable__control:checked~label.sk-toggleable__label {background-color: #d4ebff;}#sk-container-id-1 div.sk-label input.sk-toggleable__control:checked~label.sk-toggleable__label {background-color: #d4ebff;}#sk-container-id-1 input.sk-hidden--visually {border: 0;clip: rect(1px 1px 1px 1px);clip: rect(1px, 1px, 1px, 1px);height: 1px;margin: -1px;overflow: hidden;padding: 0;position: absolute;width: 1px;}#sk-container-id-1 div.sk-estimator {font-family: monospace;background-color: #f0f8ff;border: 1px dotted black;border-radius: 0.25em;box-sizing: border-box;margin-bottom: 0.5em;}#sk-container-id-1 div.sk-estimator:hover {background-color: #d4ebff;}#sk-container-id-1 div.sk-parallel-item::after {content: \"\";width: 100%;border-bottom: 1px solid gray;flex-grow: 1;}#sk-container-id-1 div.sk-label:hover label.sk-toggleable__label {background-color: #d4ebff;}#sk-container-id-1 div.sk-serial::before {content: \"\";position: absolute;border-left: 1px solid gray;box-sizing: border-box;top: 0;bottom: 0;left: 50%;z-index: 0;}#sk-container-id-1 div.sk-serial {display: flex;flex-direction: column;align-items: center;background-color: white;padding-right: 0.2em;padding-left: 0.2em;position: relative;}#sk-container-id-1 div.sk-item {position: relative;z-index: 1;}#sk-container-id-1 div.sk-parallel {display: flex;align-items: stretch;justify-content: center;background-color: white;position: relative;}#sk-container-id-1 div.sk-item::before, #sk-container-id-1 div.sk-parallel-item::before {content: \"\";position: absolute;border-left: 1px solid gray;box-sizing: border-box;top: 0;bottom: 0;left: 50%;z-index: -1;}#sk-container-id-1 div.sk-parallel-item {display: flex;flex-direction: column;z-index: 1;position: relative;background-color: white;}#sk-container-id-1 div.sk-parallel-item:first-child::after {align-self: flex-end;width: 50%;}#sk-container-id-1 div.sk-parallel-item:last-child::after {align-self: flex-start;width: 50%;}#sk-container-id-1 div.sk-parallel-item:only-child::after {width: 0;}#sk-container-id-1 div.sk-dashed-wrapped {border: 1px dashed gray;margin: 0 0.4em 0.5em 0.4em;box-sizing: border-box;padding-bottom: 0.4em;background-color: white;}#sk-container-id-1 div.sk-label label {font-family: monospace;font-weight: bold;display: inline-block;line-height: 1.2em;}#sk-container-id-1 div.sk-label-container {text-align: center;}#sk-container-id-1 div.sk-container {/* jupyter's `normalize.less` sets `[hidden] { display: none; }` but bootstrap.min.css set `[hidden] { display: none !important; }` so we also need the `!important` here to be able to override the default hidden behavior on the sphinx rendered scikit-learn.org. See: https://github.com/scikit-learn/scikit-learn/issues/21755 */display: inline-block !important;position: relative;}#sk-container-id-1 div.sk-text-repr-fallback {display: none;}</style><div id=\"sk-container-id-1\" class=\"sk-top-container\"><div class=\"sk-text-repr-fallback\"><pre>SVC()</pre><b>In a Jupyter environment, please rerun this cell to show the HTML representation or trust the notebook. <br />On GitHub, the HTML representation is unable to render, please try loading this page with nbviewer.org.</b></div><div class=\"sk-container\" hidden><div class=\"sk-item\"><div class=\"sk-estimator sk-toggleable\"><input class=\"sk-toggleable__control sk-hidden--visually\" id=\"sk-estimator-id-1\" type=\"checkbox\" checked><label for=\"sk-estimator-id-1\" class=\"sk-toggleable__label sk-toggleable__label-arrow\">SVC</label><div class=\"sk-toggleable__content\"><pre>SVC()</pre></div></div></div></div></div>"
            ],
            "text/plain": [
              "SVC()"
            ]
          },
          "execution_count": 14,
          "metadata": {},
          "output_type": "execute_result"
        }
      ],
      "source": [
        "classifier = SVC()\n",
        "classifier.fit(X_train, y_train)"
      ]
    },
    {
      "cell_type": "code",
      "execution_count": null,
      "metadata": {
        "colab": {
          "base_uri": "https://localhost:8080/"
        },
        "id": "CSO7dvzQb5O3",
        "outputId": "04c7df28-885d-4fd1-e0cc-adefbe275262"
      },
      "outputs": [
        {
          "data": {
            "text/plain": [
              "(15000, 5026)"
            ]
          },
          "execution_count": 15,
          "metadata": {},
          "output_type": "execute_result"
        }
      ],
      "source": [
        "X_train.shape"
      ]
    },
    {
      "cell_type": "code",
      "execution_count": null,
      "metadata": {
        "id": "LGWnXfdgcmGT"
      },
      "outputs": [],
      "source": [
        "X_val = vectorizer.transform(data_val['text'])\n",
        "X_test = vectorizer.transform(data_test['text'])\n",
        "y_val = data_val['label']\n",
        "y_test = data_test['label']"
      ]
    },
    {
      "cell_type": "code",
      "execution_count": null,
      "metadata": {
        "colab": {
          "base_uri": "https://localhost:8080/"
        },
        "id": "ZV08VLxTcrxB",
        "outputId": "346d74ae-b105-419b-ca77-a07cfae21fce"
      },
      "outputs": [
        {
          "data": {
            "text/plain": [
              "((3000, 5026), (4500, 5026))"
            ]
          },
          "execution_count": 21,
          "metadata": {},
          "output_type": "execute_result"
        }
      ],
      "source": [
        "X_val.shape, X_test.shape"
      ]
    },
    {
      "cell_type": "code",
      "execution_count": null,
      "metadata": {
        "id": "Gff20y1abgK4"
      },
      "outputs": [],
      "source": [
        "y_val_pred = classifier.predict(X_val)\n",
        "y_test_pred = classifier.predict(X_test)"
      ]
    },
    {
      "cell_type": "code",
      "execution_count": null,
      "metadata": {
        "colab": {
          "base_uri": "https://localhost:8080/"
        },
        "id": "tIZ5feX8dsDt",
        "outputId": "1add25b1-177d-4e70-e121-8852681de97e"
      },
      "outputs": [
        {
          "name": "stdout",
          "output_type": "stream",
          "text": [
            "Accuracy val : 0.9036666666666666\n",
            "Accuracy test : 0.9082222222222223\n",
            "                           precision    recall  f1-score   support\n",
            "\n",
            "      accept_reservations       0.96      0.87      0.91        30\n",
            "          account_blocked       0.97      0.93      0.95        30\n",
            "                    alarm       0.97      0.97      0.97        30\n",
            "       application_status       0.97      1.00      0.98        30\n",
            "                      apr       0.97      1.00      0.98        30\n",
            "            are_you_a_bot       0.97      1.00      0.98        30\n",
            "                  balance       1.00      0.93      0.97        30\n",
            "             bill_balance       0.93      0.93      0.93        30\n",
            "                 bill_due       0.93      0.83      0.88        30\n",
            "              book_flight       0.94      0.97      0.95        30\n",
            "               book_hotel       0.97      1.00      0.98        30\n",
            "               calculator       0.62      0.93      0.75        30\n",
            "                 calendar       0.87      0.67      0.75        30\n",
            "          calendar_update       0.76      0.93      0.84        30\n",
            "                 calories       1.00      0.97      0.98        30\n",
            "                   cancel       0.72      0.93      0.81        30\n",
            "       cancel_reservation       0.97      1.00      0.98        30\n",
            "               car_rental       0.97      0.97      0.97        30\n",
            "            card_declined       1.00      0.90      0.95        30\n",
            "                 carry_on       1.00      0.87      0.93        30\n",
            "            change_accent       1.00      0.93      0.97        30\n",
            "           change_ai_name       0.71      0.73      0.72        30\n",
            "          change_language       0.91      0.97      0.94        30\n",
            "             change_speed       0.91      1.00      0.95        30\n",
            "         change_user_name       0.83      0.80      0.81        30\n",
            "            change_volume       1.00      0.83      0.91        30\n",
            "      confirm_reservation       0.93      0.93      0.93        30\n",
            "                cook_time       0.90      0.87      0.88        30\n",
            "             credit_limit       0.97      0.93      0.95        30\n",
            "      credit_limit_change       1.00      0.97      0.98        30\n",
            "             credit_score       0.88      0.97      0.92        30\n",
            "         current_location       0.88      0.93      0.90        30\n",
            "             damaged_card       0.76      0.97      0.85        30\n",
            "                     date       1.00      0.93      0.97        30\n",
            "               definition       0.91      0.97      0.94        30\n",
            "           direct_deposit       1.00      1.00      1.00        30\n",
            "               directions       0.76      0.97      0.85        30\n",
            "                 distance       0.91      0.70      0.79        30\n",
            "         do_you_have_pets       0.97      1.00      0.98        30\n",
            "            exchange_rate       1.00      1.00      1.00        30\n",
            "          expiration_date       0.87      0.90      0.89        30\n",
            "               find_phone       1.00      0.97      0.98        30\n",
            "            flight_status       1.00      1.00      1.00        30\n",
            "                flip_coin       1.00      1.00      1.00        30\n",
            "                food_last       0.96      0.80      0.87        30\n",
            "           freeze_account       0.88      1.00      0.94        30\n",
            "                 fun_fact       0.97      1.00      0.98        30\n",
            "                      gas       0.94      0.97      0.95        30\n",
            "                 gas_type       1.00      0.93      0.97        30\n",
            "                  goodbye       0.66      0.83      0.74        30\n",
            "                 greeting       0.71      1.00      0.83        30\n",
            "                 how_busy       0.82      0.77      0.79        30\n",
            "          how_old_are_you       1.00      0.93      0.97        30\n",
            "     improve_credit_score       0.93      0.83      0.88        30\n",
            "                   income       0.87      0.90      0.89        30\n",
            "  ingredient_substitution       0.93      0.93      0.93        30\n",
            "         ingredients_list       0.88      0.73      0.80        30\n",
            "                insurance       1.00      1.00      1.00        30\n",
            "         insurance_change       0.96      0.90      0.93        30\n",
            "            interest_rate       1.00      0.97      0.98        30\n",
            "       international_fees       1.00      0.97      0.98        30\n",
            "       international_visa       0.90      0.87      0.88        30\n",
            "               jump_start       1.00      1.00      1.00        30\n",
            "         last_maintenance       0.91      0.97      0.94        30\n",
            "             lost_luggage       1.00      0.97      0.98        30\n",
            "                make_call       0.75      0.90      0.82        30\n",
            "                    maybe       0.61      0.90      0.73        30\n",
            "          meal_suggestion       0.92      0.77      0.84        30\n",
            "          meaning_of_life       1.00      0.90      0.95        30\n",
            "   measurement_conversion       0.97      0.97      0.97        30\n",
            "         meeting_schedule       1.00      1.00      1.00        30\n",
            "              min_payment       1.00      0.97      0.98        30\n",
            "                      mpg       0.97      1.00      0.98        30\n",
            "                 new_card       0.89      0.80      0.84        30\n",
            "             next_holiday       0.91      0.97      0.94        30\n",
            "                next_song       1.00      0.97      0.98        30\n",
            "                       no       0.97      0.93      0.95        30\n",
            "           nutrition_info       1.00      1.00      1.00        30\n",
            "           oil_change_how       0.88      1.00      0.94        30\n",
            "          oil_change_when       0.90      0.93      0.92        30\n",
            "                    order       0.71      0.83      0.77        30\n",
            "             order_checks       0.97      1.00      0.98        30\n",
            "             order_status       0.93      0.83      0.88        30\n",
            "                 pay_bill       0.84      0.90      0.87        30\n",
            "                   payday       0.96      0.73      0.83        30\n",
            "               pin_change       1.00      0.83      0.91        30\n",
            "               play_music       0.88      0.70      0.78        30\n",
            "                plug_type       1.00      0.93      0.97        30\n",
            "              pto_balance       0.81      0.97      0.88        30\n",
            "              pto_request       1.00      0.77      0.87        30\n",
            "       pto_request_status       0.90      0.90      0.90        30\n",
            "                 pto_used       0.97      0.97      0.97        30\n",
            "                   recipe       0.74      0.77      0.75        30\n",
            "           redeem_rewards       0.96      0.77      0.85        30\n",
            "                 reminder       0.96      0.77      0.85        30\n",
            "          reminder_update       0.88      0.77      0.82        30\n",
            "                   repeat       1.00      0.87      0.93        30\n",
            "replacement_card_duration       0.93      0.87      0.90        30\n",
            "             report_fraud       0.93      0.87      0.90        30\n",
            "         report_lost_card       1.00      0.87      0.93        30\n",
            "           reset_settings       0.93      0.90      0.92        30\n",
            "   restaurant_reservation       0.84      0.90      0.87        30\n",
            "       restaurant_reviews       0.88      0.70      0.78        30\n",
            "    restaurant_suggestion       0.71      0.97      0.82        30\n",
            "          rewards_balance       0.81      1.00      0.90        30\n",
            "                roll_dice       1.00      0.93      0.97        30\n",
            "            rollover_401k       1.00      0.93      0.97        30\n",
            "                  routing       1.00      1.00      1.00        30\n",
            "     schedule_maintenance       0.96      0.87      0.91        30\n",
            "         schedule_meeting       0.94      1.00      0.97        30\n",
            "           share_location       0.90      0.87      0.88        30\n",
            "            shopping_list       0.78      0.60      0.68        30\n",
            "     shopping_list_update       0.82      0.77      0.79        30\n",
            "               smart_home       0.85      0.93      0.89        30\n",
            "                 spelling       1.00      0.97      0.98        30\n",
            "         spending_history       0.81      0.83      0.82        30\n",
            "              sync_device       0.90      0.90      0.90        30\n",
            "                    taxes       1.00      1.00      1.00        30\n",
            "                tell_joke       1.00      1.00      1.00        30\n",
            "                     text       1.00      0.90      0.95        30\n",
            "                thank_you       0.88      0.93      0.90        30\n",
            "                     time       0.90      0.90      0.90        30\n",
            "                    timer       0.94      0.97      0.95        30\n",
            "                 timezone       1.00      0.93      0.97        30\n",
            "              tire_change       1.00      0.93      0.97        30\n",
            "            tire_pressure       1.00      1.00      1.00        30\n",
            "                todo_list       0.79      0.90      0.84        30\n",
            "         todo_list_update       0.77      0.77      0.77        30\n",
            "                  traffic       1.00      0.93      0.97        30\n",
            "             transactions       0.96      0.80      0.87        30\n",
            "                 transfer       1.00      0.97      0.98        30\n",
            "                translate       0.83      0.83      0.83        30\n",
            "             travel_alert       0.97      0.93      0.95        30\n",
            "      travel_notification       0.93      0.90      0.92        30\n",
            "        travel_suggestion       0.73      0.90      0.81        30\n",
            "                     uber       1.00      1.00      1.00        30\n",
            "          update_playlist       0.97      0.93      0.95        30\n",
            "                user_name       0.81      0.83      0.82        30\n",
            "                 vaccines       0.97      0.97      0.97        30\n",
            "                       w2       0.91      1.00      0.95        30\n",
            "                  weather       0.86      1.00      0.92        30\n",
            "    what_are_your_hobbies       1.00      0.87      0.93        30\n",
            "       what_can_i_ask_you       0.88      0.93      0.90        30\n",
            "        what_is_your_name       0.82      0.90      0.86        30\n",
            "                what_song       0.97      0.93      0.95        30\n",
            "       where_are_you_from       0.88      0.97      0.92        30\n",
            "             whisper_mode       0.97      0.97      0.97        30\n",
            "      who_do_you_work_for       0.92      0.77      0.84        30\n",
            "             who_made_you       0.80      0.93      0.86        30\n",
            "                      yes       0.83      0.63      0.72        30\n",
            "\n",
            "                 accuracy                           0.91      4500\n",
            "                macro avg       0.92      0.91      0.91      4500\n",
            "             weighted avg       0.92      0.91      0.91      4500\n",
            "\n"
          ]
        }
      ],
      "source": [
        "from sklearn.metrics import accuracy_score, classification_report\n",
        "accuracy_val = accuracy_score(y_val, y_val_pred)\n",
        "print(\"Accuracy val :\", accuracy_val)\n",
        "accuracy_test = accuracy_score(y_test, y_test_pred)\n",
        "print(\"Accuracy test :\", accuracy_test)\n",
        "print(classification_report(y_test, y_test_pred))"
      ]
    },
    {
      "cell_type": "code",
      "execution_count": null,
      "metadata": {
        "id": "EXtoe38ffGwE"
      },
      "outputs": [],
      "source": [
        "X_oos = vectorizer.transform(oos[:,0])\n",
        "y_oos_pred = classifier.predict(X_oos)"
      ]
    },
    {
      "cell_type": "code",
      "execution_count": null,
      "metadata": {
        "colab": {
          "base_uri": "https://localhost:8080/"
        },
        "id": "WhQlfX0yfUN2",
        "outputId": "c4d7e72a-4740-4372-9bed-8f233e1951b0"
      },
      "outputs": [
        {
          "name": "stdout",
          "output_type": "stream",
          "text": [
            "how much has the dow changed today : income\n",
            "how many prime numbers are there between 0 and 100 : measurement_conversion\n",
            "can you tell me how to solve simple algebraic equations with one variable : greeting\n",
            "can you dim the brightness of my screen : smart_home\n",
            "what is the account number to the internet service i have : account_blocked\n",
            "can you see a hdmi cord : goodbye\n",
            "what veggies can i pair with mushrooms : what_can_i_ask_you\n",
            "can you put the car in fuel efficient mode : gas_type\n",
            "at what age can someone get a card : how_old_are_you\n",
            "please find today's most read stories from the new york times todayi : calculator\n"
          ]
        }
      ],
      "source": [
        "for i in range(10):\n",
        "  print(oos[i,0], \":\", y_oos_pred[i])"
      ]
    },
    {
      "cell_type": "markdown",
      "source": [
        "# Use pretrained intent classification model from hugging face for oos data"
      ],
      "metadata": {
        "id": "AQ5Ulmo69PgK"
      }
    },
    {
      "cell_type": "code",
      "execution_count": 6,
      "metadata": {
        "id": "tVc0Vm2LVSTt"
      },
      "outputs": [],
      "source": [
        "import os\n",
        "from huggingface_hub import hf_hub_download"
      ]
    },
    {
      "cell_type": "code",
      "source": [
        "from transformers import AutoTokenizer, AutoModelForSequenceClassification, TextClassificationPipeline\n",
        "\n",
        "model_name = 'qanastek/XLMRoberta-Alexa-Intents-Classification'\n",
        "tokenizer = AutoTokenizer.from_pretrained(model_name)\n",
        "model = AutoModelForSequenceClassification.from_pretrained(model_name)\n",
        "classifier = TextClassificationPipeline(model=model, tokenizer=tokenizer)"
      ],
      "metadata": {
        "colab": {
          "base_uri": "https://localhost:8080/",
          "height": 333,
          "referenced_widgets": [
            "448e3a053e3f43a6a5c8b2f4dc7d73dd",
            "e09c88a5bb324c1e988d5caf5949f03d",
            "193dd8a1e563435896e5ea8fc26c23a4",
            "d4e62bc7e3d2475ead3e33a8534faba0",
            "a3b5a00c9ce1488e9bee68e9e2d534a3",
            "08b74ff2c70e43519d6571f74bd980f3",
            "f62e0e4df2214878b1d0aad43861f19d",
            "2f2fe99d31e24125b45eb7b6032982fa",
            "b9c3abeb680341f5a04d59e922f9c9d0",
            "65131af037a1498fbfa19b20f5d5e626",
            "854281d7798e4f92b8744f0c1725968e",
            "c25104b33d80450a9d240b157cdf88f6",
            "b04a50a904644760ad05c9998ce6c461",
            "8b279468517b4a29b3e95168d64abbe4",
            "82f03289ef734ebfb7f839459530df3a",
            "696a507d59e64fe885d3668e5b077e1f",
            "3e693984c458468181c9cdfd6e09ea3c",
            "f5003e234c384fde9e9e706ac1ca41d3",
            "078ac81623c44ebfb9f9b2e9f673dda3",
            "73acfdbf717247479aa5b34640506a5e",
            "9419f7d264644aec8731c22170bccfa1",
            "2daa5882c53c42569469f6961d974d3f",
            "0f92b94dabdf44e880b9b4e548e72fbe",
            "bad517ff8e53487cbd6bd4e3ab626f75",
            "d9e4ed24fadf4179b7dc8897f037021a",
            "4c1afde1e9b34c25ae520832b4df1ea6",
            "f38ea43644704f1abe4f8b89db2ff4f1",
            "b48fb6507a184b059925287fad3ab563",
            "8c5b0caee1e545e299bd03a6e1aefe98",
            "177f2bc7d2a1479ca01e3c6ca5267c09",
            "ed9a88e24d134990b49ea6414b2c6930",
            "299781f291844e10a08581519830a5d7",
            "71d2d407861144c6b32f9d397a4bdee7",
            "a5afac8e222e4cc7afa060aa1af98b09",
            "e4e1cdd033e94df194a050f39b229fc3",
            "9da3fd7c0181433a809d85ae2f8fd5f5",
            "86a1209a71ee42b78df1751259fffa0f",
            "3f8169cec2a040a9877b4de94becf114",
            "701a5f51983f4b8baa0aa963ef3aa1d9",
            "713f875cd4394451ad6e101cb6c183cb",
            "5aad14955421421791f9e8cca1ff3ffc",
            "b09e571369a546bc89053504d33aab35",
            "ffddd18475664da2b4ef728aacaa236e",
            "306d1b218fc342cf837738de6ef9cdcd",
            "526e70d9f9be4052a6b1761b58be2b7f",
            "4161b85f9abb40be805fef2b42ce4393",
            "d4e330a99f8b4643b95e853712bd70a1",
            "5e32cba5d602431eb273e5eb134cb985",
            "56b280a92ea24c5cbebcb49ddd5f2275",
            "80ed7c7abcb642b69a833c055a5ee28f",
            "0b4a68df3c3441a0a7fe4f3ccc741056",
            "aaf51e7dc1fe41098527cd51c9bcca61",
            "6ebde37087d64f86b934bdc3b0f32fe5",
            "9dfbb129a1294b078ecf290651b2a953",
            "cb06ee816f4d489bae5f09fdbbdeef29",
            "f6163f2cae754cdeb798bc2e41ec3d70",
            "391092851f574c7fac850b8f6d2675ac",
            "f6d27a94e8884d158d2e75f73e9af7e9",
            "0d1848e57b784f8a9292acc7ea224cad",
            "b110c5f1a5ec49f88f52e125dffa6a05",
            "f8d89b478b8b4379b2e06a343cf7d1f8",
            "88bdc3c8d44a4dfe97e2fefeaf6f9c7d",
            "b293dfa42fe64082b1b9a46c88c39e80",
            "3bbec8948bcf4295b162a70b9b6883dd",
            "d2ec327047144622b33759c9d3216be9",
            "06722ffc07314db6a9ea036486c38d27"
          ]
        },
        "id": "NxNu00T77g89",
        "outputId": "317aa0ea-c38c-4e3d-e0ca-9eb2dbec6563"
      },
      "execution_count": 7,
      "outputs": [
        {
          "output_type": "stream",
          "name": "stderr",
          "text": [
            "/usr/local/lib/python3.10/dist-packages/huggingface_hub/utils/_token.py:89: UserWarning: \n",
            "The secret `HF_TOKEN` does not exist in your Colab secrets.\n",
            "To authenticate with the Hugging Face Hub, create a token in your settings tab (https://huggingface.co/settings/tokens), set it as secret in your Google Colab and restart your session.\n",
            "You will be able to reuse this secret in all of your notebooks.\n",
            "Please note that authentication is recommended but still optional to access public models or datasets.\n",
            "  warnings.warn(\n"
          ]
        },
        {
          "output_type": "display_data",
          "data": {
            "text/plain": [
              "tokenizer_config.json:   0%|          | 0.00/398 [00:00<?, ?B/s]"
            ],
            "application/vnd.jupyter.widget-view+json": {
              "version_major": 2,
              "version_minor": 0,
              "model_id": "448e3a053e3f43a6a5c8b2f4dc7d73dd"
            }
          },
          "metadata": {}
        },
        {
          "output_type": "display_data",
          "data": {
            "text/plain": [
              "sentencepiece.bpe.model:   0%|          | 0.00/5.07M [00:00<?, ?B/s]"
            ],
            "application/vnd.jupyter.widget-view+json": {
              "version_major": 2,
              "version_minor": 0,
              "model_id": "c25104b33d80450a9d240b157cdf88f6"
            }
          },
          "metadata": {}
        },
        {
          "output_type": "display_data",
          "data": {
            "text/plain": [
              "tokenizer.json:   0%|          | 0.00/17.1M [00:00<?, ?B/s]"
            ],
            "application/vnd.jupyter.widget-view+json": {
              "version_major": 2,
              "version_minor": 0,
              "model_id": "0f92b94dabdf44e880b9b4e548e72fbe"
            }
          },
          "metadata": {}
        },
        {
          "output_type": "display_data",
          "data": {
            "text/plain": [
              "special_tokens_map.json:   0%|          | 0.00/239 [00:00<?, ?B/s]"
            ],
            "application/vnd.jupyter.widget-view+json": {
              "version_major": 2,
              "version_minor": 0,
              "model_id": "a5afac8e222e4cc7afa060aa1af98b09"
            }
          },
          "metadata": {}
        },
        {
          "output_type": "display_data",
          "data": {
            "text/plain": [
              "config.json:   0%|          | 0.00/4.00k [00:00<?, ?B/s]"
            ],
            "application/vnd.jupyter.widget-view+json": {
              "version_major": 2,
              "version_minor": 0,
              "model_id": "526e70d9f9be4052a6b1761b58be2b7f"
            }
          },
          "metadata": {}
        },
        {
          "output_type": "display_data",
          "data": {
            "text/plain": [
              "pytorch_model.bin:   0%|          | 0.00/1.11G [00:00<?, ?B/s]"
            ],
            "application/vnd.jupyter.widget-view+json": {
              "version_major": 2,
              "version_minor": 0,
              "model_id": "f6163f2cae754cdeb798bc2e41ec3d70"
            }
          },
          "metadata": {}
        }
      ]
    },
    {
      "cell_type": "code",
      "source": [
        "for i in range(10):\n",
        "  res = classifier(data_oos['text'][i])\n",
        "  print(data_oos['text'][i], res)"
      ],
      "metadata": {
        "colab": {
          "base_uri": "https://localhost:8080/"
        },
        "id": "zMZKzpix733q",
        "outputId": "1c73a3cf-d1e1-461c-8eb8-58c3c818c490"
      },
      "execution_count": 14,
      "outputs": [
        {
          "output_type": "stream",
          "name": "stdout",
          "text": [
            "how much has the dow changed today [{'label': 'qa_stock', 'score': 0.9999207258224487}]\n",
            "how many prime numbers are there between 0 and 100 [{'label': 'qa_factoid', 'score': 0.9592407941818237}]\n",
            "can you tell me how to solve simple algebraic equations with one variable [{'label': 'general_quirky', 'score': 0.9968662858009338}]\n",
            "can you dim the brightness of my screen [{'label': 'iot_hue_lightdim', 'score': 0.9972670078277588}]\n",
            "what is the account number to the internet service i have [{'label': 'email_querycontact', 'score': 0.8826463222503662}]\n",
            "can you see a hdmi cord [{'label': 'general_quirky', 'score': 0.9010863900184631}]\n",
            "what veggies can i pair with mushrooms [{'label': 'cooking_recipe', 'score': 0.9999054670333862}]\n",
            "can you put the car in fuel efficient mode [{'label': 'transport_traffic', 'score': 0.22128772735595703}]\n",
            "at what age can someone get a card [{'label': 'general_quirky', 'score': 0.999889612197876}]\n",
            "please find today's most read stories from the new york times todayi [{'label': 'news_query', 'score': 0.9999557733535767}]\n"
          ]
        }
      ]
    },
    {
      "cell_type": "markdown",
      "source": [
        "# Models results comparison\n",
        "![Screenshot 2024-08-02 172136.png](data:image/png;base64,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)"
      ],
      "metadata": {
        "id": "oXkcvmdS9fcy"
      }
    },
    {
      "cell_type": "markdown",
      "source": [
        "#Out of scope data comparision\n",
        "![Screenshot 2024-08-02 175806.png](data:image/png;base64,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)"
      ],
      "metadata": {
        "id": "BkcQ4IXe-P45"
      }
    },
    {
      "cell_type": "markdown",
      "source": [
        "# **Conclusion** ##\n",
        "\n",
        "Here is the summary for picking models for intent recognition in NLP:\n",
        "\n",
        "1. **Understand the problem and requirements**\n",
        "\n",
        "*  **Data Characteristics:** Type and size of your text data, number of intents, and language complexity.\n",
        "*   **Performance Metrics:** Key metrics such as accuracy, F1 score, latency, and resource constraints.\n",
        "\n",
        "2. **Data Preparation**\n",
        "* **Text Cleaning:** Remove noise, handle misspellings, and normalize text.\n",
        "* **Tokenization:** Split text into meaningful units (words, subwords).\n",
        "* **Handling Stop Words:** Remove or keep based on the specific use case.\n",
        "* **Encoding:** Convert text to numerical representations (word embeddings, one-hot encoding).\n",
        "\n",
        "3. **Model Selection for NLP**\n",
        "*\n",
        "When choosing models specifically for NLP tasks like intent recognition, the landscape of models and techniques is vast and continuously evolving. Here’s a focused summary for picking models for intent recognition in NLP:\n",
        "\n",
        "1. Understand the Problem and Requirements\n",
        "Data Characteristics: Look at the type and size of your text data, number of intents, and language complexity.\n",
        "Performance Metrics: Define key metrics such as accuracy, F1 score, latency, and resource constraints.\n",
        "2. Data Preparation\n",
        "Text Cleaning: Remove noise, handle misspellings, and normalize text.\n",
        "Tokenization: Split text into meaningful units (words, subwords).\n",
        "Handling Stop Words: Remove or keep based on the specific use case.\n",
        "Encoding: Convert text to numerical representations (word embeddings, one-hot encoding).\n",
        "3. Model Selection for NLP\n",
        "* **Traditional Machine Learning Models:** such as TF-IDF or SVM\n",
        "* **Deep Learning Models** : such as RNN, LSTM, GRU\n",
        "* **Pre-trained Language Models**: such as BERT or GPT\n",
        "\n",
        "4. **Model Training and Fine-Tuning**\n",
        "* **Training:** Train models on your specific dataset. For traditional models, this involves feature extraction (TF-IDF, word embeddings). For deep learning, this means using raw or tokenized text.\n",
        "* **Fine-Tuning:** tuning parameters for your model. For pre-trained models, fine-tune on your dataset to adapt the model to the specific task and domain.\n",
        "5. ** Model Evaluation**\n",
        "* **Metrics:** Evaluate using metrics like accuracy, precision, recall, and F1 score.\n",
        "* **OOV handling**: use out of scope data to evaluate OOV handling\n",
        "\n",
        "Each type of model has its advantages and trade-offs, so the best choice depends on the specific NLP task, dataset characteristics, and resource constraints. Fine-tuning pre-trained models is often the best approach for achieving high performance in intent recognition tasks."
      ],
      "metadata": {
        "id": "448GXckCGiE_"
      }
    }
  ],
  "metadata": {
    "colab": {
      "provenance": [],
      "authorship_tag": "ABX9TyMsx0vooRumvWVFRdcO13vd",
      "include_colab_link": true
    },
    "kernelspec": {
      "display_name": "Python 3",
      "name": "python3"
    },
    "language_info": {
      "name": "python"
    },
    "widgets": {
      "application/vnd.jupyter.widget-state+json": {
        "448e3a053e3f43a6a5c8b2f4dc7d73dd": {
          "model_module": "@jupyter-widgets/controls",
          "model_name": "HBoxModel",
          "model_module_version": "1.5.0",
          "state": {
            "_dom_classes": [],
            "_model_module": "@jupyter-widgets/controls",
            "_model_module_version": "1.5.0",
            "_model_name": "HBoxModel",
            "_view_count": null,
            "_view_module": "@jupyter-widgets/controls",
            "_view_module_version": "1.5.0",
            "_view_name": "HBoxView",
            "box_style": "",
            "children": [
              "IPY_MODEL_e09c88a5bb324c1e988d5caf5949f03d",
              "IPY_MODEL_193dd8a1e563435896e5ea8fc26c23a4",
              "IPY_MODEL_d4e62bc7e3d2475ead3e33a8534faba0"
            ],
            "layout": "IPY_MODEL_a3b5a00c9ce1488e9bee68e9e2d534a3"
          }
        },
        "e09c88a5bb324c1e988d5caf5949f03d": {
          "model_module": "@jupyter-widgets/controls",
          "model_name": "HTMLModel",
          "model_module_version": "1.5.0",
          "state": {
            "_dom_classes": [],
            "_model_module": "@jupyter-widgets/controls",
            "_model_module_version": "1.5.0",
            "_model_name": "HTMLModel",
            "_view_count": null,
            "_view_module": "@jupyter-widgets/controls",
            "_view_module_version": "1.5.0",
            "_view_name": "HTMLView",
            "description": "",
            "description_tooltip": null,
            "layout": "IPY_MODEL_08b74ff2c70e43519d6571f74bd980f3",
            "placeholder": "​",
            "style": "IPY_MODEL_f62e0e4df2214878b1d0aad43861f19d",
            "value": "tokenizer_config.json: 100%"
          }
        },
        "193dd8a1e563435896e5ea8fc26c23a4": {
          "model_module": "@jupyter-widgets/controls",
          "model_name": "FloatProgressModel",
          "model_module_version": "1.5.0",
          "state": {
            "_dom_classes": [],
            "_model_module": "@jupyter-widgets/controls",
            "_model_module_version": "1.5.0",
            "_model_name": "FloatProgressModel",
            "_view_count": null,
            "_view_module": "@jupyter-widgets/controls",
            "_view_module_version": "1.5.0",
            "_view_name": "ProgressView",
            "bar_style": "success",
            "description": "",
            "description_tooltip": null,
            "layout": "IPY_MODEL_2f2fe99d31e24125b45eb7b6032982fa",
            "max": 398,
            "min": 0,
            "orientation": "horizontal",
            "style": "IPY_MODEL_b9c3abeb680341f5a04d59e922f9c9d0",
            "value": 398
          }
        },
        "d4e62bc7e3d2475ead3e33a8534faba0": {
          "model_module": "@jupyter-widgets/controls",
          "model_name": "HTMLModel",
          "model_module_version": "1.5.0",
          "state": {
            "_dom_classes": [],
            "_model_module": "@jupyter-widgets/controls",
            "_model_module_version": "1.5.0",
            "_model_name": "HTMLModel",
            "_view_count": null,
            "_view_module": "@jupyter-widgets/controls",
            "_view_module_version": "1.5.0",
            "_view_name": "HTMLView",
            "description": "",
            "description_tooltip": null,
            "layout": "IPY_MODEL_65131af037a1498fbfa19b20f5d5e626",
            "placeholder": "​",
            "style": "IPY_MODEL_854281d7798e4f92b8744f0c1725968e",
            "value": " 398/398 [00:00&lt;00:00, 8.79kB/s]"
          }
        },
        "a3b5a00c9ce1488e9bee68e9e2d534a3": {
          "model_module": "@jupyter-widgets/base",
          "model_name": "LayoutModel",
          "model_module_version": "1.2.0",
          "state": {
            "_model_module": "@jupyter-widgets/base",
            "_model_module_version": "1.2.0",
            "_model_name": "LayoutModel",
            "_view_count": null,
            "_view_module": "@jupyter-widgets/base",
            "_view_module_version": "1.2.0",
            "_view_name": "LayoutView",
            "align_content": null,
            "align_items": null,
            "align_self": null,
            "border": null,
            "bottom": null,
            "display": null,
            "flex": null,
            "flex_flow": null,
            "grid_area": null,
            "grid_auto_columns": null,
            "grid_auto_flow": null,
            "grid_auto_rows": null,
            "grid_column": null,
            "grid_gap": null,
            "grid_row": null,
            "grid_template_areas": null,
            "grid_template_columns": null,
            "grid_template_rows": null,
            "height": null,
            "justify_content": null,
            "justify_items": null,
            "left": null,
            "margin": null,
            "max_height": null,
            "max_width": null,
            "min_height": null,
            "min_width": null,
            "object_fit": null,
            "object_position": null,
            "order": null,
            "overflow": null,
            "overflow_x": null,
            "overflow_y": null,
            "padding": null,
            "right": null,
            "top": null,
            "visibility": null,
            "width": null
          }
        },
        "08b74ff2c70e43519d6571f74bd980f3": {
          "model_module": "@jupyter-widgets/base",
          "model_name": "LayoutModel",
          "model_module_version": "1.2.0",
          "state": {
            "_model_module": "@jupyter-widgets/base",
            "_model_module_version": "1.2.0",
            "_model_name": "LayoutModel",
            "_view_count": null,
            "_view_module": "@jupyter-widgets/base",
            "_view_module_version": "1.2.0",
            "_view_name": "LayoutView",
            "align_content": null,
            "align_items": null,
            "align_self": null,
            "border": null,
            "bottom": null,
            "display": null,
            "flex": null,
            "flex_flow": null,
            "grid_area": null,
            "grid_auto_columns": null,
            "grid_auto_flow": null,
            "grid_auto_rows": null,
            "grid_column": null,
            "grid_gap": null,
            "grid_row": null,
            "grid_template_areas": null,
            "grid_template_columns": null,
            "grid_template_rows": null,
            "height": null,
            "justify_content": null,
            "justify_items": null,
            "left": null,
            "margin": null,
            "max_height": null,
            "max_width": null,
            "min_height": null,
            "min_width": null,
            "object_fit": null,
            "object_position": null,
            "order": null,
            "overflow": null,
            "overflow_x": null,
            "overflow_y": null,
            "padding": null,
            "right": null,
            "top": null,
            "visibility": null,
            "width": null
          }
        },
        "f62e0e4df2214878b1d0aad43861f19d": {
          "model_module": "@jupyter-widgets/controls",
          "model_name": "DescriptionStyleModel",
          "model_module_version": "1.5.0",
          "state": {
            "_model_module": "@jupyter-widgets/controls",
            "_model_module_version": "1.5.0",
            "_model_name": "DescriptionStyleModel",
            "_view_count": null,
            "_view_module": "@jupyter-widgets/base",
            "_view_module_version": "1.2.0",
            "_view_name": "StyleView",
            "description_width": ""
          }
        },
        "2f2fe99d31e24125b45eb7b6032982fa": {
          "model_module": "@jupyter-widgets/base",
          "model_name": "LayoutModel",
          "model_module_version": "1.2.0",
          "state": {
            "_model_module": "@jupyter-widgets/base",
            "_model_module_version": "1.2.0",
            "_model_name": "LayoutModel",
            "_view_count": null,
            "_view_module": "@jupyter-widgets/base",
            "_view_module_version": "1.2.0",
            "_view_name": "LayoutView",
            "align_content": null,
            "align_items": null,
            "align_self": null,
            "border": null,
            "bottom": null,
            "display": null,
            "flex": null,
            "flex_flow": null,
            "grid_area": null,
            "grid_auto_columns": null,
            "grid_auto_flow": null,
            "grid_auto_rows": null,
            "grid_column": null,
            "grid_gap": null,
            "grid_row": null,
            "grid_template_areas": null,
            "grid_template_columns": null,
            "grid_template_rows": null,
            "height": null,
            "justify_content": null,
            "justify_items": null,
            "left": null,
            "margin": null,
            "max_height": null,
            "max_width": null,
            "min_height": null,
            "min_width": null,
            "object_fit": null,
            "object_position": null,
            "order": null,
            "overflow": null,
            "overflow_x": null,
            "overflow_y": null,
            "padding": null,
            "right": null,
            "top": null,
            "visibility": null,
            "width": null
          }
        },
        "b9c3abeb680341f5a04d59e922f9c9d0": {
          "model_module": "@jupyter-widgets/controls",
          "model_name": "ProgressStyleModel",
          "model_module_version": "1.5.0",
          "state": {
            "_model_module": "@jupyter-widgets/controls",
            "_model_module_version": "1.5.0",
            "_model_name": "ProgressStyleModel",
            "_view_count": null,
            "_view_module": "@jupyter-widgets/base",
            "_view_module_version": "1.2.0",
            "_view_name": "StyleView",
            "bar_color": null,
            "description_width": ""
          }
        },
        "65131af037a1498fbfa19b20f5d5e626": {
          "model_module": "@jupyter-widgets/base",
          "model_name": "LayoutModel",
          "model_module_version": "1.2.0",
          "state": {
            "_model_module": "@jupyter-widgets/base",
            "_model_module_version": "1.2.0",
            "_model_name": "LayoutModel",
            "_view_count": null,
            "_view_module": "@jupyter-widgets/base",
            "_view_module_version": "1.2.0",
            "_view_name": "LayoutView",
            "align_content": null,
            "align_items": null,
            "align_self": null,
            "border": null,
            "bottom": null,
            "display": null,
            "flex": null,
            "flex_flow": null,
            "grid_area": null,
            "grid_auto_columns": null,
            "grid_auto_flow": null,
            "grid_auto_rows": null,
            "grid_column": null,
            "grid_gap": null,
            "grid_row": null,
            "grid_template_areas": null,
            "grid_template_columns": null,
            "grid_template_rows": null,
            "height": null,
            "justify_content": null,
            "justify_items": null,
            "left": null,
            "margin": null,
            "max_height": null,
            "max_width": null,
            "min_height": null,
            "min_width": null,
            "object_fit": null,
            "object_position": null,
            "order": null,
            "overflow": null,
            "overflow_x": null,
            "overflow_y": null,
            "padding": null,
            "right": null,
            "top": null,
            "visibility": null,
            "width": null
          }
        },
        "854281d7798e4f92b8744f0c1725968e": {
          "model_module": "@jupyter-widgets/controls",
          "model_name": "DescriptionStyleModel",
          "model_module_version": "1.5.0",
          "state": {
            "_model_module": "@jupyter-widgets/controls",
            "_model_module_version": "1.5.0",
            "_model_name": "DescriptionStyleModel",
            "_view_count": null,
            "_view_module": "@jupyter-widgets/base",
            "_view_module_version": "1.2.0",
            "_view_name": "StyleView",
            "description_width": ""
          }
        },
        "c25104b33d80450a9d240b157cdf88f6": {
          "model_module": "@jupyter-widgets/controls",
          "model_name": "HBoxModel",
          "model_module_version": "1.5.0",
          "state": {
            "_dom_classes": [],
            "_model_module": "@jupyter-widgets/controls",
            "_model_module_version": "1.5.0",
            "_model_name": "HBoxModel",
            "_view_count": null,
            "_view_module": "@jupyter-widgets/controls",
            "_view_module_version": "1.5.0",
            "_view_name": "HBoxView",
            "box_style": "",
            "children": [
              "IPY_MODEL_b04a50a904644760ad05c9998ce6c461",
              "IPY_MODEL_8b279468517b4a29b3e95168d64abbe4",
              "IPY_MODEL_82f03289ef734ebfb7f839459530df3a"
            ],
            "layout": "IPY_MODEL_696a507d59e64fe885d3668e5b077e1f"
          }
        },
        "b04a50a904644760ad05c9998ce6c461": {
          "model_module": "@jupyter-widgets/controls",
          "model_name": "HTMLModel",
          "model_module_version": "1.5.0",
          "state": {
            "_dom_classes": [],
            "_model_module": "@jupyter-widgets/controls",
            "_model_module_version": "1.5.0",
            "_model_name": "HTMLModel",
            "_view_count": null,
            "_view_module": "@jupyter-widgets/controls",
            "_view_module_version": "1.5.0",
            "_view_name": "HTMLView",
            "description": "",
            "description_tooltip": null,
            "layout": "IPY_MODEL_3e693984c458468181c9cdfd6e09ea3c",
            "placeholder": "​",
            "style": "IPY_MODEL_f5003e234c384fde9e9e706ac1ca41d3",
            "value": "sentencepiece.bpe.model: 100%"
          }
        },
        "8b279468517b4a29b3e95168d64abbe4": {
          "model_module": "@jupyter-widgets/controls",
          "model_name": "FloatProgressModel",
          "model_module_version": "1.5.0",
          "state": {
            "_dom_classes": [],
            "_model_module": "@jupyter-widgets/controls",
            "_model_module_version": "1.5.0",
            "_model_name": "FloatProgressModel",
            "_view_count": null,
            "_view_module": "@jupyter-widgets/controls",
            "_view_module_version": "1.5.0",
            "_view_name": "ProgressView",
            "bar_style": "success",
            "description": "",
            "description_tooltip": null,
            "layout": "IPY_MODEL_078ac81623c44ebfb9f9b2e9f673dda3",
            "max": 5069051,
            "min": 0,
            "orientation": "horizontal",
            "style": "IPY_MODEL_73acfdbf717247479aa5b34640506a5e",
            "value": 5069051
          }
        },
        "82f03289ef734ebfb7f839459530df3a": {
          "model_module": "@jupyter-widgets/controls",
          "model_name": "HTMLModel",
          "model_module_version": "1.5.0",
          "state": {
            "_dom_classes": [],
            "_model_module": "@jupyter-widgets/controls",
            "_model_module_version": "1.5.0",
            "_model_name": "HTMLModel",
            "_view_count": null,
            "_view_module": "@jupyter-widgets/controls",
            "_view_module_version": "1.5.0",
            "_view_name": "HTMLView",
            "description": "",
            "description_tooltip": null,
            "layout": "IPY_MODEL_9419f7d264644aec8731c22170bccfa1",
            "placeholder": "​",
            "style": "IPY_MODEL_2daa5882c53c42569469f6961d974d3f",
            "value": " 5.07M/5.07M [00:00&lt;00:00, 10.1MB/s]"
          }
        },
        "696a507d59e64fe885d3668e5b077e1f": {
          "model_module": "@jupyter-widgets/base",
          "model_name": "LayoutModel",
          "model_module_version": "1.2.0",
          "state": {
            "_model_module": "@jupyter-widgets/base",
            "_model_module_version": "1.2.0",
            "_model_name": "LayoutModel",
            "_view_count": null,
            "_view_module": "@jupyter-widgets/base",
            "_view_module_version": "1.2.0",
            "_view_name": "LayoutView",
            "align_content": null,
            "align_items": null,
            "align_self": null,
            "border": null,
            "bottom": null,
            "display": null,
            "flex": null,
            "flex_flow": null,
            "grid_area": null,
            "grid_auto_columns": null,
            "grid_auto_flow": null,
            "grid_auto_rows": null,
            "grid_column": null,
            "grid_gap": null,
            "grid_row": null,
            "grid_template_areas": null,
            "grid_template_columns": null,
            "grid_template_rows": null,
            "height": null,
            "justify_content": null,
            "justify_items": null,
            "left": null,
            "margin": null,
            "max_height": null,
            "max_width": null,
            "min_height": null,
            "min_width": null,
            "object_fit": null,
            "object_position": null,
            "order": null,
            "overflow": null,
            "overflow_x": null,
            "overflow_y": null,
            "padding": null,
            "right": null,
            "top": null,
            "visibility": null,
            "width": null
          }
        },
        "3e693984c458468181c9cdfd6e09ea3c": {
          "model_module": "@jupyter-widgets/base",
          "model_name": "LayoutModel",
          "model_module_version": "1.2.0",
          "state": {
            "_model_module": "@jupyter-widgets/base",
            "_model_module_version": "1.2.0",
            "_model_name": "LayoutModel",
            "_view_count": null,
            "_view_module": "@jupyter-widgets/base",
            "_view_module_version": "1.2.0",
            "_view_name": "LayoutView",
            "align_content": null,
            "align_items": null,
            "align_self": null,
            "border": null,
            "bottom": null,
            "display": null,
            "flex": null,
            "flex_flow": null,
            "grid_area": null,
            "grid_auto_columns": null,
            "grid_auto_flow": null,
            "grid_auto_rows": null,
            "grid_column": null,
            "grid_gap": null,
            "grid_row": null,
            "grid_template_areas": null,
            "grid_template_columns": null,
            "grid_template_rows": null,
            "height": null,
            "justify_content": null,
            "justify_items": null,
            "left": null,
            "margin": null,
            "max_height": null,
            "max_width": null,
            "min_height": null,
            "min_width": null,
            "object_fit": null,
            "object_position": null,
            "order": null,
            "overflow": null,
            "overflow_x": null,
            "overflow_y": null,
            "padding": null,
            "right": null,
            "top": null,
            "visibility": null,
            "width": null
          }
        },
        "f5003e234c384fde9e9e706ac1ca41d3": {
          "model_module": "@jupyter-widgets/controls",
          "model_name": "DescriptionStyleModel",
          "model_module_version": "1.5.0",
          "state": {
            "_model_module": "@jupyter-widgets/controls",
            "_model_module_version": "1.5.0",
            "_model_name": "DescriptionStyleModel",
            "_view_count": null,
            "_view_module": "@jupyter-widgets/base",
            "_view_module_version": "1.2.0",
            "_view_name": "StyleView",
            "description_width": ""
          }
        },
        "078ac81623c44ebfb9f9b2e9f673dda3": {
          "model_module": "@jupyter-widgets/base",
          "model_name": "LayoutModel",
          "model_module_version": "1.2.0",
          "state": {
            "_model_module": "@jupyter-widgets/base",
            "_model_module_version": "1.2.0",
            "_model_name": "LayoutModel",
            "_view_count": null,
            "_view_module": "@jupyter-widgets/base",
            "_view_module_version": "1.2.0",
            "_view_name": "LayoutView",
            "align_content": null,
            "align_items": null,
            "align_self": null,
            "border": null,
            "bottom": null,
            "display": null,
            "flex": null,
            "flex_flow": null,
            "grid_area": null,
            "grid_auto_columns": null,
            "grid_auto_flow": null,
            "grid_auto_rows": null,
            "grid_column": null,
            "grid_gap": null,
            "grid_row": null,
            "grid_template_areas": null,
            "grid_template_columns": null,
            "grid_template_rows": null,
            "height": null,
            "justify_content": null,
            "justify_items": null,
            "left": null,
            "margin": null,
            "max_height": null,
            "max_width": null,
            "min_height": null,
            "min_width": null,
            "object_fit": null,
            "object_position": null,
            "order": null,
            "overflow": null,
            "overflow_x": null,
            "overflow_y": null,
            "padding": null,
            "right": null,
            "top": null,
            "visibility": null,
            "width": null
          }
        },
        "73acfdbf717247479aa5b34640506a5e": {
          "model_module": "@jupyter-widgets/controls",
          "model_name": "ProgressStyleModel",
          "model_module_version": "1.5.0",
          "state": {
            "_model_module": "@jupyter-widgets/controls",
            "_model_module_version": "1.5.0",
            "_model_name": "ProgressStyleModel",
            "_view_count": null,
            "_view_module": "@jupyter-widgets/base",
            "_view_module_version": "1.2.0",
            "_view_name": "StyleView",
            "bar_color": null,
            "description_width": ""
          }
        },
        "9419f7d264644aec8731c22170bccfa1": {
          "model_module": "@jupyter-widgets/base",
          "model_name": "LayoutModel",
          "model_module_version": "1.2.0",
          "state": {
            "_model_module": "@jupyter-widgets/base",
            "_model_module_version": "1.2.0",
            "_model_name": "LayoutModel",
            "_view_count": null,
            "_view_module": "@jupyter-widgets/base",
            "_view_module_version": "1.2.0",
            "_view_name": "LayoutView",
            "align_content": null,
            "align_items": null,
            "align_self": null,
            "border": null,
            "bottom": null,
            "display": null,
            "flex": null,
            "flex_flow": null,
            "grid_area": null,
            "grid_auto_columns": null,
            "grid_auto_flow": null,
            "grid_auto_rows": null,
            "grid_column": null,
            "grid_gap": null,
            "grid_row": null,
            "grid_template_areas": null,
            "grid_template_columns": null,
            "grid_template_rows": null,
            "height": null,
            "justify_content": null,
            "justify_items": null,
            "left": null,
            "margin": null,
            "max_height": null,
            "max_width": null,
            "min_height": null,
            "min_width": null,
            "object_fit": null,
            "object_position": null,
            "order": null,
            "overflow": null,
            "overflow_x": null,
            "overflow_y": null,
            "padding": null,
            "right": null,
            "top": null,
            "visibility": null,
            "width": null
          }
        },
        "2daa5882c53c42569469f6961d974d3f": {
          "model_module": "@jupyter-widgets/controls",
          "model_name": "DescriptionStyleModel",
          "model_module_version": "1.5.0",
          "state": {
            "_model_module": "@jupyter-widgets/controls",
            "_model_module_version": "1.5.0",
            "_model_name": "DescriptionStyleModel",
            "_view_count": null,
            "_view_module": "@jupyter-widgets/base",
            "_view_module_version": "1.2.0",
            "_view_name": "StyleView",
            "description_width": ""
          }
        },
        "0f92b94dabdf44e880b9b4e548e72fbe": {
          "model_module": "@jupyter-widgets/controls",
          "model_name": "HBoxModel",
          "model_module_version": "1.5.0",
          "state": {
            "_dom_classes": [],
            "_model_module": "@jupyter-widgets/controls",
            "_model_module_version": "1.5.0",
            "_model_name": "HBoxModel",
            "_view_count": null,
            "_view_module": "@jupyter-widgets/controls",
            "_view_module_version": "1.5.0",
            "_view_name": "HBoxView",
            "box_style": "",
            "children": [
              "IPY_MODEL_bad517ff8e53487cbd6bd4e3ab626f75",
              "IPY_MODEL_d9e4ed24fadf4179b7dc8897f037021a",
              "IPY_MODEL_4c1afde1e9b34c25ae520832b4df1ea6"
            ],
            "layout": "IPY_MODEL_f38ea43644704f1abe4f8b89db2ff4f1"
          }
        },
        "bad517ff8e53487cbd6bd4e3ab626f75": {
          "model_module": "@jupyter-widgets/controls",
          "model_name": "HTMLModel",
          "model_module_version": "1.5.0",
          "state": {
            "_dom_classes": [],
            "_model_module": "@jupyter-widgets/controls",
            "_model_module_version": "1.5.0",
            "_model_name": "HTMLModel",
            "_view_count": null,
            "_view_module": "@jupyter-widgets/controls",
            "_view_module_version": "1.5.0",
            "_view_name": "HTMLView",
            "description": "",
            "description_tooltip": null,
            "layout": "IPY_MODEL_b48fb6507a184b059925287fad3ab563",
            "placeholder": "​",
            "style": "IPY_MODEL_8c5b0caee1e545e299bd03a6e1aefe98",
            "value": "tokenizer.json: 100%"
          }
        },
        "d9e4ed24fadf4179b7dc8897f037021a": {
          "model_module": "@jupyter-widgets/controls",
          "model_name": "FloatProgressModel",
          "model_module_version": "1.5.0",
          "state": {
            "_dom_classes": [],
            "_model_module": "@jupyter-widgets/controls",
            "_model_module_version": "1.5.0",
            "_model_name": "FloatProgressModel",
            "_view_count": null,
            "_view_module": "@jupyter-widgets/controls",
            "_view_module_version": "1.5.0",
            "_view_name": "ProgressView",
            "bar_style": "success",
            "description": "",
            "description_tooltip": null,
            "layout": "IPY_MODEL_177f2bc7d2a1479ca01e3c6ca5267c09",
            "max": 17082758,
            "min": 0,
            "orientation": "horizontal",
            "style": "IPY_MODEL_ed9a88e24d134990b49ea6414b2c6930",
            "value": 17082758
          }
        },
        "4c1afde1e9b34c25ae520832b4df1ea6": {
          "model_module": "@jupyter-widgets/controls",
          "model_name": "HTMLModel",
          "model_module_version": "1.5.0",
          "state": {
            "_dom_classes": [],
            "_model_module": "@jupyter-widgets/controls",
            "_model_module_version": "1.5.0",
            "_model_name": "HTMLModel",
            "_view_count": null,
            "_view_module": "@jupyter-widgets/controls",
            "_view_module_version": "1.5.0",
            "_view_name": "HTMLView",
            "description": "",
            "description_tooltip": null,
            "layout": "IPY_MODEL_299781f291844e10a08581519830a5d7",
            "placeholder": "​",
            "style": "IPY_MODEL_71d2d407861144c6b32f9d397a4bdee7",
            "value": " 17.1M/17.1M [00:00&lt;00:00, 25.8MB/s]"
          }
        },
        "f38ea43644704f1abe4f8b89db2ff4f1": {
          "model_module": "@jupyter-widgets/base",
          "model_name": "LayoutModel",
          "model_module_version": "1.2.0",
          "state": {
            "_model_module": "@jupyter-widgets/base",
            "_model_module_version": "1.2.0",
            "_model_name": "LayoutModel",
            "_view_count": null,
            "_view_module": "@jupyter-widgets/base",
            "_view_module_version": "1.2.0",
            "_view_name": "LayoutView",
            "align_content": null,
            "align_items": null,
            "align_self": null,
            "border": null,
            "bottom": null,
            "display": null,
            "flex": null,
            "flex_flow": null,
            "grid_area": null,
            "grid_auto_columns": null,
            "grid_auto_flow": null,
            "grid_auto_rows": null,
            "grid_column": null,
            "grid_gap": null,
            "grid_row": null,
            "grid_template_areas": null,
            "grid_template_columns": null,
            "grid_template_rows": null,
            "height": null,
            "justify_content": null,
            "justify_items": null,
            "left": null,
            "margin": null,
            "max_height": null,
            "max_width": null,
            "min_height": null,
            "min_width": null,
            "object_fit": null,
            "object_position": null,
            "order": null,
            "overflow": null,
            "overflow_x": null,
            "overflow_y": null,
            "padding": null,
            "right": null,
            "top": null,
            "visibility": null,
            "width": null
          }
        },
        "b48fb6507a184b059925287fad3ab563": {
          "model_module": "@jupyter-widgets/base",
          "model_name": "LayoutModel",
          "model_module_version": "1.2.0",
          "state": {
            "_model_module": "@jupyter-widgets/base",
            "_model_module_version": "1.2.0",
            "_model_name": "LayoutModel",
            "_view_count": null,
            "_view_module": "@jupyter-widgets/base",
            "_view_module_version": "1.2.0",
            "_view_name": "LayoutView",
            "align_content": null,
            "align_items": null,
            "align_self": null,
            "border": null,
            "bottom": null,
            "display": null,
            "flex": null,
            "flex_flow": null,
            "grid_area": null,
            "grid_auto_columns": null,
            "grid_auto_flow": null,
            "grid_auto_rows": null,
            "grid_column": null,
            "grid_gap": null,
            "grid_row": null,
            "grid_template_areas": null,
            "grid_template_columns": null,
            "grid_template_rows": null,
            "height": null,
            "justify_content": null,
            "justify_items": null,
            "left": null,
            "margin": null,
            "max_height": null,
            "max_width": null,
            "min_height": null,
            "min_width": null,
            "object_fit": null,
            "object_position": null,
            "order": null,
            "overflow": null,
            "overflow_x": null,
            "overflow_y": null,
            "padding": null,
            "right": null,
            "top": null,
            "visibility": null,
            "width": null
          }
        },
        "8c5b0caee1e545e299bd03a6e1aefe98": {
          "model_module": "@jupyter-widgets/controls",
          "model_name": "DescriptionStyleModel",
          "model_module_version": "1.5.0",
          "state": {
            "_model_module": "@jupyter-widgets/controls",
            "_model_module_version": "1.5.0",
            "_model_name": "DescriptionStyleModel",
            "_view_count": null,
            "_view_module": "@jupyter-widgets/base",
            "_view_module_version": "1.2.0",
            "_view_name": "StyleView",
            "description_width": ""
          }
        },
        "177f2bc7d2a1479ca01e3c6ca5267c09": {
          "model_module": "@jupyter-widgets/base",
          "model_name": "LayoutModel",
          "model_module_version": "1.2.0",
          "state": {
            "_model_module": "@jupyter-widgets/base",
            "_model_module_version": "1.2.0",
            "_model_name": "LayoutModel",
            "_view_count": null,
            "_view_module": "@jupyter-widgets/base",
            "_view_module_version": "1.2.0",
            "_view_name": "LayoutView",
            "align_content": null,
            "align_items": null,
            "align_self": null,
            "border": null,
            "bottom": null,
            "display": null,
            "flex": null,
            "flex_flow": null,
            "grid_area": null,
            "grid_auto_columns": null,
            "grid_auto_flow": null,
            "grid_auto_rows": null,
            "grid_column": null,
            "grid_gap": null,
            "grid_row": null,
            "grid_template_areas": null,
            "grid_template_columns": null,
            "grid_template_rows": null,
            "height": null,
            "justify_content": null,
            "justify_items": null,
            "left": null,
            "margin": null,
            "max_height": null,
            "max_width": null,
            "min_height": null,
            "min_width": null,
            "object_fit": null,
            "object_position": null,
            "order": null,
            "overflow": null,
            "overflow_x": null,
            "overflow_y": null,
            "padding": null,
            "right": null,
            "top": null,
            "visibility": null,
            "width": null
          }
        },
        "ed9a88e24d134990b49ea6414b2c6930": {
          "model_module": "@jupyter-widgets/controls",
          "model_name": "ProgressStyleModel",
          "model_module_version": "1.5.0",
          "state": {
            "_model_module": "@jupyter-widgets/controls",
            "_model_module_version": "1.5.0",
            "_model_name": "ProgressStyleModel",
            "_view_count": null,
            "_view_module": "@jupyter-widgets/base",
            "_view_module_version": "1.2.0",
            "_view_name": "StyleView",
            "bar_color": null,
            "description_width": ""
          }
        },
        "299781f291844e10a08581519830a5d7": {
          "model_module": "@jupyter-widgets/base",
          "model_name": "LayoutModel",
          "model_module_version": "1.2.0",
          "state": {
            "_model_module": "@jupyter-widgets/base",
            "_model_module_version": "1.2.0",
            "_model_name": "LayoutModel",
            "_view_count": null,
            "_view_module": "@jupyter-widgets/base",
            "_view_module_version": "1.2.0",
            "_view_name": "LayoutView",
            "align_content": null,
            "align_items": null,
            "align_self": null,
            "border": null,
            "bottom": null,
            "display": null,
            "flex": null,
            "flex_flow": null,
            "grid_area": null,
            "grid_auto_columns": null,
            "grid_auto_flow": null,
            "grid_auto_rows": null,
            "grid_column": null,
            "grid_gap": null,
            "grid_row": null,
            "grid_template_areas": null,
            "grid_template_columns": null,
            "grid_template_rows": null,
            "height": null,
            "justify_content": null,
            "justify_items": null,
            "left": null,
            "margin": null,
            "max_height": null,
            "max_width": null,
            "min_height": null,
            "min_width": null,
            "object_fit": null,
            "object_position": null,
            "order": null,
            "overflow": null,
            "overflow_x": null,
            "overflow_y": null,
            "padding": null,
            "right": null,
            "top": null,
            "visibility": null,
            "width": null
          }
        },
        "71d2d407861144c6b32f9d397a4bdee7": {
          "model_module": "@jupyter-widgets/controls",
          "model_name": "DescriptionStyleModel",
          "model_module_version": "1.5.0",
          "state": {
            "_model_module": "@jupyter-widgets/controls",
            "_model_module_version": "1.5.0",
            "_model_name": "DescriptionStyleModel",
            "_view_count": null,
            "_view_module": "@jupyter-widgets/base",
            "_view_module_version": "1.2.0",
            "_view_name": "StyleView",
            "description_width": ""
          }
        },
        "a5afac8e222e4cc7afa060aa1af98b09": {
          "model_module": "@jupyter-widgets/controls",
          "model_name": "HBoxModel",
          "model_module_version": "1.5.0",
          "state": {
            "_dom_classes": [],
            "_model_module": "@jupyter-widgets/controls",
            "_model_module_version": "1.5.0",
            "_model_name": "HBoxModel",
            "_view_count": null,
            "_view_module": "@jupyter-widgets/controls",
            "_view_module_version": "1.5.0",
            "_view_name": "HBoxView",
            "box_style": "",
            "children": [
              "IPY_MODEL_e4e1cdd033e94df194a050f39b229fc3",
              "IPY_MODEL_9da3fd7c0181433a809d85ae2f8fd5f5",
              "IPY_MODEL_86a1209a71ee42b78df1751259fffa0f"
            ],
            "layout": "IPY_MODEL_3f8169cec2a040a9877b4de94becf114"
          }
        },
        "e4e1cdd033e94df194a050f39b229fc3": {
          "model_module": "@jupyter-widgets/controls",
          "model_name": "HTMLModel",
          "model_module_version": "1.5.0",
          "state": {
            "_dom_classes": [],
            "_model_module": "@jupyter-widgets/controls",
            "_model_module_version": "1.5.0",
            "_model_name": "HTMLModel",
            "_view_count": null,
            "_view_module": "@jupyter-widgets/controls",
            "_view_module_version": "1.5.0",
            "_view_name": "HTMLView",
            "description": "",
            "description_tooltip": null,
            "layout": "IPY_MODEL_701a5f51983f4b8baa0aa963ef3aa1d9",
            "placeholder": "​",
            "style": "IPY_MODEL_713f875cd4394451ad6e101cb6c183cb",
            "value": "special_tokens_map.json: 100%"
          }
        },
        "9da3fd7c0181433a809d85ae2f8fd5f5": {
          "model_module": "@jupyter-widgets/controls",
          "model_name": "FloatProgressModel",
          "model_module_version": "1.5.0",
          "state": {
            "_dom_classes": [],
            "_model_module": "@jupyter-widgets/controls",
            "_model_module_version": "1.5.0",
            "_model_name": "FloatProgressModel",
            "_view_count": null,
            "_view_module": "@jupyter-widgets/controls",
            "_view_module_version": "1.5.0",
            "_view_name": "ProgressView",
            "bar_style": "success",
            "description": "",
            "description_tooltip": null,
            "layout": "IPY_MODEL_5aad14955421421791f9e8cca1ff3ffc",
            "max": 239,
            "min": 0,
            "orientation": "horizontal",
            "style": "IPY_MODEL_b09e571369a546bc89053504d33aab35",
            "value": 239
          }
        },
        "86a1209a71ee42b78df1751259fffa0f": {
          "model_module": "@jupyter-widgets/controls",
          "model_name": "HTMLModel",
          "model_module_version": "1.5.0",
          "state": {
            "_dom_classes": [],
            "_model_module": "@jupyter-widgets/controls",
            "_model_module_version": "1.5.0",
            "_model_name": "HTMLModel",
            "_view_count": null,
            "_view_module": "@jupyter-widgets/controls",
            "_view_module_version": "1.5.0",
            "_view_name": "HTMLView",
            "description": "",
            "description_tooltip": null,
            "layout": "IPY_MODEL_ffddd18475664da2b4ef728aacaa236e",
            "placeholder": "​",
            "style": "IPY_MODEL_306d1b218fc342cf837738de6ef9cdcd",
            "value": " 239/239 [00:00&lt;00:00, 8.41kB/s]"
          }
        },
        "3f8169cec2a040a9877b4de94becf114": {
          "model_module": "@jupyter-widgets/base",
          "model_name": "LayoutModel",
          "model_module_version": "1.2.0",
          "state": {
            "_model_module": "@jupyter-widgets/base",
            "_model_module_version": "1.2.0",
            "_model_name": "LayoutModel",
            "_view_count": null,
            "_view_module": "@jupyter-widgets/base",
            "_view_module_version": "1.2.0",
            "_view_name": "LayoutView",
            "align_content": null,
            "align_items": null,
            "align_self": null,
            "border": null,
            "bottom": null,
            "display": null,
            "flex": null,
            "flex_flow": null,
            "grid_area": null,
            "grid_auto_columns": null,
            "grid_auto_flow": null,
            "grid_auto_rows": null,
            "grid_column": null,
            "grid_gap": null,
            "grid_row": null,
            "grid_template_areas": null,
            "grid_template_columns": null,
            "grid_template_rows": null,
            "height": null,
            "justify_content": null,
            "justify_items": null,
            "left": null,
            "margin": null,
            "max_height": null,
            "max_width": null,
            "min_height": null,
            "min_width": null,
            "object_fit": null,
            "object_position": null,
            "order": null,
            "overflow": null,
            "overflow_x": null,
            "overflow_y": null,
            "padding": null,
            "right": null,
            "top": null,
            "visibility": null,
            "width": null
          }
        },
        "701a5f51983f4b8baa0aa963ef3aa1d9": {
          "model_module": "@jupyter-widgets/base",
          "model_name": "LayoutModel",
          "model_module_version": "1.2.0",
          "state": {
            "_model_module": "@jupyter-widgets/base",
            "_model_module_version": "1.2.0",
            "_model_name": "LayoutModel",
            "_view_count": null,
            "_view_module": "@jupyter-widgets/base",
            "_view_module_version": "1.2.0",
            "_view_name": "LayoutView",
            "align_content": null,
            "align_items": null,
            "align_self": null,
            "border": null,
            "bottom": null,
            "display": null,
            "flex": null,
            "flex_flow": null,
            "grid_area": null,
            "grid_auto_columns": null,
            "grid_auto_flow": null,
            "grid_auto_rows": null,
            "grid_column": null,
            "grid_gap": null,
            "grid_row": null,
            "grid_template_areas": null,
            "grid_template_columns": null,
            "grid_template_rows": null,
            "height": null,
            "justify_content": null,
            "justify_items": null,
            "left": null,
            "margin": null,
            "max_height": null,
            "max_width": null,
            "min_height": null,
            "min_width": null,
            "object_fit": null,
            "object_position": null,
            "order": null,
            "overflow": null,
            "overflow_x": null,
            "overflow_y": null,
            "padding": null,
            "right": null,
            "top": null,
            "visibility": null,
            "width": null
          }
        },
        "713f875cd4394451ad6e101cb6c183cb": {
          "model_module": "@jupyter-widgets/controls",
          "model_name": "DescriptionStyleModel",
          "model_module_version": "1.5.0",
          "state": {
            "_model_module": "@jupyter-widgets/controls",
            "_model_module_version": "1.5.0",
            "_model_name": "DescriptionStyleModel",
            "_view_count": null,
            "_view_module": "@jupyter-widgets/base",
            "_view_module_version": "1.2.0",
            "_view_name": "StyleView",
            "description_width": ""
          }
        },
        "5aad14955421421791f9e8cca1ff3ffc": {
          "model_module": "@jupyter-widgets/base",
          "model_name": "LayoutModel",
          "model_module_version": "1.2.0",
          "state": {
            "_model_module": "@jupyter-widgets/base",
            "_model_module_version": "1.2.0",
            "_model_name": "LayoutModel",
            "_view_count": null,
            "_view_module": "@jupyter-widgets/base",
            "_view_module_version": "1.2.0",
            "_view_name": "LayoutView",
            "align_content": null,
            "align_items": null,
            "align_self": null,
            "border": null,
            "bottom": null,
            "display": null,
            "flex": null,
            "flex_flow": null,
            "grid_area": null,
            "grid_auto_columns": null,
            "grid_auto_flow": null,
            "grid_auto_rows": null,
            "grid_column": null,
            "grid_gap": null,
            "grid_row": null,
            "grid_template_areas": null,
            "grid_template_columns": null,
            "grid_template_rows": null,
            "height": null,
            "justify_content": null,
            "justify_items": null,
            "left": null,
            "margin": null,
            "max_height": null,
            "max_width": null,
            "min_height": null,
            "min_width": null,
            "object_fit": null,
            "object_position": null,
            "order": null,
            "overflow": null,
            "overflow_x": null,
            "overflow_y": null,
            "padding": null,
            "right": null,
            "top": null,
            "visibility": null,
            "width": null
          }
        },
        "b09e571369a546bc89053504d33aab35": {
          "model_module": "@jupyter-widgets/controls",
          "model_name": "ProgressStyleModel",
          "model_module_version": "1.5.0",
          "state": {
            "_model_module": "@jupyter-widgets/controls",
            "_model_module_version": "1.5.0",
            "_model_name": "ProgressStyleModel",
            "_view_count": null,
            "_view_module": "@jupyter-widgets/base",
            "_view_module_version": "1.2.0",
            "_view_name": "StyleView",
            "bar_color": null,
            "description_width": ""
          }
        },
        "ffddd18475664da2b4ef728aacaa236e": {
          "model_module": "@jupyter-widgets/base",
          "model_name": "LayoutModel",
          "model_module_version": "1.2.0",
          "state": {
            "_model_module": "@jupyter-widgets/base",
            "_model_module_version": "1.2.0",
            "_model_name": "LayoutModel",
            "_view_count": null,
            "_view_module": "@jupyter-widgets/base",
            "_view_module_version": "1.2.0",
            "_view_name": "LayoutView",
            "align_content": null,
            "align_items": null,
            "align_self": null,
            "border": null,
            "bottom": null,
            "display": null,
            "flex": null,
            "flex_flow": null,
            "grid_area": null,
            "grid_auto_columns": null,
            "grid_auto_flow": null,
            "grid_auto_rows": null,
            "grid_column": null,
            "grid_gap": null,
            "grid_row": null,
            "grid_template_areas": null,
            "grid_template_columns": null,
            "grid_template_rows": null,
            "height": null,
            "justify_content": null,
            "justify_items": null,
            "left": null,
            "margin": null,
            "max_height": null,
            "max_width": null,
            "min_height": null,
            "min_width": null,
            "object_fit": null,
            "object_position": null,
            "order": null,
            "overflow": null,
            "overflow_x": null,
            "overflow_y": null,
            "padding": null,
            "right": null,
            "top": null,
            "visibility": null,
            "width": null
          }
        },
        "306d1b218fc342cf837738de6ef9cdcd": {
          "model_module": "@jupyter-widgets/controls",
          "model_name": "DescriptionStyleModel",
          "model_module_version": "1.5.0",
          "state": {
            "_model_module": "@jupyter-widgets/controls",
            "_model_module_version": "1.5.0",
            "_model_name": "DescriptionStyleModel",
            "_view_count": null,
            "_view_module": "@jupyter-widgets/base",
            "_view_module_version": "1.2.0",
            "_view_name": "StyleView",
            "description_width": ""
          }
        },
        "526e70d9f9be4052a6b1761b58be2b7f": {
          "model_module": "@jupyter-widgets/controls",
          "model_name": "HBoxModel",
          "model_module_version": "1.5.0",
          "state": {
            "_dom_classes": [],
            "_model_module": "@jupyter-widgets/controls",
            "_model_module_version": "1.5.0",
            "_model_name": "HBoxModel",
            "_view_count": null,
            "_view_module": "@jupyter-widgets/controls",
            "_view_module_version": "1.5.0",
            "_view_name": "HBoxView",
            "box_style": "",
            "children": [
              "IPY_MODEL_4161b85f9abb40be805fef2b42ce4393",
              "IPY_MODEL_d4e330a99f8b4643b95e853712bd70a1",
              "IPY_MODEL_5e32cba5d602431eb273e5eb134cb985"
            ],
            "layout": "IPY_MODEL_56b280a92ea24c5cbebcb49ddd5f2275"
          }
        },
        "4161b85f9abb40be805fef2b42ce4393": {
          "model_module": "@jupyter-widgets/controls",
          "model_name": "HTMLModel",
          "model_module_version": "1.5.0",
          "state": {
            "_dom_classes": [],
            "_model_module": "@jupyter-widgets/controls",
            "_model_module_version": "1.5.0",
            "_model_name": "HTMLModel",
            "_view_count": null,
            "_view_module": "@jupyter-widgets/controls",
            "_view_module_version": "1.5.0",
            "_view_name": "HTMLView",
            "description": "",
            "description_tooltip": null,
            "layout": "IPY_MODEL_80ed7c7abcb642b69a833c055a5ee28f",
            "placeholder": "​",
            "style": "IPY_MODEL_0b4a68df3c3441a0a7fe4f3ccc741056",
            "value": "config.json: 100%"
          }
        },
        "d4e330a99f8b4643b95e853712bd70a1": {
          "model_module": "@jupyter-widgets/controls",
          "model_name": "FloatProgressModel",
          "model_module_version": "1.5.0",
          "state": {
            "_dom_classes": [],
            "_model_module": "@jupyter-widgets/controls",
            "_model_module_version": "1.5.0",
            "_model_name": "FloatProgressModel",
            "_view_count": null,
            "_view_module": "@jupyter-widgets/controls",
            "_view_module_version": "1.5.0",
            "_view_name": "ProgressView",
            "bar_style": "success",
            "description": "",
            "description_tooltip": null,
            "layout": "IPY_MODEL_aaf51e7dc1fe41098527cd51c9bcca61",
            "max": 4002,
            "min": 0,
            "orientation": "horizontal",
            "style": "IPY_MODEL_6ebde37087d64f86b934bdc3b0f32fe5",
            "value": 4002
          }
        },
        "5e32cba5d602431eb273e5eb134cb985": {
          "model_module": "@jupyter-widgets/controls",
          "model_name": "HTMLModel",
          "model_module_version": "1.5.0",
          "state": {
            "_dom_classes": [],
            "_model_module": "@jupyter-widgets/controls",
            "_model_module_version": "1.5.0",
            "_model_name": "HTMLModel",
            "_view_count": null,
            "_view_module": "@jupyter-widgets/controls",
            "_view_module_version": "1.5.0",
            "_view_name": "HTMLView",
            "description": "",
            "description_tooltip": null,
            "layout": "IPY_MODEL_9dfbb129a1294b078ecf290651b2a953",
            "placeholder": "​",
            "style": "IPY_MODEL_cb06ee816f4d489bae5f09fdbbdeef29",
            "value": " 4.00k/4.00k [00:00&lt;00:00, 227kB/s]"
          }
        },
        "56b280a92ea24c5cbebcb49ddd5f2275": {
          "model_module": "@jupyter-widgets/base",
          "model_name": "LayoutModel",
          "model_module_version": "1.2.0",
          "state": {
            "_model_module": "@jupyter-widgets/base",
            "_model_module_version": "1.2.0",
            "_model_name": "LayoutModel",
            "_view_count": null,
            "_view_module": "@jupyter-widgets/base",
            "_view_module_version": "1.2.0",
            "_view_name": "LayoutView",
            "align_content": null,
            "align_items": null,
            "align_self": null,
            "border": null,
            "bottom": null,
            "display": null,
            "flex": null,
            "flex_flow": null,
            "grid_area": null,
            "grid_auto_columns": null,
            "grid_auto_flow": null,
            "grid_auto_rows": null,
            "grid_column": null,
            "grid_gap": null,
            "grid_row": null,
            "grid_template_areas": null,
            "grid_template_columns": null,
            "grid_template_rows": null,
            "height": null,
            "justify_content": null,
            "justify_items": null,
            "left": null,
            "margin": null,
            "max_height": null,
            "max_width": null,
            "min_height": null,
            "min_width": null,
            "object_fit": null,
            "object_position": null,
            "order": null,
            "overflow": null,
            "overflow_x": null,
            "overflow_y": null,
            "padding": null,
            "right": null,
            "top": null,
            "visibility": null,
            "width": null
          }
        },
        "80ed7c7abcb642b69a833c055a5ee28f": {
          "model_module": "@jupyter-widgets/base",
          "model_name": "LayoutModel",
          "model_module_version": "1.2.0",
          "state": {
            "_model_module": "@jupyter-widgets/base",
            "_model_module_version": "1.2.0",
            "_model_name": "LayoutModel",
            "_view_count": null,
            "_view_module": "@jupyter-widgets/base",
            "_view_module_version": "1.2.0",
            "_view_name": "LayoutView",
            "align_content": null,
            "align_items": null,
            "align_self": null,
            "border": null,
            "bottom": null,
            "display": null,
            "flex": null,
            "flex_flow": null,
            "grid_area": null,
            "grid_auto_columns": null,
            "grid_auto_flow": null,
            "grid_auto_rows": null,
            "grid_column": null,
            "grid_gap": null,
            "grid_row": null,
            "grid_template_areas": null,
            "grid_template_columns": null,
            "grid_template_rows": null,
            "height": null,
            "justify_content": null,
            "justify_items": null,
            "left": null,
            "margin": null,
            "max_height": null,
            "max_width": null,
            "min_height": null,
            "min_width": null,
            "object_fit": null,
            "object_position": null,
            "order": null,
            "overflow": null,
            "overflow_x": null,
            "overflow_y": null,
            "padding": null,
            "right": null,
            "top": null,
            "visibility": null,
            "width": null
          }
        },
        "0b4a68df3c3441a0a7fe4f3ccc741056": {
          "model_module": "@jupyter-widgets/controls",
          "model_name": "DescriptionStyleModel",
          "model_module_version": "1.5.0",
          "state": {
            "_model_module": "@jupyter-widgets/controls",
            "_model_module_version": "1.5.0",
            "_model_name": "DescriptionStyleModel",
            "_view_count": null,
            "_view_module": "@jupyter-widgets/base",
            "_view_module_version": "1.2.0",
            "_view_name": "StyleView",
            "description_width": ""
          }
        },
        "aaf51e7dc1fe41098527cd51c9bcca61": {
          "model_module": "@jupyter-widgets/base",
          "model_name": "LayoutModel",
          "model_module_version": "1.2.0",
          "state": {
            "_model_module": "@jupyter-widgets/base",
            "_model_module_version": "1.2.0",
            "_model_name": "LayoutModel",
            "_view_count": null,
            "_view_module": "@jupyter-widgets/base",
            "_view_module_version": "1.2.0",
            "_view_name": "LayoutView",
            "align_content": null,
            "align_items": null,
            "align_self": null,
            "border": null,
            "bottom": null,
            "display": null,
            "flex": null,
            "flex_flow": null,
            "grid_area": null,
            "grid_auto_columns": null,
            "grid_auto_flow": null,
            "grid_auto_rows": null,
            "grid_column": null,
            "grid_gap": null,
            "grid_row": null,
            "grid_template_areas": null,
            "grid_template_columns": null,
            "grid_template_rows": null,
            "height": null,
            "justify_content": null,
            "justify_items": null,
            "left": null,
            "margin": null,
            "max_height": null,
            "max_width": null,
            "min_height": null,
            "min_width": null,
            "object_fit": null,
            "object_position": null,
            "order": null,
            "overflow": null,
            "overflow_x": null,
            "overflow_y": null,
            "padding": null,
            "right": null,
            "top": null,
            "visibility": null,
            "width": null
          }
        },
        "6ebde37087d64f86b934bdc3b0f32fe5": {
          "model_module": "@jupyter-widgets/controls",
          "model_name": "ProgressStyleModel",
          "model_module_version": "1.5.0",
          "state": {
            "_model_module": "@jupyter-widgets/controls",
            "_model_module_version": "1.5.0",
            "_model_name": "ProgressStyleModel",
            "_view_count": null,
            "_view_module": "@jupyter-widgets/base",
            "_view_module_version": "1.2.0",
            "_view_name": "StyleView",
            "bar_color": null,
            "description_width": ""
          }
        },
        "9dfbb129a1294b078ecf290651b2a953": {
          "model_module": "@jupyter-widgets/base",
          "model_name": "LayoutModel",
          "model_module_version": "1.2.0",
          "state": {
            "_model_module": "@jupyter-widgets/base",
            "_model_module_version": "1.2.0",
            "_model_name": "LayoutModel",
            "_view_count": null,
            "_view_module": "@jupyter-widgets/base",
            "_view_module_version": "1.2.0",
            "_view_name": "LayoutView",
            "align_content": null,
            "align_items": null,
            "align_self": null,
            "border": null,
            "bottom": null,
            "display": null,
            "flex": null,
            "flex_flow": null,
            "grid_area": null,
            "grid_auto_columns": null,
            "grid_auto_flow": null,
            "grid_auto_rows": null,
            "grid_column": null,
            "grid_gap": null,
            "grid_row": null,
            "grid_template_areas": null,
            "grid_template_columns": null,
            "grid_template_rows": null,
            "height": null,
            "justify_content": null,
            "justify_items": null,
            "left": null,
            "margin": null,
            "max_height": null,
            "max_width": null,
            "min_height": null,
            "min_width": null,
            "object_fit": null,
            "object_position": null,
            "order": null,
            "overflow": null,
            "overflow_x": null,
            "overflow_y": null,
            "padding": null,
            "right": null,
            "top": null,
            "visibility": null,
            "width": null
          }
        },
        "cb06ee816f4d489bae5f09fdbbdeef29": {
          "model_module": "@jupyter-widgets/controls",
          "model_name": "DescriptionStyleModel",
          "model_module_version": "1.5.0",
          "state": {
            "_model_module": "@jupyter-widgets/controls",
            "_model_module_version": "1.5.0",
            "_model_name": "DescriptionStyleModel",
            "_view_count": null,
            "_view_module": "@jupyter-widgets/base",
            "_view_module_version": "1.2.0",
            "_view_name": "StyleView",
            "description_width": ""
          }
        },
        "f6163f2cae754cdeb798bc2e41ec3d70": {
          "model_module": "@jupyter-widgets/controls",
          "model_name": "HBoxModel",
          "model_module_version": "1.5.0",
          "state": {
            "_dom_classes": [],
            "_model_module": "@jupyter-widgets/controls",
            "_model_module_version": "1.5.0",
            "_model_name": "HBoxModel",
            "_view_count": null,
            "_view_module": "@jupyter-widgets/controls",
            "_view_module_version": "1.5.0",
            "_view_name": "HBoxView",
            "box_style": "",
            "children": [
              "IPY_MODEL_391092851f574c7fac850b8f6d2675ac",
              "IPY_MODEL_f6d27a94e8884d158d2e75f73e9af7e9",
              "IPY_MODEL_0d1848e57b784f8a9292acc7ea224cad"
            ],
            "layout": "IPY_MODEL_b110c5f1a5ec49f88f52e125dffa6a05"
          }
        },
        "391092851f574c7fac850b8f6d2675ac": {
          "model_module": "@jupyter-widgets/controls",
          "model_name": "HTMLModel",
          "model_module_version": "1.5.0",
          "state": {
            "_dom_classes": [],
            "_model_module": "@jupyter-widgets/controls",
            "_model_module_version": "1.5.0",
            "_model_name": "HTMLModel",
            "_view_count": null,
            "_view_module": "@jupyter-widgets/controls",
            "_view_module_version": "1.5.0",
            "_view_name": "HTMLView",
            "description": "",
            "description_tooltip": null,
            "layout": "IPY_MODEL_f8d89b478b8b4379b2e06a343cf7d1f8",
            "placeholder": "​",
            "style": "IPY_MODEL_88bdc3c8d44a4dfe97e2fefeaf6f9c7d",
            "value": "pytorch_model.bin: 100%"
          }
        },
        "f6d27a94e8884d158d2e75f73e9af7e9": {
          "model_module": "@jupyter-widgets/controls",
          "model_name": "FloatProgressModel",
          "model_module_version": "1.5.0",
          "state": {
            "_dom_classes": [],
            "_model_module": "@jupyter-widgets/controls",
            "_model_module_version": "1.5.0",
            "_model_name": "FloatProgressModel",
            "_view_count": null,
            "_view_module": "@jupyter-widgets/controls",
            "_view_module_version": "1.5.0",
            "_view_name": "ProgressView",
            "bar_style": "success",
            "description": "",
            "description_tooltip": null,
            "layout": "IPY_MODEL_b293dfa42fe64082b1b9a46c88c39e80",
            "max": 1112430765,
            "min": 0,
            "orientation": "horizontal",
            "style": "IPY_MODEL_3bbec8948bcf4295b162a70b9b6883dd",
            "value": 1112430765
          }
        },
        "0d1848e57b784f8a9292acc7ea224cad": {
          "model_module": "@jupyter-widgets/controls",
          "model_name": "HTMLModel",
          "model_module_version": "1.5.0",
          "state": {
            "_dom_classes": [],
            "_model_module": "@jupyter-widgets/controls",
            "_model_module_version": "1.5.0",
            "_model_name": "HTMLModel",
            "_view_count": null,
            "_view_module": "@jupyter-widgets/controls",
            "_view_module_version": "1.5.0",
            "_view_name": "HTMLView",
            "description": "",
            "description_tooltip": null,
            "layout": "IPY_MODEL_d2ec327047144622b33759c9d3216be9",
            "placeholder": "​",
            "style": "IPY_MODEL_06722ffc07314db6a9ea036486c38d27",
            "value": " 1.11G/1.11G [00:22&lt;00:00, 49.1MB/s]"
          }
        },
        "b110c5f1a5ec49f88f52e125dffa6a05": {
          "model_module": "@jupyter-widgets/base",
          "model_name": "LayoutModel",
          "model_module_version": "1.2.0",
          "state": {
            "_model_module": "@jupyter-widgets/base",
            "_model_module_version": "1.2.0",
            "_model_name": "LayoutModel",
            "_view_count": null,
            "_view_module": "@jupyter-widgets/base",
            "_view_module_version": "1.2.0",
            "_view_name": "LayoutView",
            "align_content": null,
            "align_items": null,
            "align_self": null,
            "border": null,
            "bottom": null,
            "display": null,
            "flex": null,
            "flex_flow": null,
            "grid_area": null,
            "grid_auto_columns": null,
            "grid_auto_flow": null,
            "grid_auto_rows": null,
            "grid_column": null,
            "grid_gap": null,
            "grid_row": null,
            "grid_template_areas": null,
            "grid_template_columns": null,
            "grid_template_rows": null,
            "height": null,
            "justify_content": null,
            "justify_items": null,
            "left": null,
            "margin": null,
            "max_height": null,
            "max_width": null,
            "min_height": null,
            "min_width": null,
            "object_fit": null,
            "object_position": null,
            "order": null,
            "overflow": null,
            "overflow_x": null,
            "overflow_y": null,
            "padding": null,
            "right": null,
            "top": null,
            "visibility": null,
            "width": null
          }
        },
        "f8d89b478b8b4379b2e06a343cf7d1f8": {
          "model_module": "@jupyter-widgets/base",
          "model_name": "LayoutModel",
          "model_module_version": "1.2.0",
          "state": {
            "_model_module": "@jupyter-widgets/base",
            "_model_module_version": "1.2.0",
            "_model_name": "LayoutModel",
            "_view_count": null,
            "_view_module": "@jupyter-widgets/base",
            "_view_module_version": "1.2.0",
            "_view_name": "LayoutView",
            "align_content": null,
            "align_items": null,
            "align_self": null,
            "border": null,
            "bottom": null,
            "display": null,
            "flex": null,
            "flex_flow": null,
            "grid_area": null,
            "grid_auto_columns": null,
            "grid_auto_flow": null,
            "grid_auto_rows": null,
            "grid_column": null,
            "grid_gap": null,
            "grid_row": null,
            "grid_template_areas": null,
            "grid_template_columns": null,
            "grid_template_rows": null,
            "height": null,
            "justify_content": null,
            "justify_items": null,
            "left": null,
            "margin": null,
            "max_height": null,
            "max_width": null,
            "min_height": null,
            "min_width": null,
            "object_fit": null,
            "object_position": null,
            "order": null,
            "overflow": null,
            "overflow_x": null,
            "overflow_y": null,
            "padding": null,
            "right": null,
            "top": null,
            "visibility": null,
            "width": null
          }
        },
        "88bdc3c8d44a4dfe97e2fefeaf6f9c7d": {
          "model_module": "@jupyter-widgets/controls",
          "model_name": "DescriptionStyleModel",
          "model_module_version": "1.5.0",
          "state": {
            "_model_module": "@jupyter-widgets/controls",
            "_model_module_version": "1.5.0",
            "_model_name": "DescriptionStyleModel",
            "_view_count": null,
            "_view_module": "@jupyter-widgets/base",
            "_view_module_version": "1.2.0",
            "_view_name": "StyleView",
            "description_width": ""
          }
        },
        "b293dfa42fe64082b1b9a46c88c39e80": {
          "model_module": "@jupyter-widgets/base",
          "model_name": "LayoutModel",
          "model_module_version": "1.2.0",
          "state": {
            "_model_module": "@jupyter-widgets/base",
            "_model_module_version": "1.2.0",
            "_model_name": "LayoutModel",
            "_view_count": null,
            "_view_module": "@jupyter-widgets/base",
            "_view_module_version": "1.2.0",
            "_view_name": "LayoutView",
            "align_content": null,
            "align_items": null,
            "align_self": null,
            "border": null,
            "bottom": null,
            "display": null,
            "flex": null,
            "flex_flow": null,
            "grid_area": null,
            "grid_auto_columns": null,
            "grid_auto_flow": null,
            "grid_auto_rows": null,
            "grid_column": null,
            "grid_gap": null,
            "grid_row": null,
            "grid_template_areas": null,
            "grid_template_columns": null,
            "grid_template_rows": null,
            "height": null,
            "justify_content": null,
            "justify_items": null,
            "left": null,
            "margin": null,
            "max_height": null,
            "max_width": null,
            "min_height": null,
            "min_width": null,
            "object_fit": null,
            "object_position": null,
            "order": null,
            "overflow": null,
            "overflow_x": null,
            "overflow_y": null,
            "padding": null,
            "right": null,
            "top": null,
            "visibility": null,
            "width": null
          }
        },
        "3bbec8948bcf4295b162a70b9b6883dd": {
          "model_module": "@jupyter-widgets/controls",
          "model_name": "ProgressStyleModel",
          "model_module_version": "1.5.0",
          "state": {
            "_model_module": "@jupyter-widgets/controls",
            "_model_module_version": "1.5.0",
            "_model_name": "ProgressStyleModel",
            "_view_count": null,
            "_view_module": "@jupyter-widgets/base",
            "_view_module_version": "1.2.0",
            "_view_name": "StyleView",
            "bar_color": null,
            "description_width": ""
          }
        },
        "d2ec327047144622b33759c9d3216be9": {
          "model_module": "@jupyter-widgets/base",
          "model_name": "LayoutModel",
          "model_module_version": "1.2.0",
          "state": {
            "_model_module": "@jupyter-widgets/base",
            "_model_module_version": "1.2.0",
            "_model_name": "LayoutModel",
            "_view_count": null,
            "_view_module": "@jupyter-widgets/base",
            "_view_module_version": "1.2.0",
            "_view_name": "LayoutView",
            "align_content": null,
            "align_items": null,
            "align_self": null,
            "border": null,
            "bottom": null,
            "display": null,
            "flex": null,
            "flex_flow": null,
            "grid_area": null,
            "grid_auto_columns": null,
            "grid_auto_flow": null,
            "grid_auto_rows": null,
            "grid_column": null,
            "grid_gap": null,
            "grid_row": null,
            "grid_template_areas": null,
            "grid_template_columns": null,
            "grid_template_rows": null,
            "height": null,
            "justify_content": null,
            "justify_items": null,
            "left": null,
            "margin": null,
            "max_height": null,
            "max_width": null,
            "min_height": null,
            "min_width": null,
            "object_fit": null,
            "object_position": null,
            "order": null,
            "overflow": null,
            "overflow_x": null,
            "overflow_y": null,
            "padding": null,
            "right": null,
            "top": null,
            "visibility": null,
            "width": null
          }
        },
        "06722ffc07314db6a9ea036486c38d27": {
          "model_module": "@jupyter-widgets/controls",
          "model_name": "DescriptionStyleModel",
          "model_module_version": "1.5.0",
          "state": {
            "_model_module": "@jupyter-widgets/controls",
            "_model_module_version": "1.5.0",
            "_model_name": "DescriptionStyleModel",
            "_view_count": null,
            "_view_module": "@jupyter-widgets/base",
            "_view_module_version": "1.2.0",
            "_view_name": "StyleView",
            "description_width": ""
          }
        }
      }
    }
  },
  "nbformat": 4,
  "nbformat_minor": 0
}